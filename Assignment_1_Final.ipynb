{
 "cells": [
  {
   "cell_type": "code",
   "execution_count": 3,
   "metadata": {},
   "outputs": [],
   "source": [
    "from collections import Counter\n",
    "import spacy\n",
    "import textacy\n",
    "from spacy import displacy\n",
    "import pandas as pd\n",
    "import numpy as np\n",
    "from wordfreq import word_frequency\n",
    "from wordfreq import zipf_frequency\n",
    "import matplotlib.pyplot as plt\n",
    "import random\n",
    "import os\n",
    "nlp = spacy.load('en_core_web_sm')"
   ]
  },
  {
   "cell_type": "code",
   "execution_count": 5,
   "metadata": {},
   "outputs": [],
   "source": [
    "cwd = os.getcwd()\n",
    "train_data = open(f'{cwd}/data/preprocessed/train/sentences.txt', encoding='utf-8')\n",
    "text = train_data.read()\n",
    "train_data_doc = nlp(text)"
   ]
  },
  {
   "cell_type": "markdown",
   "metadata": {},
   "source": [
    "<h1><b>PART A</b></h1>"
   ]
  },
  {
   "cell_type": "markdown",
   "metadata": {},
   "source": [
    "<b>TASK 1</b>"
   ]
  },
  {
   "cell_type": "code",
   "execution_count": 6,
   "metadata": {},
   "outputs": [
    {
     "name": "stdout",
     "output_type": "stream",
     "text": [
      "Number of Tokens: 16130\n",
      "Number of Words: 13242\n",
      "Number of Types: 3721\n",
      "Average number of words per sentence: 18.44\n",
      "Average word length: 3.57\n"
     ]
    }
   ],
   "source": [
    "word_frequencies = Counter()\n",
    "words_per_sentence = []\n",
    "\n",
    "for sentence in train_data_doc.sents:\n",
    "    words = []\n",
    "    words_single_sentence = 0\n",
    "    for token in sentence:\n",
    "        # Let's filter out punctuation and new lines (\"/n\")\n",
    "        if (not token.is_punct) and (not token.is_space):\n",
    "            words.append(token.text)\n",
    "            words_single_sentence += 1\n",
    "    words_per_sentence.append(words_single_sentence)\n",
    "    word_frequencies.update(words)\n",
    "\n",
    "#print(word_frequencies)\n",
    "num_tokens = len(train_data_doc)\n",
    "num_words = sum(word_frequencies.values())\n",
    "num_types = len(word_frequencies.keys())\n",
    "avg_num_words_per_sentence = sum(words_per_sentence) / len(words_per_sentence)\n",
    "avg_word_length = sum(len(word) for word in words) / len(words)\n",
    "\n",
    "print('Number of Tokens: ' + str(num_tokens))\n",
    "print('Number of Words: ' + str(num_words))\n",
    "print('Number of Types: ' + str(num_types))\n",
    "\n",
    "print('Average number of words per sentence: {number:.{digits}f}'.format(number = avg_num_words_per_sentence, digits = 2))\n",
    "print('Average word length: {number:.{digits}f}'.format(number = avg_word_length, digits = 2))"
   ]
  },
  {
   "cell_type": "markdown",
   "metadata": {},
   "source": [
    "<b>TASK 2</b>"
   ]
  },
  {
   "cell_type": "code",
   "execution_count": 67,
   "metadata": {},
   "outputs": [
    {
     "data": {
      "text/html": [
       "<div>\n",
       "<style scoped>\n",
       "    .dataframe tbody tr th:only-of-type {\n",
       "        vertical-align: middle;\n",
       "    }\n",
       "\n",
       "    .dataframe tbody tr th {\n",
       "        vertical-align: top;\n",
       "    }\n",
       "\n",
       "    .dataframe thead th {\n",
       "        text-align: right;\n",
       "    }\n",
       "</style>\n",
       "<table border=\"1\" class=\"dataframe\">\n",
       "  <thead>\n",
       "    <tr style=\"text-align: right;\">\n",
       "      <th></th>\n",
       "      <th>Finegrained POS-tag</th>\n",
       "      <th>Universal POS-tag</th>\n",
       "      <th>Occurrences</th>\n",
       "      <th>Relative Tag Frequency (%)</th>\n",
       "      <th>3 most frequent tokens</th>\n",
       "      <th>Example of infrequent token</th>\n",
       "    </tr>\n",
       "  </thead>\n",
       "  <tbody>\n",
       "    <tr>\n",
       "      <th>0</th>\n",
       "      <td>NOUN</td>\n",
       "      <td>NN</td>\n",
       "      <td>2066</td>\n",
       "      <td>0.13</td>\n",
       "      <td>[(\\, 52), (year, 29), (report, 23)]</td>\n",
       "      <td>(project, 1)</td>\n",
       "    </tr>\n",
       "    <tr>\n",
       "      <th>1</th>\n",
       "      <td>PROPN</td>\n",
       "      <td>NNP</td>\n",
       "      <td>2060</td>\n",
       "      <td>0.13</td>\n",
       "      <td>[(\\, 211), (US, 24), (President, 19)]</td>\n",
       "      <td>(Navy, 1)</td>\n",
       "    </tr>\n",
       "    <tr>\n",
       "      <th>2</th>\n",
       "      <td>ADP</td>\n",
       "      <td>IN</td>\n",
       "      <td>1600</td>\n",
       "      <td>0.10</td>\n",
       "      <td>[(of, 352), (in, 281), (to, 153)]</td>\n",
       "      <td>(By, 1)</td>\n",
       "    </tr>\n",
       "    <tr>\n",
       "      <th>3</th>\n",
       "      <td>DET</td>\n",
       "      <td>DT</td>\n",
       "      <td>1313</td>\n",
       "      <td>0.08</td>\n",
       "      <td>[(the, 723), (a, 279), (The, 124)]</td>\n",
       "      <td>(Each, 1)</td>\n",
       "    </tr>\n",
       "    <tr>\n",
       "      <th>4</th>\n",
       "      <td>ADJ</td>\n",
       "      <td>JJ</td>\n",
       "      <td>868</td>\n",
       "      <td>0.05</td>\n",
       "      <td>[(other, 26), (Russian, 20), (presidential, 18)]</td>\n",
       "      <td>(Sebastian, 1)</td>\n",
       "    </tr>\n",
       "    <tr>\n",
       "      <th>5</th>\n",
       "      <td>NOUN</td>\n",
       "      <td>NNS</td>\n",
       "      <td>774</td>\n",
       "      <td>0.05</td>\n",
       "      <td>[(ants, 42), (troops, 19), (people, 15)]</td>\n",
       "      <td>(areas, 1)</td>\n",
       "    </tr>\n",
       "    <tr>\n",
       "      <th>6</th>\n",
       "      <td>PUNCT</td>\n",
       "      <td>,</td>\n",
       "      <td>699</td>\n",
       "      <td>0.04</td>\n",
       "      <td>[(,, 697), (;, 1), (…, 1)]</td>\n",
       "      <td>(…, 1)</td>\n",
       "    </tr>\n",
       "    <tr>\n",
       "      <th>7</th>\n",
       "      <td>PUNCT</td>\n",
       "      <td>.</td>\n",
       "      <td>655</td>\n",
       "      <td>0.04</td>\n",
       "      <td>[(., 638), (?, 16), (!, 1)]</td>\n",
       "      <td>(!, 1)</td>\n",
       "    </tr>\n",
       "    <tr>\n",
       "      <th>8</th>\n",
       "      <td>SPACE</td>\n",
       "      <td>_SP</td>\n",
       "      <td>653</td>\n",
       "      <td>0.04</td>\n",
       "      <td>[(\\n, 653)]</td>\n",
       "      <td>(\\n, 653)</td>\n",
       "    </tr>\n",
       "    <tr>\n",
       "      <th>9</th>\n",
       "      <td>VERB</td>\n",
       "      <td>VBN</td>\n",
       "      <td>454</td>\n",
       "      <td>0.03</td>\n",
       "      <td>[(accused, 12), (reported, 8), (known, 8)]</td>\n",
       "      <td>(acquitted, 1)</td>\n",
       "    </tr>\n",
       "  </tbody>\n",
       "</table>\n",
       "</div>"
      ],
      "text/plain": [
       "  Finegrained POS-tag Universal POS-tag  Occurrences  \\\n",
       "0                NOUN                NN         2066   \n",
       "1               PROPN               NNP         2060   \n",
       "2                 ADP                IN         1600   \n",
       "3                 DET                DT         1313   \n",
       "4                 ADJ                JJ          868   \n",
       "5                NOUN               NNS          774   \n",
       "6               PUNCT                 ,          699   \n",
       "7               PUNCT                 .          655   \n",
       "8               SPACE               _SP          653   \n",
       "9                VERB               VBN          454   \n",
       "\n",
       "   Relative Tag Frequency (%)  \\\n",
       "0                        0.13   \n",
       "1                        0.13   \n",
       "2                        0.10   \n",
       "3                        0.08   \n",
       "4                        0.05   \n",
       "5                        0.05   \n",
       "6                        0.04   \n",
       "7                        0.04   \n",
       "8                        0.04   \n",
       "9                        0.03   \n",
       "\n",
       "                             3 most frequent tokens  \\\n",
       "0               [(\\, 52), (year, 29), (report, 23)]   \n",
       "1             [(\\, 211), (US, 24), (President, 19)]   \n",
       "2                 [(of, 352), (in, 281), (to, 153)]   \n",
       "3                [(the, 723), (a, 279), (The, 124)]   \n",
       "4  [(other, 26), (Russian, 20), (presidential, 18)]   \n",
       "5          [(ants, 42), (troops, 19), (people, 15)]   \n",
       "6                        [(,, 697), (;, 1), (…, 1)]   \n",
       "7                       [(., 638), (?, 16), (!, 1)]   \n",
       "8                                       [(\\n, 653)]   \n",
       "9        [(accused, 12), (reported, 8), (known, 8)]   \n",
       "\n",
       "  Example of infrequent token  \n",
       "0                (project, 1)  \n",
       "1                   (Navy, 1)  \n",
       "2                     (By, 1)  \n",
       "3                   (Each, 1)  \n",
       "4              (Sebastian, 1)  \n",
       "5                  (areas, 1)  \n",
       "6                      (…, 1)  \n",
       "7                      (!, 1)  \n",
       "8                   (\\n, 653)  \n",
       "9              (acquitted, 1)  "
      ]
     },
     "execution_count": 67,
     "metadata": {},
     "output_type": "execute_result"
    }
   ],
   "source": [
    "pos_list = []\n",
    "\n",
    "NN_Noun = []\n",
    "NNP_Propn = []\n",
    "IN_Adp = []\n",
    "DT_Det = []\n",
    "JJ_Adj = []\n",
    "NNS_Noun = []\n",
    "COMMA_Punct = []\n",
    "PERIOD_Punct = []\n",
    "SP_Space = []\n",
    "VBN_Verb = []\n",
    "\n",
    "for token in train_data_doc:\n",
    "    #print(token.pos_, token.tag_)\n",
    "    pos_list.append('{}, {}'.format(token.pos_, token.tag_))\n",
    "    if ('{}, {}'.format(token.pos_, token.tag_) == 'NOUN, NN'):\n",
    "        NN_Noun.append(token.text)\n",
    "\n",
    "    elif ('{}, {}'.format(token.pos_, token.tag_) == 'PROPN, NNP'):\n",
    "        NNP_Propn.append(token.text)\n",
    "\n",
    "    elif ('{}, {}'.format(token.pos_, token.tag_) == 'ADP, IN'):\n",
    "        IN_Adp.append(token.text)\n",
    "\n",
    "    elif ('{}, {}'.format(token.pos_, token.tag_) == 'DET, DT'):\n",
    "        DT_Det.append(token.text)\n",
    "\n",
    "    elif ('{}, {}'.format(token.pos_, token.tag_) == 'ADJ, JJ'):\n",
    "        JJ_Adj.append(token.text)\n",
    "\n",
    "    elif ('{}, {}'.format(token.pos_, token.tag_) == 'NOUN, NNS'):\n",
    "        NNS_Noun.append(token.text)\n",
    "\n",
    "    elif ('{}, {}'.format(token.pos_, token.tag_) == 'PUNCT, ,'):\n",
    "        COMMA_Punct.append(token.text)\n",
    "\n",
    "    elif ('{}, {}'.format(token.pos_, token.tag_) == 'PUNCT, .'):\n",
    "        PERIOD_Punct.append(token.text)\n",
    "\n",
    "    elif ('{}, {}'.format(token.pos_, token.tag_) == 'SPACE, _SP'):\n",
    "        SP_Space.append(token.text)\n",
    "\n",
    "    elif ('{}, {}'.format(token.pos_, token.tag_) == 'VERB, VBN'):\n",
    "        VBN_Verb.append(token.text)\n",
    "\n",
    "\n",
    "pos_frequencies = Counter(pos_list)\n",
    "rtf = []\n",
    "rtf.append(round(pos_frequencies['NOUN, NN']/sum(pos_frequencies.values()), 2))\n",
    "rtf.append(round(pos_frequencies['PROPN, NNP']/sum(pos_frequencies.values()), 2))\n",
    "rtf.append(round(pos_frequencies['ADP, IN']/sum(pos_frequencies.values()), 2))\n",
    "rtf.append(round(pos_frequencies['DET, DT']/sum(pos_frequencies.values()), 2))\n",
    "rtf.append(round(pos_frequencies['ADJ, JJ']/sum(pos_frequencies.values()), 2))\n",
    "rtf.append(round(pos_frequencies['NOUN, NNS']/sum(pos_frequencies.values()), 2))\n",
    "rtf.append(round(pos_frequencies['PUNCT, ,']/sum(pos_frequencies.values()), 2))\n",
    "rtf.append(round(pos_frequencies['PUNCT, .']/sum(pos_frequencies.values()), 2))\n",
    "rtf.append(round(pos_frequencies['SPACE, _SP']/sum(pos_frequencies.values()), 2))\n",
    "rtf.append(round(pos_frequencies['VERB, VBN']/sum(pos_frequencies.values()), 2))\n",
    "\n",
    "finegrained = [\"NOUN\", \"PROPN\", \"ADP\", \"DET\", \"ADJ\", \"NOUN\", \"PUNCT\", \"PUNCT\", \"SPACE\", \"VERB\"]\n",
    "universal = [\"NN\", \"NNP\", \"IN\", \"DT\", \"JJ\", \"NNS\", \",\", \".\", \"_SP\", \"VBN\"]\n",
    "occurrences = [len(NN_Noun), len(NNP_Propn), len(IN_Adp), len(DT_Det), len(JJ_Adj), len(NNS_Noun), len(COMMA_Punct), len(PERIOD_Punct), len(SP_Space), len(VBN_Verb)]\n",
    "\n",
    "most_frequent = []\n",
    "most_frequent.append(Counter(NN_Noun).most_common(3))\n",
    "most_frequent.append(Counter(NNP_Propn).most_common(3))\n",
    "most_frequent.append(Counter(IN_Adp).most_common(3))\n",
    "most_frequent.append(Counter(DT_Det).most_common(3))\n",
    "most_frequent.append(Counter(JJ_Adj).most_common(3))\n",
    "most_frequent.append(Counter(NNS_Noun).most_common(3))\n",
    "most_frequent.append(Counter(COMMA_Punct).most_common(3))\n",
    "most_frequent.append(Counter(PERIOD_Punct).most_common(3))\n",
    "most_frequent.append(Counter(SP_Space).most_common(3))\n",
    "most_frequent.append(Counter(VBN_Verb).most_common(3))\n",
    "\n",
    "least_frequent = []\n",
    "least_frequent.append(Counter(NN_Noun).most_common()[-1])\n",
    "least_frequent.append(Counter(NNP_Propn).most_common()[-1])\n",
    "least_frequent.append(Counter(IN_Adp).most_common()[-1])\n",
    "least_frequent.append(Counter(DT_Det).most_common()[-1])\n",
    "least_frequent.append(Counter(JJ_Adj).most_common()[-1])\n",
    "least_frequent.append(Counter(NNS_Noun).most_common()[-1])\n",
    "least_frequent.append(Counter(COMMA_Punct).most_common()[-1])\n",
    "least_frequent.append(Counter(PERIOD_Punct).most_common()[-1])\n",
    "least_frequent.append(Counter(SP_Space).most_common()[-1])\n",
    "least_frequent.append(Counter(VBN_Verb).most_common()[-1])\n",
    "\n",
    "word_class_table = pd.DataFrame({\"Finegrained POS-tag\":finegrained, \"Universal POS-tag\":universal, \"Occurrences\": occurrences, \"Relative Tag Frequency (%)\" : rtf, \"3 most frequent tokens\" : most_frequent, \"Example of infrequent token\": least_frequent})\n",
    "word_class_table.head(10)"
   ]
  },
  {
   "cell_type": "markdown",
   "metadata": {},
   "source": [
    "<b>TASK 3</b>"
   ]
  },
  {
   "cell_type": "markdown",
   "metadata": {},
   "source": [
    "Using Textacy (does not count \"\\n\"):"
   ]
  },
  {
   "cell_type": "code",
   "execution_count": 29,
   "metadata": {},
   "outputs": [
    {
     "name": "stdout",
     "output_type": "stream",
     "text": [
      "[('\\\\\"', 240), ('of the', 82), (', and', 67)]\n",
      "[('DET NOUN', 780), ('NOUN PUNCT', 769), ('NOUN ADP', 707)]\n"
     ]
    }
   ],
   "source": [
    "ngrams = list(textacy.extract.basics.ngrams(train_data_doc, 2, filter_stops=False, filter_punct=False))\n",
    "ngrams = [str(i) for i in ngrams]\n",
    "ngrams_frequency = Counter(ngrams)\n",
    "print(ngrams_frequency.most_common(3))\n",
    "\n",
    "\n",
    "pos_list = [str(token.pos_) for token in train_data_doc] #nlp() needs string\n",
    "pos_list_string = nlp(' '.join(pos_list)) #textacy.extract.basics.ngrams() needs nlp()-element\n",
    "ngrams = list(textacy.extract.basics.ngrams(pos_list_string, 2))    #ATTENTION: textacy.extract.basics.ngrams() produces elements with type of \"spacy.tokens.span.Span\", not \"str\" -> Counter doesn't work for \"spacy.tokens.span.Span\"\n",
    "ngrams = [str(i) for i in ngrams]\n",
    "ngrams_frequency = Counter(ngrams)\n",
    "print(ngrams_frequency.most_common(3))"
   ]
  },
  {
   "cell_type": "markdown",
   "metadata": {},
   "source": [
    "Manually:"
   ]
  },
  {
   "cell_type": "code",
   "execution_count": 68,
   "metadata": {},
   "outputs": [
    {
     "name": "stdout",
     "output_type": "stream",
     "text": [
      "3 most frequent:\n",
      "\n",
      "Token Bigrams: [('., \\n', 595), ('\\\\, \"', 240), ('\\n, The', 114)]\n",
      "Token Trigrams: [('., \\n, The', 104), (',, \\\\, \"', 40), ('\\\\, \", \\n', 38)]\n",
      "POS Bigrams: [('DET, NOUN', 780), ('NOUN, PUNCT', 769), ('NOUN, ADP', 707)]\n",
      "POS Trigrams: [('ADP, DET, NOUN', 302), ('NOUN, PUNCT, SPACE', 297), ('NOUN, ADP, DET', 243)]\n"
     ]
    }
   ],
   "source": [
    "token_bi = []\n",
    "pos_bi = []\n",
    "token_tri = []\n",
    "pos_tri = []\n",
    "\n",
    "\n",
    "loop_counter = 0\n",
    "\n",
    "\n",
    "\n",
    "for token in train_data_doc:\n",
    "  \n",
    "    try:\n",
    "        token_bi.append(f\"{train_data_doc[loop_counter]}, {train_data_doc[loop_counter + 1]}\")\n",
    "        pos_bi.append(f\"{train_data_doc[loop_counter].pos_}, {train_data_doc[loop_counter + 1].pos_}\")\n",
    "    except:\n",
    "        pass\n",
    "    try:\n",
    "        token_tri.append(f\"{train_data_doc[loop_counter]}, {train_data_doc[loop_counter + 1]}, {train_data_doc[loop_counter + 2]}\")\n",
    "        pos_tri.append(f\"{train_data_doc[loop_counter].pos_}, {train_data_doc[loop_counter + 1].pos_}, {train_data_doc[loop_counter + 2].pos_}\")\n",
    "    except:\n",
    "        pass\n",
    "    loop_counter += 1\n",
    "    \n",
    "print(f\"3 most frequent:\\n\\nToken Bigrams: {Counter(token_bi).most_common(3)}\\nToken Trigrams: {Counter(token_tri).most_common(3)}\\nPOS Bigrams: {Counter(pos_bi).most_common(3)}\\nPOS Trigrams: {Counter(pos_tri).most_common(3)}\")"
   ]
  },
  {
   "cell_type": "code",
   "execution_count": 69,
   "metadata": {},
   "outputs": [
    {
     "data": {
      "image/png": "[encoded data removed]",
      "text/plain": [
       "<Figure size 432x288 with 1 Axes>"
      ]
     },
     "metadata": {
      "needs_background": "light"
     },
     "output_type": "display_data"
    }
   ],
   "source": [
    "ngrams_bi = dict(Counter(token_bi))\n",
    "ngrams_tri = dict(Counter(token_tri))\n",
    "ngrams_sorted_bi = sorted(ngrams_bi.items(), key=lambda x: x[1], reverse=True)\n",
    "ngrams_sorted_tri = sorted(ngrams_tri.items(), key=lambda x: x[1], reverse=True)\n",
    "\n",
    "frequencies_bi = []\n",
    "frequencies_tri = []\n",
    "for i in range(len(ngrams_sorted_bi)):\n",
    "    frequencies_bi.append(ngrams_sorted_bi[i][1])\n",
    "for i in range(len(ngrams_sorted_tri)):\n",
    "    frequencies_tri.append(ngrams_sorted_tri[i][1])\n",
    "\n",
    "x = range(11251)\n",
    "y = range(14264)\n",
    "plt.plot(frequencies_bi[0:21])\n",
    "plt.plot(frequencies_tri[0:21])\n",
    "plt.legend([\"Bi-grams\", \"Tri-grams\"])\n",
    "plt.suptitle('n-gram frequencies')\n",
    "plt.ylabel(\"Frequency\")\n",
    "plt.xlabel(\"Ngrams (20 most frequent)\")\n",
    "plt.xticks(range(0, 21))\n",
    "plt.savefig(f\"{cwd}/plots/1.3_ngram_distr.png\")\n",
    "plt.show()"
   ]
  },
  {
   "cell_type": "markdown",
   "metadata": {},
   "source": [
    "<b>TASK 4</b>"
   ]
  },
  {
   "cell_type": "code",
   "execution_count": 71,
   "metadata": {},
   "outputs": [
    {
     "name": "stdout",
     "output_type": "stream",
     "text": [
      "Word: say\n",
      "Lemma: say\n",
      "Inflected forms: {'NNS': ('say',), 'NN': ('say',), 'VBD': ('said',), 'VBN': ('said',), 'VBG': ('saying',), 'VBZ': ('says',), 'VB': ('say',), 'VBP': ('say',)}\n",
      "(says): \n",
      "It says they repeated their confessions at various times , including in court with legal representation , before retracting them .\n",
      "(said): \n",
      "Police said three children were hospitalised for \\\" severe dehydration \\\" .\n",
      "(say): \n",
      "Russian Presidential spokesperson Dmitry Peskov echoed Putin , saying the troops are \\\" a threat .\n",
      "(saying): \n",
      "Russian Presidential spokesperson Dmitry Peskov echoed Putin , saying the troops are \\\" a threat .\n"
     ]
    }
   ],
   "source": [
    "from lemminflect import getInflection, getAllInflections, getAllInflectionsOOV\n",
    "import random\n",
    "\n",
    "random_sentence = random.randint(0, len(list(train_data_doc.sents)) -1)\n",
    "\n",
    "\n",
    "# DONT RUN WE FOUND A NICE ONE:\n",
    "\n",
    "# # This gets us a random sentence\n",
    "# i = 0\n",
    "# for sentences in train_data_doc.sents:\n",
    "#     if i == random_sentence:\n",
    "#         sentence = sentences\n",
    "#     i += 1\n",
    "\n",
    "# for token in sentence:\n",
    "#     if 2 < len(getAllInflections(token.text)) < 4:\n",
    "#         inflections = getAllInflections(token.text)\n",
    "#         inflection_list = []\n",
    "#         for i in range(len(all_inflections)):\n",
    "#             inflection_list.append(str(all_inflections[i][0]))\n",
    "#         inflection_set = set(inflection_list)\n",
    "#         if len(inflection_set) == 3:\n",
    "#             word_token = token\n",
    "#             break\n",
    "#         else:\n",
    "#             continue\n",
    "\n",
    "for sentences in train_data_doc.sents:\n",
    "    sentence = sentences\n",
    "    for token in sentence:\n",
    "        if token.text == \"say\":\n",
    "            word_token = token\n",
    "            inflections = getAllInflections(token.text)\n",
    "            break\n",
    "\n",
    "\n",
    "print(f\"Word: {word_token.text}\\nLemma: {word_token.lemma_}\\nInflected forms: {inflections}\")\n",
    "\n",
    "\n",
    "all_inflections =  list(inflections.values())\n",
    "\n",
    "doc_length = 0\n",
    "for i in train_data_doc.sents:\n",
    "    doc_length += 1\n",
    "\n",
    "\n",
    "def check_sentences(inflection):\n",
    "    for sentences in train_data_doc.sents:\n",
    "        sentence = str(sentences)\n",
    "        if str(inflection) in sentence:\n",
    "            print(f\"({inflection}): {sentence}\")\n",
    "            break\n",
    "\n",
    "inflection_list = []\n",
    "for i in range(len(all_inflections)):\n",
    "    inflection_list.append(str(all_inflections[i][0]))\n",
    "    \n",
    "inflection_set = set(inflection_list)\n",
    "for inflection in inflection_set:\n",
    "    check_sentences(inflection)\n",
    "    \n",
    "        \n",
    "            \n",
    "            \n",
    "        "
   ]
  },
  {
   "cell_type": "markdown",
   "metadata": {},
   "source": [
    "<b>TASK 5</b>"
   ]
  },
  {
   "cell_type": "code",
   "execution_count": 30,
   "metadata": {},
   "outputs": [
    {
     "name": "stdout",
     "output_type": "stream",
     "text": [
      "1627\n",
      "17\n",
      "dict_keys(['DATE', 'GPE', 'ORDINAL', 'CARDINAL', 'ORG', 'PERSON', 'LAW', 'QUANTITY', 'NORP', 'TIME', 'EVENT', 'LOC', 'PERCENT', 'MONEY', 'PRODUCT', 'FAC', 'WORK_OF_ART'])\n"
     ]
    },
    {
     "data": {
      "text/html": [
       "<span class=\"tex2jax_ignore\"><div class=\"entities\" style=\"line-height: 2.5; direction: ltr\">children are thought to be aged \n",
       "<mark class=\"entity\" style=\"background: #bfe1d9; padding: 0.45em 0.6em; margin: 0 0.25em; line-height: 1; border-radius: 0.35em;\">\n",
       "    three , eight\n",
       "    <span style=\"font-size: 0.8em; font-weight: bold; line-height: 1; border-radius: 0.35em; vertical-align: middle; margin-left: 0.5rem\">DATE</span>\n",
       "</mark>\n",
       " , and \n",
       "<mark class=\"entity\" style=\"background: #bfe1d9; padding: 0.45em 0.6em; margin: 0 0.25em; line-height: 1; border-radius: 0.35em;\">\n",
       "    ten years\n",
       "    <span style=\"font-size: 0.8em; font-weight: bold; line-height: 1; border-radius: 0.35em; vertical-align: middle; margin-left: 0.5rem\">DATE</span>\n",
       "</mark>\n",
       " , alongside an \n",
       "<mark class=\"entity\" style=\"background: #bfe1d9; padding: 0.45em 0.6em; margin: 0 0.25em; line-height: 1; border-radius: 0.35em;\">\n",
       "    eighteen-month-old\n",
       "    <span style=\"font-size: 0.8em; font-weight: bold; line-height: 1; border-radius: 0.35em; vertical-align: middle; margin-left: 0.5rem\">DATE</span>\n",
       "</mark>\n",
       " baby .</div></span>"
      ],
      "text/plain": [
       "<IPython.core.display.HTML object>"
      ]
     },
     "metadata": {},
     "output_type": "display_data"
    },
    {
     "data": {
      "text/html": [
       "<span class=\"tex2jax_ignore\"><div class=\"entities\" style=\"line-height: 2.5; direction: ltr\"></br>We mixed different concentrations of \n",
       "<mark class=\"entity\" style=\"background: #feca74; padding: 0.45em 0.6em; margin: 0 0.25em; line-height: 1; border-radius: 0.35em;\">\n",
       "    ROS\n",
       "    <span style=\"font-size: 0.8em; font-weight: bold; line-height: 1; border-radius: 0.35em; vertical-align: middle; margin-left: 0.5rem\">GPE</span>\n",
       "</mark>\n",
       " with the spores , plated them out on petridishes with an agar-solution where fungus can grow on .</div></span>"
      ],
      "text/plain": [
       "<IPython.core.display.HTML object>"
      ]
     },
     "metadata": {},
     "output_type": "display_data"
    },
    {
     "name": "stderr",
     "output_type": "stream",
     "text": [
      "/home/damion/anaconda3/envs/NLPT/lib/python3.8/site-packages/spacy/displacy/__init__.py:192: UserWarning: [W006] No entities to visualize found in Doc object. If this is surprising to you, make sure the Doc was processed using a model that supports named entity recognition, and check the `doc.ents` property manually if necessary.\n",
      "  warnings.warn(Warnings.W006)\n"
     ]
    },
    {
     "data": {
      "text/html": [
       "<span class=\"tex2jax_ignore\"><div class=\"entities\" style=\"line-height: 2.5; direction: ltr\"></br>They feel they are under-represented in higher education and are suffering in a regional economic downturn .</div></span>"
      ],
      "text/plain": [
       "<IPython.core.display.HTML object>"
      ]
     },
     "metadata": {},
     "output_type": "display_data"
    },
    {
     "data": {
      "text/html": [
       "<span class=\"tex2jax_ignore\"><div class=\"entities\" style=\"line-height: 2.5; direction: ltr\"></br>Especially as it concerns a \n",
       "<mark class=\"entity\" style=\"background: #e4e7d2; padding: 0.45em 0.6em; margin: 0 0.25em; line-height: 1; border-radius: 0.35em;\">\n",
       "    third\n",
       "    <span style=\"font-size: 0.8em; font-weight: bold; line-height: 1; border-radius: 0.35em; vertical-align: middle; margin-left: 0.5rem\">ORDINAL</span>\n",
       "</mark>\n",
       " party building up its military presence near our borders .</div></span>"
      ],
      "text/plain": [
       "<IPython.core.display.HTML object>"
      ]
     },
     "metadata": {},
     "output_type": "display_data"
    },
    {
     "data": {
      "text/html": [
       "<span class=\"tex2jax_ignore\"><div class=\"entities\" style=\"line-height: 2.5; direction: ltr\"></br>Police said \n",
       "<mark class=\"entity\" style=\"background: #e4e7d2; padding: 0.45em 0.6em; margin: 0 0.25em; line-height: 1; border-radius: 0.35em;\">\n",
       "    three\n",
       "    <span style=\"font-size: 0.8em; font-weight: bold; line-height: 1; border-radius: 0.35em; vertical-align: middle; margin-left: 0.5rem\">CARDINAL</span>\n",
       "</mark>\n",
       " children were hospitalised for \n",
       "<mark class=\"entity\" style=\"background: #7aecec; padding: 0.45em 0.6em; margin: 0 0.25em; line-height: 1; border-radius: 0.35em;\">\n",
       "    \\\n",
       "    <span style=\"font-size: 0.8em; font-weight: bold; line-height: 1; border-radius: 0.35em; vertical-align: middle; margin-left: 0.5rem\">ORG</span>\n",
       "</mark>\n",
       "&quot; severe dehydration \\&quot; .</div></span>"
      ],
      "text/plain": [
       "<IPython.core.display.HTML object>"
      ]
     },
     "metadata": {},
     "output_type": "display_data"
    }
   ],
   "source": [
    "print(len(train_data_doc.ents))\n",
    "print(len(Counter([ent.label_ for ent in train_data_doc.ents]).keys()))\n",
    "print(Counter([ent.label_ for ent in train_data_doc.ents]).keys())\n",
    "stop_counter = 0\n",
    "for sentence in train_data_doc.sents:\n",
    "   stop_counter += 1\n",
    "   displacy.render(sentence, jupyter=True, style='ent')\n",
    "   if stop_counter == 5: break"
   ]
  },
  {
   "cell_type": "markdown",
   "metadata": {},
   "source": [
    "<h1><b>PART B</b></h1>"
   ]
  },
  {
   "cell_type": "code",
   "execution_count": 13,
   "metadata": {},
   "outputs": [],
   "source": [
    "#wiki_news_train = open('C:/Users/mpete/OneDrive/Desktop/Uni/Master_DBI/Period_5/NLP/Assignments/Assignment_1/intro2nlp_assignment1_code/data/original/english/WikiNews_Train.tsv', encoding='utf-8')\n",
    "wiki_news_train_df = pd.read_table(f'{cwd}/data/original/english/WikiNews_Train.tsv', header = None)\n",
    "wiki_news_train_df.columns = ['ID', 'sentence', 'start_index', 'end_index', 'target_word', 'nat', 'non-nat', 'nat diff', 'non-nat diff', 'binary', 'prob']"
   ]
  },
  {
   "cell_type": "markdown",
   "metadata": {},
   "source": [
    "<b>TASK 7</b>"
   ]
  },
  {
   "cell_type": "code",
   "execution_count": 74,
   "metadata": {},
   "outputs": [
    {
     "name": "stdout",
     "output_type": "stream",
     "text": [
      "Number of instances labeled with 0: 3216\n",
      "Number of instances labeled with 1: 4530\n",
      "Probabilistic label:\n",
      "\tmin: 0.0\n",
      "\tmax: 1.0\n",
      "\tmedian: 0.0\n",
      "\tmean: 0.084\n",
      "\tstd: 0.17\n",
      "Number of instances consisting of more than one token: 1086\n",
      "Maximum number of tokens for an instance: : 10\n"
     ]
    }
   ],
   "source": [
    "target_word = list(wiki_news_train_df[\"target_word\"])\n",
    "binary_label = list(wiki_news_train_df[\"binary\"])\n",
    "prob_label = list(wiki_news_train_df[\"prob\"])\n",
    "\n",
    "token_list = []\n",
    "\n",
    "for i in range(len(target_word)):\n",
    "    instance = nlp(target_word[i])\n",
    "    token_list.append(0)\n",
    "    for token in instance:\n",
    "        token_list[i] +=1\n",
    "\n",
    "\n",
    "print(f\"Number of instances labeled with 0: {Counter(binary_label)[1]}\\n\\\n",
    "Number of instances labeled with 1: {Counter(binary_label)[0]}\\n\\\n",
    "Probabilistic label:\\n\\\n",
    "\\tmin: {np.min(prob_label)}\\n\\\n",
    "\\tmax: {np.max(prob_label)}\\n\\\n",
    "\\tmedian: {np.median(prob_label)}\\n\\\n",
    "\\tmean: {round(np.mean(prob_label), 3)}\\n\\\n",
    "\\tstd: {round(np.std(prob_label), 3)}\\n\\\n",
    "Number of instances consisting of more than one token: {sum(i > 1 for i in token_list)}\\n\\\n",
    "Maximum number of tokens for an instance: : {max(token_list)}\")"
   ]
  },
  {
   "cell_type": "markdown",
   "metadata": {},
   "source": [
    "<b>TASK 8</b>"
   ]
  },
  {
   "cell_type": "code",
   "execution_count": 34,
   "metadata": {},
   "outputs": [],
   "source": [
    "length_tokens = []\n",
    "frequency = []\n",
    "prob = []\n",
    "pos = []\n",
    "\n",
    "from wordfreq import zipf_frequency\n",
    "\n",
    "#filter only instances with one token and which are labeled as complex from at leat one annotator\n",
    "for index, row in wiki_news_train_df.iterrows():\n",
    "    instance = nlp(row['target_word'])\n",
    "    tokens_per_instance = [token for token in instance]\n",
    "    if (len(tokens_per_instance) == 1) and (row['binary'] == 1):\n",
    "        length_tokens.append(len(tokens_per_instance[0].text))   \n",
    "        frequency.append(zipf_frequency(tokens_per_instance[0].text, 'en'))\n",
    "        prob.append(row['prob'])\n",
    "        pos.append(tokens_per_instance[0].pos_)\n"
   ]
  },
  {
   "cell_type": "code",
   "execution_count": 54,
   "metadata": {},
   "outputs": [
    {
     "name": "stdout",
     "output_type": "stream",
     "text": [
      "Pearson correlation length and complexity: (0.3020751387042099, 4.103410007102572e-52)\n",
      "Pearson correlation frequency and complexity: (-0.26876915450151273, 3.2226022021238034e-41)\n"
     ]
    }
   ],
   "source": [
    "from scipy.stats import pearsonr\n",
    "\n",
    "print(\"Pearson correlation length and complexity: {}\".format(pearsonr(length_tokens, prob)))\n",
    "print(\"Pearson correlation frequency and complexity: {}\".format(pearsonr(frequency, prob)))"
   ]
  },
  {
   "cell_type": "code",
   "execution_count": 60,
   "metadata": {},
   "outputs": [
    {
     "data": {
      "image/png": "[encoded data removed]",
      "text/plain": [
       "<Figure size 432x288 with 1 Axes>"
      ]
     },
     "metadata": {
      "needs_background": "light"
     },
     "output_type": "display_data"
    }
   ],
   "source": [
    "plt.scatter(length_tokens, prob)\n",
    "plt.suptitle(\"Token length probability\")\n",
    "plt.ylabel(\"probability\")\n",
    "plt.xlabel(\"token length (chars)\")\n",
    "plt.savefig(f\"{cwd}/plots/A_8_1_length.png\")\n",
    "plt.show()"
   ]
  },
  {
   "cell_type": "code",
   "execution_count": 61,
   "metadata": {},
   "outputs": [
    {
     "data": {
      "image/png": "[encoded data removed]",
      "text/plain": [
       "<Figure size 432x288 with 1 Axes>"
      ]
     },
     "metadata": {
      "needs_background": "light"
     },
     "output_type": "display_data"
    }
   ],
   "source": [
    "plt.scatter(frequency, prob)\n",
    "plt.suptitle(\"Token zipf frequency probability\")\n",
    "plt.xlabel(\"Frequency (zipf)\")\n",
    "plt.ylabel(\"Probabilistic complexity\")\n",
    "plt.savefig(f\"{cwd}/plots/A_8_2_frequency.png\")\n",
    "plt.show()"
   ]
  },
  {
   "cell_type": "code",
   "execution_count": 64,
   "metadata": {},
   "outputs": [
    {
     "data": {
      "image/png": "[encoded data removed]",
      "text/plain": [
       "<Figure size 432x288 with 1 Axes>"
      ]
     },
     "metadata": {
      "needs_background": "light"
     },
     "output_type": "display_data"
    }
   ],
   "source": [
    "plt.scatter(pos, prob)\n",
    "plt.suptitle(\"Part-of-Speech probability\")\n",
    "plt.ylabel(\"Probabilistic complexity\")\n",
    "plt.savefig(f\"{cwd}/plots/A_8_2_frequency.png\")\n",
    "plt.show()"
   ]
  },
  {
   "cell_type": "markdown",
   "metadata": {},
   "source": [
    "<b>TASK 10</b>"
   ]
  },
  {
   "cell_type": "code",
   "execution_count": 81,
   "metadata": {},
   "outputs": [],
   "source": [
    "# Implement four baselines for the task.\n",
    "# Majority baseline: always assigns the majority class of the training data\n",
    "# Random baseline: randomly assigns one of the classes. Make sure to set a random seed and average the accuracy over 100 runs.\n",
    "# Length baseline: determines the class based on a length threshold\n",
    "# Frequency baseline: determines the class based on a frequency threshold\n",
    "\n",
    "from model.data_loader import DataLoader\n",
    "\n",
    "# Each baseline returns predictions for the test data. The length and frequency baselines determine a threshold using the development data.\n",
    "\n",
    "def majority_baseline(train_sentences, train_labels, testinput, testlabels):\n",
    "    #find out about majority  class in training data\n",
    "    predictions = []\n",
    "    for instance in train_labels:   \n",
    "        tokens = instance.split(\" \")\n",
    "        for i in tokens:         \n",
    "            if i == 'N\\n':\n",
    "                i = 'N'\n",
    "            elif i == 'C\\n':\n",
    "                i = 'C'\n",
    "            predictions.append(i)\n",
    "            \n",
    "    majority_class = Counter(predictions).most_common()[0][0]\n",
    "    #assign to each token (word) in test data the majority class as predicted value\n",
    "    predictions = []\n",
    "    for instance in testinput:\n",
    "        tokens = instance.split(\" \")\n",
    "        for _ in tokens:\n",
    "            predictions.append(majority_class)\n",
    "    \n",
    "    test_labels = []\n",
    "    for instance in testlabels:\n",
    "        tokens = instance.split(\" \")\n",
    "        for i in tokens:         \n",
    "            if i == 'N\\n':\n",
    "                i = 'N'\n",
    "            elif i == 'C\\n':\n",
    "                i = 'C'\n",
    "            test_labels.append(i)\n",
    "\n",
    "    #calculate accuracy\n",
    "    correct_labeled = 0\n",
    "    for i in range(len(predictions)):\n",
    "        if predictions[i] == test_labels[i]:\n",
    "            correct_labeled += 1\n",
    "\n",
    "    accuracy = round(correct_labeled/len(predictions), 2)\n",
    "    return accuracy, predictions\n",
    "\n",
    "\n",
    "\n",
    "\n",
    "def random_baseline(train_sentences, train_labels, testinput, testlabels):\n",
    "    predictions = []\n",
    "    labels = []\n",
    "    for i in range(len(train_labels)):\n",
    "        sentence = train_labels[i].split(\" \")\n",
    "        for token in sentence:\n",
    "            labels.append(token)\n",
    "    baseline_set = list(set(labels))\n",
    "\n",
    "    predictions = []\n",
    "    for instance in testinput:\n",
    "        tokens = instance.split(\" \")\n",
    "        for token in tokens:\n",
    "            random_baseline = baseline_set[random.randint(1, len(baseline_set) -1)]\n",
    "            predictions.append(random_baseline)\n",
    "\n",
    "    test_labels = []\n",
    "    for i in range(len(testlabels)):\n",
    "        sentence = testlabels[i].split(\" \")\n",
    "        for token in sentence:\n",
    "            if token == 'N\\n':\n",
    "                token = 'N'\n",
    "            elif token == 'C\\n':\n",
    "                token = 'C'\n",
    "            test_labels.append(token)\n",
    "\n",
    "    acc_counter = 0\n",
    "    for i in range(len(predictions)):\n",
    "        if predictions[i] == test_labels[i]:\n",
    "            acc_counter += 1\n",
    "\n",
    "    accuracy = round(acc_counter / len(predictions), 2)\n",
    "\n",
    "    return  accuracy, predictions  \n",
    "\n",
    "\n",
    "\n",
    "def length_baseline(testinput, testlabels, length_threshold):  \n",
    "    test_labels = []\n",
    "    for instance in testlabels:\n",
    "        tokens = instance.split(\" \")\n",
    "        for i in tokens:         \n",
    "            if i == 'N\\n':\n",
    "                i = 'N'\n",
    "            elif i == 'C\\n':\n",
    "                i = 'C'\n",
    "            test_labels.append(i)\n",
    "    \n",
    "    predictions = []\n",
    "    for sentence in testinput:\n",
    "        tokens = sentence.split(\" \")\n",
    "        for token in tokens:\n",
    "            if len(token) >= length_threshold:\n",
    "                predictions.append('C')\n",
    "            else: \n",
    "                predictions.append('N')\n",
    "\n",
    "    #calculate accuracy\n",
    "    correct_labeled = 0\n",
    "    for i in range(len(predictions)):\n",
    "        if predictions[i] == test_labels[i]:\n",
    "            correct_labeled += 1\n",
    "\n",
    "    accuracy = round(correct_labeled/len(predictions), 2)\n",
    "    return accuracy, predictions  \n",
    "\n",
    "\n",
    "\n",
    "def frequency_baseline(testinput, testlabels, frequency_threshold):\n",
    "    test_labels = []\n",
    "    for instance in testlabels:\n",
    "        tokens = instance.split(\" \")\n",
    "        for i in tokens:         \n",
    "            if i == 'N\\n':\n",
    "                i = 'N'\n",
    "            elif i == 'C\\n':\n",
    "                i = 'C'\n",
    "            test_labels.append(i)\n",
    "\n",
    "    predictions = []\n",
    "    for sentence in testinput:\n",
    "        tokens = sentence.split(\" \")\n",
    "        for token in tokens:\n",
    "            if zipf_frequency(token, 'en') <= frequency_threshold:\n",
    "                predictions.append('C')\n",
    "            else: \n",
    "                predictions.append('N')\n",
    "\n",
    "    #calculate accuracy\n",
    "    correct_labeled = 0\n",
    "    for i in range(len(predictions)):\n",
    "        if predictions[i] == test_labels[i]:\n",
    "            correct_labeled += 1\n",
    "\n",
    "    accuracy = round(correct_labeled/len(predictions), 2)\n",
    "    return accuracy, predictions  \n",
    "\n",
    "if __name__ == '__main__':\n",
    "    dir_path = cwd\n",
    "    train_path = dir_path + \"/data/preprocessed/train/\"\n",
    "    dev_path = dir_path + \"/data/preprocessed/val/\"          #changed from \"/dev/\" to \"/val/\" because there exists no \"dev\" folder\n",
    "    test_path = dir_path + \"/data/preprocessed/test/\"\n",
    "\n",
    "    # Note: this loads all instances into memory. If you work with bigger files in the future, use an iterator instead.\n",
    "\n",
    "    with open(train_path + \"sentences.txt\") as sent_file:\n",
    "        train_sentences = sent_file.readlines()\n",
    "\n",
    "    with open(train_path + \"labels.txt\") as label_file:\n",
    "        train_labels = label_file.readlines()\n",
    "\n",
    "    with open(dev_path + \"sentences.txt\") as dev_file:\n",
    "        dev_sentences = dev_file.readlines()\n",
    "\n",
    "    with open(dev_path + \"labels.txt\") as dev_label_file:       #changed from \"train_path\" to \"dev_path\"\n",
    "        dev_labels = dev_label_file.readlines()\n",
    "\n",
    "    with open(test_path + \"sentences.txt\") as testfile:\n",
    "        testinput = testfile.readlines()\n",
    "\n",
    "    with open(test_path + \"labels.txt\") as test_label_file:\n",
    "        testlabels = test_label_file.readlines()\n",
    "        \n",
    "    length_threshold = 8   #accuracy best at threshold 8         \n",
    "    frequency_threshold = 4.52  #accuracy best at zipf-frequency-threshold 4.52\n",
    "    dev_majority_accuracy, dev_majority_predictions = majority_baseline(train_sentences, train_labels, dev_sentences, dev_labels)\n",
    "    dev_random_accuracy, dev_random_predictions = random_baseline(train_sentences, train_labels, dev_sentences, dev_labels)\n",
    "    dev_length_accuracy, dev_length_predictions = length_baseline(dev_sentences, dev_labels, length_threshold)\n",
    "    dev_frequency_accuracy, dev_frequency_predictions = frequency_baseline(dev_sentences, dev_labels, frequency_threshold)\n",
    "\n",
    "    test_majority_accuracy, test_majority_predictions = majority_baseline(train_sentences, train_labels, testinput, testlabels)\n",
    "    test_random_accuracy, test_random_predictions = random_baseline(train_sentences, train_labels, testinput, testlabels)\n",
    "    test_length_accuracy, test_length_predictions = length_baseline(testinput, testlabels, length_threshold)\n",
    "    test_frequency_accuracy, test_frequency_predictions = frequency_baseline(testinput, testlabels, frequency_threshold)\n",
    " \n",
    "\n",
    "    baselines = [\"Majority\", \"Random\", \"Length\", \"Frequency\"]\n",
    "    acc_dev = [dev_majority_accuracy, dev_random_accuracy, dev_length_accuracy, dev_frequency_accuracy]\n",
    "    acc_test = [test_majority_accuracy, test_random_accuracy, test_length_accuracy, test_frequency_accuracy]\n",
    "    baseline_df = pd.DataFrame({\"Baseline\":baselines, \"Accuracy on dev\": acc_dev, \"Accuracy on test\":acc_test})\n",
    "\n"
   ]
  },
  {
   "cell_type": "code",
   "execution_count": 82,
   "metadata": {},
   "outputs": [
    {
     "data": {
      "text/html": [
       "<div>\n",
       "<style scoped>\n",
       "    .dataframe tbody tr th:only-of-type {\n",
       "        vertical-align: middle;\n",
       "    }\n",
       "\n",
       "    .dataframe tbody tr th {\n",
       "        vertical-align: top;\n",
       "    }\n",
       "\n",
       "    .dataframe thead th {\n",
       "        text-align: right;\n",
       "    }\n",
       "</style>\n",
       "<table border=\"1\" class=\"dataframe\">\n",
       "  <thead>\n",
       "    <tr style=\"text-align: right;\">\n",
       "      <th></th>\n",
       "      <th>Baseline</th>\n",
       "      <th>Accuracy on dev</th>\n",
       "      <th>Accuracy on test</th>\n",
       "    </tr>\n",
       "  </thead>\n",
       "  <tbody>\n",
       "    <tr>\n",
       "      <th>0</th>\n",
       "      <td>Majority</td>\n",
       "      <td>0.85</td>\n",
       "      <td>0.80</td>\n",
       "    </tr>\n",
       "    <tr>\n",
       "      <th>1</th>\n",
       "      <td>Random</td>\n",
       "      <td>0.52</td>\n",
       "      <td>0.49</td>\n",
       "    </tr>\n",
       "    <tr>\n",
       "      <th>2</th>\n",
       "      <td>Length</td>\n",
       "      <td>0.88</td>\n",
       "      <td>0.87</td>\n",
       "    </tr>\n",
       "    <tr>\n",
       "      <th>3</th>\n",
       "      <td>Frequency</td>\n",
       "      <td>0.75</td>\n",
       "      <td>0.76</td>\n",
       "    </tr>\n",
       "  </tbody>\n",
       "</table>\n",
       "</div>"
      ],
      "text/plain": [
       "    Baseline  Accuracy on dev  Accuracy on test\n",
       "0   Majority             0.85              0.80\n",
       "1     Random             0.52              0.49\n",
       "2     Length             0.88              0.87\n",
       "3  Frequency             0.75              0.76"
      ]
     },
     "execution_count": 82,
     "metadata": {},
     "output_type": "execute_result"
    }
   ],
   "source": [
    "baseline_df.head()"
   ]
  }
 ],
 "metadata": {
  "interpreter": {
   "hash": "528bc499b8fb4c180646b30b3825587cc8d369adecbe10e918de4c75a96f10a1"
  },
  "kernelspec": {
   "display_name": "Python 3.8.13 ('NLP')",
   "language": "python",
   "name": "python3"
  },
  "language_info": {
   "codemirror_mode": {
    "name": "ipython",
    "version": 3
   },
   "file_extension": ".py",
   "mimetype": "text/x-python",
   "name": "python",
   "nbconvert_exporter": "python",
   "pygments_lexer": "ipython3",
   "version": "3.8.13"
  },
  "orig_nbformat": 4
 },
 "nbformat": 4,
 "nbformat_minor": 2
}

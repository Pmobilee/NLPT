{
 "cells": [
  {
   "cell_type": "code",
   "execution_count": 118,
   "metadata": {},
   "outputs": [],
   "source": [
    "from collections import Counter\n",
    "import spacy\n",
    "import textacy\n",
    "from spacy import displacy\n",
    "import pandas as pd\n",
    "import numpy as np\n",
    "from wordfreq import word_frequency\n",
    "from wordfreq import zipf_frequency\n",
    "import matplotlib.pyplot as plt\n",
    "import random\n",
    "import os\n",
    "from scipy.stats import pearsonr\n",
    "import sklearn\n",
    "import json\n",
    "\n",
    "nlp = spacy.load('en_core_web_sm')"
   ]
  },
  {
   "cell_type": "code",
   "execution_count": 3,
   "metadata": {},
   "outputs": [],
   "source": [
    "cwd = os.getcwd()\n",
    "train_data = open(f'{cwd}/data/preprocessed/train/sentences.txt', encoding='utf-8')\n",
    "text = train_data.read()\n",
    "train_data_doc = nlp(text)"
   ]
  },
  {
   "cell_type": "markdown",
   "metadata": {},
   "source": [
    "<h1><b>PART A</b></h1>"
   ]
  },
  {
   "cell_type": "markdown",
   "metadata": {},
   "source": [
    "<b>TASK 1</b><font color='red'> (must be included in file TODO_analyses.py)</font>"
   ]
  },
  {
   "cell_type": "code",
   "execution_count": 4,
   "metadata": {},
   "outputs": [
    {
     "name": "stdout",
     "output_type": "stream",
     "text": [
      "Number of Tokens: 16130\n",
      "Number of Words: 13242\n",
      "Number of Types: 3721\n",
      "Average number of words per sentence: 18.44\n",
      "Average word length: 3.57\n"
     ]
    }
   ],
   "source": [
    "word_frequencies = Counter()\n",
    "words_per_sentence = []\n",
    "\n",
    "for sentence in train_data_doc.sents:\n",
    "    words = []\n",
    "    words_single_sentence = 0\n",
    "    for token in sentence:\n",
    "        # Let's filter out punctuation and new lines (\"/n\")\n",
    "        if (not token.is_punct) and (not token.is_space):\n",
    "            words.append(token.text)\n",
    "            words_single_sentence += 1\n",
    "    words_per_sentence.append(words_single_sentence)\n",
    "    word_frequencies.update(words)\n",
    "\n",
    "#print(word_frequencies)\n",
    "num_tokens = len(train_data_doc)\n",
    "num_words = sum(word_frequencies.values())\n",
    "num_types = len(word_frequencies.keys())\n",
    "avg_num_words_per_sentence = sum(words_per_sentence) / len(words_per_sentence)\n",
    "avg_word_length = sum(len(word) for word in words) / len(words)\n",
    "\n",
    "print('Number of Tokens: ' + str(num_tokens))\n",
    "print('Number of Words: ' + str(num_words))\n",
    "print('Number of Types: ' + str(num_types))\n",
    "\n",
    "print('Average number of words per sentence: {number:.{digits}f}'.format(number = avg_num_words_per_sentence, digits = 2))\n",
    "print('Average word length: {number:.{digits}f}'.format(number = avg_word_length, digits = 2))"
   ]
  },
  {
   "cell_type": "markdown",
   "metadata": {},
   "source": [
    "<b>TASK 2</b><font color='red'> (must be included in file TODO_analyses.py)</font>"
   ]
  },
  {
   "cell_type": "code",
   "execution_count": 5,
   "metadata": {},
   "outputs": [
    {
     "name": "stdout",
     "output_type": "stream",
     "text": [
      "[('\\\\', 52), ('year', 29), ('report', 23)]\n",
      "[('\\\\', 211), ('US', 24), ('President', 19)]\n",
      "[('of', 352), ('in', 281), ('to', 153)]\n",
      "[('the', 723), ('a', 279), ('The', 124)]\n",
      "[('other', 26), ('Russian', 20), ('presidential', 18)]\n",
      "[('ants', 42), ('troops', 19), ('people', 15)]\n",
      "[(',', 697), (';', 1), ('…', 1)]\n",
      "[('.', 638), ('?', 16), ('!', 1)]\n",
      "[('\\n', 653)]\n",
      "[('accused', 12), ('reported', 8), ('known', 8)]\n",
      "('project', 1)\n",
      "('Navy', 1)\n",
      "('By', 1)\n",
      "('Each', 1)\n",
      "('Sebastian', 1)\n",
      "('areas', 1)\n",
      "('…', 1)\n",
      "('!', 1)\n",
      "('\\n', 653)\n",
      "('acquitted', 1)\n"
     ]
    }
   ],
   "source": [
    "pos_list = []\n",
    "\n",
    "NN_Noun = []\n",
    "NNP_Propn = []\n",
    "IN_Adp = []\n",
    "DT_Det = []\n",
    "JJ_Adj = []\n",
    "NNS_Noun = []\n",
    "COMMA_Punct = []\n",
    "PERIOD_Punct = []\n",
    "SP_Space = []\n",
    "VBN_Verb = []\n",
    "\n",
    "for token in train_data_doc:\n",
    "    #print(token.pos_, token.tag_)\n",
    "    pos_list.append('{}, {}'.format(token.pos_, token.tag_))\n",
    "    if ('{}, {}'.format(token.pos_, token.tag_) == 'NOUN, NN'):\n",
    "        NN_Noun.append(token.text)\n",
    "\n",
    "    elif ('{}, {}'.format(token.pos_, token.tag_) == 'PROPN, NNP'):\n",
    "        NNP_Propn.append(token.text)\n",
    "\n",
    "    elif ('{}, {}'.format(token.pos_, token.tag_) == 'ADP, IN'):\n",
    "        IN_Adp.append(token.text)\n",
    "\n",
    "    elif ('{}, {}'.format(token.pos_, token.tag_) == 'DET, DT'):\n",
    "        DT_Det.append(token.text)\n",
    "\n",
    "    elif ('{}, {}'.format(token.pos_, token.tag_) == 'ADJ, JJ'):\n",
    "        JJ_Adj.append(token.text)\n",
    "\n",
    "    elif ('{}, {}'.format(token.pos_, token.tag_) == 'NOUN, NNS'):\n",
    "        NNS_Noun.append(token.text)\n",
    "\n",
    "    elif ('{}, {}'.format(token.pos_, token.tag_) == 'PUNCT, ,'):\n",
    "        COMMA_Punct.append(token.text)\n",
    "\n",
    "    elif ('{}, {}'.format(token.pos_, token.tag_) == 'PUNCT, .'):\n",
    "        PERIOD_Punct.append(token.text)\n",
    "\n",
    "    elif ('{}, {}'.format(token.pos_, token.tag_) == 'SPACE, _SP'):\n",
    "        SP_Space.append(token.text)\n",
    "\n",
    "    elif ('{}, {}'.format(token.pos_, token.tag_) == 'VERB, VBN'):\n",
    "        VBN_Verb.append(token.text)\n",
    "\n",
    "\n",
    "# pos_frequencies = Counter(pos_list)\n",
    "# print(pos_frequencies)\n",
    "# print(round(pos_frequencies['NOUN, NN']/sum(pos_frequencies.values()), 2))\n",
    "# print(round(pos_frequencies['PROPN, NNP']/sum(pos_frequencies.values()), 2))\n",
    "# print(round(pos_frequencies['ADP, IN']/sum(pos_frequencies.values()), 2))\n",
    "# print(round(pos_frequencies['DET, DT']/sum(pos_frequencies.values()), 2))\n",
    "# print(round(pos_frequencies['ADJ, JJ']/sum(pos_frequencies.values()), 2))\n",
    "# print(round(pos_frequencies['NOUN, NNS']/sum(pos_frequencies.values()), 2))\n",
    "# print(round(pos_frequencies['PUNCT, ,']/sum(pos_frequencies.values()), 2))\n",
    "# print(round(pos_frequencies['PUNCT, .']/sum(pos_frequencies.values()), 2))\n",
    "# print(round(pos_frequencies['SPACE, _SP']/sum(pos_frequencies.values()), 2))\n",
    "# print(round(pos_frequencies['VERB, VBN']/sum(pos_frequencies.values()), 2))\n",
    "\n",
    "\n",
    "print(Counter(NN_Noun).most_common(3))\n",
    "print(Counter(NNP_Propn).most_common(3))\n",
    "print(Counter(IN_Adp).most_common(3))\n",
    "print(Counter(DT_Det).most_common(3))\n",
    "print(Counter(JJ_Adj).most_common(3))\n",
    "print(Counter(NNS_Noun).most_common(3))\n",
    "print(Counter(COMMA_Punct).most_common(3))\n",
    "print(Counter(PERIOD_Punct).most_common(3))\n",
    "print(Counter(SP_Space).most_common(3))\n",
    "print(Counter(VBN_Verb).most_common(3))\n",
    "\n",
    "#infrequent tokens\n",
    "print(Counter(NN_Noun).most_common()[-1])\n",
    "print(Counter(NNP_Propn).most_common()[-1])\n",
    "print(Counter(IN_Adp).most_common()[-1])\n",
    "print(Counter(DT_Det).most_common()[-1])\n",
    "print(Counter(JJ_Adj).most_common()[-1])\n",
    "print(Counter(NNS_Noun).most_common()[-1])\n",
    "print(Counter(COMMA_Punct).most_common()[-1])\n",
    "print(Counter(PERIOD_Punct).most_common()[-1])\n",
    "print(Counter(SP_Space).most_common()[-1])\n",
    "print(Counter(VBN_Verb).most_common()[-1])"
   ]
  },
  {
   "cell_type": "markdown",
   "metadata": {},
   "source": [
    "<b>TASK 3</b><font color='red'> (must be included in file TODO_analyses.py)</font>"
   ]
  },
  {
   "cell_type": "code",
   "execution_count": 6,
   "metadata": {},
   "outputs": [
    {
     "name": "stdout",
     "output_type": "stream",
     "text": [
      "[('\\\\\"', 240), ('of the', 82), (', and', 67)]\n",
      "[('DET NOUN', 780), ('NOUN PUNCT', 769), ('NOUN ADP', 707)]\n"
     ]
    }
   ],
   "source": [
    "ngrams = list(textacy.extract.basics.ngrams(train_data_doc, 2, filter_stops=False, filter_punct=False))\n",
    "ngrams = [str(i) for i in ngrams]\n",
    "ngrams_frequency = Counter(ngrams)\n",
    "print(ngrams_frequency.most_common(3))\n",
    "\n",
    "\n",
    "pos_list = [str(token.pos_) for token in train_data_doc] #nlp() needs string\n",
    "pos_list_string = nlp(' '.join(pos_list)) #textacy.extract.basics.ngrams() needs nlp()-element\n",
    "ngrams = list(textacy.extract.basics.ngrams(pos_list_string, 2))    #ATTENTION: textacy.extract.basics.ngrams() produces elements with type of \"spacy.tokens.span.Span\", not \"str\" -> Counter doesn't work for \"spacy.tokens.span.Span\"\n",
    "ngrams = [str(i) for i in ngrams]\n",
    "ngrams_frequency = Counter(ngrams)\n",
    "print(ngrams_frequency.most_common(3))"
   ]
  },
  {
   "cell_type": "markdown",
   "metadata": {},
   "source": [
    "<b>TASK 3 MANUALLY WITHOUT TEXTACY</b>"
   ]
  },
  {
   "cell_type": "code",
   "execution_count": 171,
   "metadata": {},
   "outputs": [
    {
     "name": "stdout",
     "output_type": "stream",
     "text": [
      "3 most frequent:\n",
      "\n",
      "Token Bigrams: [('., \\n', 595), ('\\\\, \"', 240), ('\\n, The', 114)]\n",
      "Token Trigrams: [('., \\n, The', 104), (',, \\\\, \"', 40), ('\\\\, \", \\n', 38)]\n",
      "POS Bigrams: [('DET, NOUN', 780), ('NOUN, PUNCT', 769), ('NOUN, ADP', 707)]\n",
      "POS Trigrams: [('ADP, DET, NOUN', 302), ('NOUN, PUNCT, SPACE', 297), ('NOUN, ADP, DET', 243)]\n"
     ]
    }
   ],
   "source": [
    "token_bi = []\n",
    "pos_bi = []\n",
    "token_tri = []\n",
    "pos_tri = []\n",
    "\n",
    "\n",
    "loop_counter = 0\n",
    "\n",
    "\n",
    "\n",
    "for token in train_data_doc:\n",
    "  \n",
    "    try:\n",
    "        token_bi.append(f\"{train_data_doc[loop_counter]}, {train_data_doc[loop_counter + 1]}\")\n",
    "        pos_bi.append(f\"{train_data_doc[loop_counter].pos_}, {train_data_doc[loop_counter + 1].pos_}\")\n",
    "    except:\n",
    "        pass\n",
    "    try:\n",
    "        token_tri.append(f\"{train_data_doc[loop_counter]}, {train_data_doc[loop_counter + 1]}, {train_data_doc[loop_counter + 2]}\")\n",
    "        pos_tri.append(f\"{train_data_doc[loop_counter].pos_}, {train_data_doc[loop_counter + 1].pos_}, {train_data_doc[loop_counter + 2].pos_}\")\n",
    "    except:\n",
    "        pass\n",
    "    loop_counter += 1\n",
    "    \n",
    "print(f\"3 most frequent:\\n\\nToken Bigrams: {Counter(token_bi).most_common(3)}\\nToken Trigrams: {Counter(token_tri).most_common(3)}\\nPOS Bigrams: {Counter(pos_bi).most_common(3)}\\nPOS Trigrams: {Counter(pos_tri).most_common(3)}\")"
   ]
  },
  {
   "cell_type": "code",
   "execution_count": 177,
   "metadata": {},
   "outputs": [
    {
     "data": {
      "image/png": "[encoded data removed]",
      "text/plain": [
       "<Figure size 432x288 with 1 Axes>"
      ]
     },
     "metadata": {
      "needs_background": "light"
     },
     "output_type": "display_data"
    }
   ],
   "source": [
    "ngrams_bi = dict(Counter(token_bi))\n",
    "ngrams_tri = dict(Counter(token_tri))\n",
    "ngrams_sorted_bi = sorted(ngrams_bi.items(), key=lambda x: x[1], reverse=True)\n",
    "ngrams_sorted_tri = sorted(ngrams_tri.items(), key=lambda x: x[1], reverse=True)\n",
    "\n",
    "frequencies_bi = []\n",
    "frequencies_tri = []\n",
    "for i in range(len(ngrams_sorted_bi)):\n",
    "    frequencies_bi.append(ngrams_sorted_bi[i][1])\n",
    "for i in range(len(ngrams_sorted_tri)):\n",
    "    frequencies_tri.append(ngrams_sorted_tri[i][1])\n",
    "\n",
    "x = range(11251)\n",
    "y = range(14264)\n",
    "plt.plot(frequencies_bi[0:21])\n",
    "plt.plot(frequencies_tri[0:21])\n",
    "plt.legend([\"Bi-grams\", \"Tri-grams\"])\n",
    "plt.suptitle('n-gram frequencies')\n",
    "plt.ylabel(\"Frequency\")\n",
    "plt.xlabel(\"Ngrams (20 most frequent)\")\n",
    "plt.xticks(range(0, 21))\n",
    "plt.show()"
   ]
  },
  {
   "cell_type": "markdown",
   "metadata": {},
   "source": [
    "<b>TASK 4</b><font color='red'> (must be included in file TODO_analyses.py)</font>"
   ]
  },
  {
   "cell_type": "code",
   "execution_count": 174,
   "metadata": {},
   "outputs": [
    {
     "name": "stdout",
     "output_type": "stream",
     "text": [
      "Word: say\n",
      "Lemma: say\n",
      "Inflected forms: {'NNS': ('say',), 'NN': ('say',), 'VBD': ('said',), 'VBN': ('said',), 'VBG': ('saying',), 'VBZ': ('says',), 'VB': ('say',), 'VBP': ('say',)}\n",
      "(says): \n",
      "It says they repeated their confessions at various times , including in court with legal representation , before retracting them .\n",
      "(saying): \n",
      "Russian Presidential spokesperson Dmitry Peskov echoed Putin , saying the troops are \\\" a threat .\n",
      "(say): \n",
      "Russian Presidential spokesperson Dmitry Peskov echoed Putin , saying the troops are \\\" a threat .\n",
      "(said): \n",
      "Police said three children were hospitalised for \\\" severe dehydration \\\" .\n"
     ]
    }
   ],
   "source": [
    "from lemminflect import getInflection, getAllInflections, getAllInflectionsOOV\n",
    "import random\n",
    "\n",
    "random_sentence = random.randint(0, len(list(train_data_doc.sents)) -1)\n",
    "\n",
    "\n",
    "# DONT RUN WE FOUND A NICE ONE:\n",
    "\n",
    "# # This gets us a random sentence\n",
    "# i = 0\n",
    "# for sentences in train_data_doc.sents:\n",
    "#     if i == random_sentence:\n",
    "#         sentence = sentences\n",
    "#     i += 1\n",
    "\n",
    "# for token in sentence:\n",
    "#     if 2 < len(getAllInflections(token.text)) < 4:\n",
    "#         inflections = getAllInflections(token.text)\n",
    "#         inflection_list = []\n",
    "#         for i in range(len(all_inflections)):\n",
    "#             inflection_list.append(str(all_inflections[i][0]))\n",
    "#         inflection_set = set(inflection_list)\n",
    "#         if len(inflection_set) == 3:\n",
    "#             word_token = token\n",
    "#             break\n",
    "#         else:\n",
    "#             continue\n",
    "\n",
    "for sentences in train_data_doc.sents:\n",
    "    sentence = sentences\n",
    "    for token in sentence:\n",
    "        if token.text == \"say\":\n",
    "            word_token = token\n",
    "            inflections = getAllInflections(token.text)\n",
    "            break\n",
    "\n",
    "\n",
    "print(f\"Word: {word_token.text}\\nLemma: {word_token.lemma_}\\nInflected forms: {inflections}\")\n",
    "\n",
    "\n",
    "all_inflections =  list(inflections.values())\n",
    "\n",
    "doc_length = 0\n",
    "for i in train_data_doc.sents:\n",
    "    doc_length += 1\n",
    "\n",
    "\n",
    "def check_sentences(inflection):\n",
    "    for sentences in train_data_doc.sents:\n",
    "        sentence = str(sentences)\n",
    "        if str(inflection) in sentence:\n",
    "            print(f\"({inflection}): {sentence}\")\n",
    "            break\n",
    "\n",
    "inflection_list = []\n",
    "for i in range(len(all_inflections)):\n",
    "    inflection_list.append(str(all_inflections[i][0]))\n",
    "    \n",
    "inflection_set = set(inflection_list)\n",
    "for inflection in inflection_set:\n",
    "    check_sentences(inflection)"
   ]
  },
  {
   "cell_type": "markdown",
   "metadata": {},
   "source": [
    "<b>TASK 5</b><font color='red'> (must be included in file TODO_analyses.py)</font>"
   ]
  },
  {
   "cell_type": "code",
   "execution_count": 8,
   "metadata": {},
   "outputs": [
    {
     "name": "stdout",
     "output_type": "stream",
     "text": [
      "1627\n",
      "17\n",
      "dict_keys(['DATE', 'GPE', 'ORDINAL', 'CARDINAL', 'ORG', 'PERSON', 'LAW', 'QUANTITY', 'NORP', 'TIME', 'EVENT', 'LOC', 'PERCENT', 'MONEY', 'PRODUCT', 'FAC', 'WORK_OF_ART'])\n"
     ]
    },
    {
     "data": {
      "text/html": [
       "<span class=\"tex2jax_ignore\"><div class=\"entities\" style=\"line-height: 2.5; direction: ltr\">children are thought to be aged \n",
       "<mark class=\"entity\" style=\"background: #bfe1d9; padding: 0.45em 0.6em; margin: 0 0.25em; line-height: 1; border-radius: 0.35em;\">\n",
       "    three , eight\n",
       "    <span style=\"font-size: 0.8em; font-weight: bold; line-height: 1; border-radius: 0.35em; vertical-align: middle; margin-left: 0.5rem\">DATE</span>\n",
       "</mark>\n",
       " , and \n",
       "<mark class=\"entity\" style=\"background: #bfe1d9; padding: 0.45em 0.6em; margin: 0 0.25em; line-height: 1; border-radius: 0.35em;\">\n",
       "    ten years\n",
       "    <span style=\"font-size: 0.8em; font-weight: bold; line-height: 1; border-radius: 0.35em; vertical-align: middle; margin-left: 0.5rem\">DATE</span>\n",
       "</mark>\n",
       " , alongside an \n",
       "<mark class=\"entity\" style=\"background: #bfe1d9; padding: 0.45em 0.6em; margin: 0 0.25em; line-height: 1; border-radius: 0.35em;\">\n",
       "    eighteen-month-old\n",
       "    <span style=\"font-size: 0.8em; font-weight: bold; line-height: 1; border-radius: 0.35em; vertical-align: middle; margin-left: 0.5rem\">DATE</span>\n",
       "</mark>\n",
       " baby .</div></span>"
      ],
      "text/plain": [
       "<IPython.core.display.HTML object>"
      ]
     },
     "metadata": {},
     "output_type": "display_data"
    },
    {
     "data": {
      "text/html": [
       "<span class=\"tex2jax_ignore\"><div class=\"entities\" style=\"line-height: 2.5; direction: ltr\"></br>We mixed different concentrations of \n",
       "<mark class=\"entity\" style=\"background: #feca74; padding: 0.45em 0.6em; margin: 0 0.25em; line-height: 1; border-radius: 0.35em;\">\n",
       "    ROS\n",
       "    <span style=\"font-size: 0.8em; font-weight: bold; line-height: 1; border-radius: 0.35em; vertical-align: middle; margin-left: 0.5rem\">GPE</span>\n",
       "</mark>\n",
       " with the spores , plated them out on petridishes with an agar-solution where fungus can grow on .</div></span>"
      ],
      "text/plain": [
       "<IPython.core.display.HTML object>"
      ]
     },
     "metadata": {},
     "output_type": "display_data"
    },
    {
     "name": "stderr",
     "output_type": "stream",
     "text": [
      "C:\\Users\\mpete\\anaconda3\\envs\\NLP\\lib\\site-packages\\spacy\\displacy\\__init__.py:200: UserWarning: [W006] No entities to visualize found in Doc object. If this is surprising to you, make sure the Doc was processed using a model that supports named entity recognition, and check the `doc.ents` property manually if necessary.\n",
      "  warnings.warn(Warnings.W006)\n"
     ]
    },
    {
     "data": {
      "text/html": [
       "<span class=\"tex2jax_ignore\"><div class=\"entities\" style=\"line-height: 2.5; direction: ltr\"></br>They feel they are under-represented in higher education and are suffering in a regional economic downturn .</div></span>"
      ],
      "text/plain": [
       "<IPython.core.display.HTML object>"
      ]
     },
     "metadata": {},
     "output_type": "display_data"
    },
    {
     "data": {
      "text/html": [
       "<span class=\"tex2jax_ignore\"><div class=\"entities\" style=\"line-height: 2.5; direction: ltr\"></br>Especially as it concerns a \n",
       "<mark class=\"entity\" style=\"background: #e4e7d2; padding: 0.45em 0.6em; margin: 0 0.25em; line-height: 1; border-radius: 0.35em;\">\n",
       "    third\n",
       "    <span style=\"font-size: 0.8em; font-weight: bold; line-height: 1; border-radius: 0.35em; vertical-align: middle; margin-left: 0.5rem\">ORDINAL</span>\n",
       "</mark>\n",
       " party building up its military presence near our borders .</div></span>"
      ],
      "text/plain": [
       "<IPython.core.display.HTML object>"
      ]
     },
     "metadata": {},
     "output_type": "display_data"
    },
    {
     "data": {
      "text/html": [
       "<span class=\"tex2jax_ignore\"><div class=\"entities\" style=\"line-height: 2.5; direction: ltr\"></br>Police said \n",
       "<mark class=\"entity\" style=\"background: #e4e7d2; padding: 0.45em 0.6em; margin: 0 0.25em; line-height: 1; border-radius: 0.35em;\">\n",
       "    three\n",
       "    <span style=\"font-size: 0.8em; font-weight: bold; line-height: 1; border-radius: 0.35em; vertical-align: middle; margin-left: 0.5rem\">CARDINAL</span>\n",
       "</mark>\n",
       " children were hospitalised for \n",
       "<mark class=\"entity\" style=\"background: #7aecec; padding: 0.45em 0.6em; margin: 0 0.25em; line-height: 1; border-radius: 0.35em;\">\n",
       "    \\\n",
       "    <span style=\"font-size: 0.8em; font-weight: bold; line-height: 1; border-radius: 0.35em; vertical-align: middle; margin-left: 0.5rem\">ORG</span>\n",
       "</mark>\n",
       "&quot; severe dehydration \\&quot; .</div></span>"
      ],
      "text/plain": [
       "<IPython.core.display.HTML object>"
      ]
     },
     "metadata": {},
     "output_type": "display_data"
    }
   ],
   "source": [
    "print(len(train_data_doc.ents))\n",
    "print(len(Counter([ent.label_ for ent in train_data_doc.ents]).keys()))\n",
    "print(Counter([ent.label_ for ent in train_data_doc.ents]).keys())\n",
    "stop_counter = 0\n",
    "for sentence in train_data_doc.sents:\n",
    "   stop_counter += 1\n",
    "   displacy.render(sentence, jupyter=True, style='ent')\n",
    "   if stop_counter == 5: break"
   ]
  },
  {
   "cell_type": "markdown",
   "metadata": {},
   "source": [
    "<h1><b>PART B</b></h1>"
   ]
  },
  {
   "cell_type": "code",
   "execution_count": 9,
   "metadata": {},
   "outputs": [],
   "source": [
    "#wiki_news_train = open('C:/Users/mpete/OneDrive/Desktop/Uni/Master_DBI/Period_5/NLP/Assignments/Assignment_1/intro2nlp_assignment1_code/data/original/english/WikiNews_Train.tsv', encoding='utf-8')\n",
    "wiki_news_train_df = pd.read_table(f'{cwd}/data/original/english/WikiNews_Train.tsv', header = None)\n",
    "wiki_news_train_df.columns = ['ID', 'sentence', 'start_index', 'end_index', 'target_word', 'nat', 'non-nat', 'nat diff', 'non-nat diff', 'binary', 'prob']"
   ]
  },
  {
   "cell_type": "markdown",
   "metadata": {},
   "source": [
    "<b>TASK 7</b><font color='red'> (must be included in file TODO_analyses.py)</font>"
   ]
  },
  {
   "cell_type": "code",
   "execution_count": 175,
   "metadata": {},
   "outputs": [
    {
     "name": "stdout",
     "output_type": "stream",
     "text": [
      "Number of instances labeled with 0: 4530\n",
      "Number of instances labeled with 1: 3216\n",
      "Probabilistic label:\n",
      "\tmin: 0.0\n",
      "\tmax: 1.0\n",
      "\tmedian: 0.0\n",
      "\tmean: 0.084\n",
      "\tstd: 0.17\n",
      "Number of instances consisting of more than one token: 1086\n",
      "Maximum number of tokens for an instance: : 10\n"
     ]
    }
   ],
   "source": [
    "target_word = list(wiki_news_train_df[\"target_word\"])\n",
    "binary_label = list(wiki_news_train_df[\"binary\"])\n",
    "prob_label = list(wiki_news_train_df[\"prob\"])\n",
    "\n",
    "token_list = []\n",
    "\n",
    "for i in range(len(target_word)):\n",
    "    instance = nlp(target_word[i])\n",
    "    token_list.append(0)\n",
    "    for token in instance:\n",
    "        token_list[i] +=1\n",
    "\n",
    "\n",
    "print(f\"Number of instances labeled with 0: {Counter(binary_label)[0]}\\n\\\n",
    "Number of instances labeled with 1: {Counter(binary_label)[1]}\\n\\\n",
    "Probabilistic label:\\n\\\n",
    "\\tmin: {np.min(prob_label)}\\n\\\n",
    "\\tmax: {np.max(prob_label)}\\n\\\n",
    "\\tmedian: {np.median(prob_label)}\\n\\\n",
    "\\tmean: {round(np.mean(prob_label), 3)}\\n\\\n",
    "\\tstd: {round(np.std(prob_label), 3)}\\n\\\n",
    "Number of instances consisting of more than one token: {sum(i > 1 for i in token_list)}\\n\\\n",
    "Maximum number of tokens for an instance: : {max(token_list)}\")"
   ]
  },
  {
   "cell_type": "markdown",
   "metadata": {},
   "source": [
    "<b>TASK 8</b><font color='red'> (must be included in file TODO_analyses.py)</font>"
   ]
  },
  {
   "cell_type": "code",
   "execution_count": 11,
   "metadata": {},
   "outputs": [],
   "source": [
    "length_tokens = []\n",
    "frequency = []\n",
    "prob = []\n",
    "pos = []\n",
    "\n",
    "\n",
    "#filter only instances with one token and which are labeled as complex from at least one annotator\n",
    "for index, row in wiki_news_train_df.iterrows():\n",
    "    instance = nlp(row['target_word'])\n",
    "    tokens_per_instance = [token for token in instance]\n",
    "    if (len(tokens_per_instance) == 1) and (row['binary'] == 1):\n",
    "        length_tokens.append(len(tokens_per_instance[0].text))   \n",
    "        frequency.append(zipf_frequency(tokens_per_instance[0].text, 'en'))\n",
    "        prob.append(row['prob'])\n",
    "        pos.append(tokens_per_instance[0].pos_)\n"
   ]
  },
  {
   "cell_type": "code",
   "execution_count": 14,
   "metadata": {},
   "outputs": [
    {
     "name": "stdout",
     "output_type": "stream",
     "text": [
      "Pearson correlation length and complexity: (0.30207513870421576, 4.103410007084786e-52)\n",
      "Pearson correlation frequency and complexity: (-0.26876915450151595, 3.2226022021149647e-41)\n"
     ]
    }
   ],
   "source": [
    "# print(\"Pearson correlation length and complexity: {}\".format(np.corrcoef(length_tokens, prob)))\n",
    "# print(\"Pearson correlation frequency and complexity: {}\".format(np.corrcoef(frequency, prob)))\n",
    "\n",
    "print(\"Pearson correlation length and complexity: {}\".format(pearsonr(length_tokens, prob)))\n",
    "print(\"Pearson correlation frequency and complexity: {}\".format(pearsonr(frequency, prob)))"
   ]
  },
  {
   "cell_type": "code",
   "execution_count": 15,
   "metadata": {},
   "outputs": [
    {
     "data": {
      "image/png": "[encoded data removed]",
      "text/plain": [
       "<Figure size 432x288 with 1 Axes>"
      ]
     },
     "metadata": {
      "needs_background": "light"
     },
     "output_type": "display_data"
    }
   ],
   "source": [
    "plt.scatter(length_tokens, prob)\n",
    "plt.xlabel(\"Length Tokens\")\n",
    "plt.ylabel(\"Probabilistic complexity\")\n",
    "plt.show()"
   ]
  },
  {
   "cell_type": "code",
   "execution_count": 16,
   "metadata": {},
   "outputs": [
    {
     "data": {
      "image/png": "[encoded data removed]",
      "text/plain": [
       "<Figure size 432x288 with 1 Axes>"
      ]
     },
     "metadata": {
      "needs_background": "light"
     },
     "output_type": "display_data"
    }
   ],
   "source": [
    "plt.scatter(frequency, prob)\n",
    "plt.xlabel(\"Frequency\")\n",
    "plt.ylabel(\"Probabilistic complexity\")\n",
    "plt.show()"
   ]
  },
  {
   "cell_type": "markdown",
   "metadata": {},
   "source": []
  },
  {
   "cell_type": "code",
   "execution_count": 17,
   "metadata": {},
   "outputs": [
    {
     "data": {
      "image/png": "[encoded data removed]",
      "text/plain": [
       "<Figure size 432x288 with 1 Axes>"
      ]
     },
     "metadata": {
      "needs_background": "light"
     },
     "output_type": "display_data"
    }
   ],
   "source": [
    "plt.scatter(pos, prob)\n",
    "plt.xlabel(\"Part-of-Speech\")\n",
    "plt.ylabel(\"Probabilistic complexity\")\n",
    "plt.show()"
   ]
  },
  {
   "cell_type": "markdown",
   "metadata": {},
   "source": [
    "<b>TASK 10</b><font color='red'> (must be included in file TODO_baselines.py)</font>"
   ]
  },
  {
   "cell_type": "code",
   "execution_count": 21,
   "metadata": {},
   "outputs": [],
   "source": [
    "# Implement four baselines for the task.\n",
    "# Majority baseline: always assigns the majority class of the training data\n",
    "# Random baseline: randomly assigns one of the classes. Make sure to set a random seed and average the accuracy over 100 runs.\n",
    "# Length baseline: determines the class based on a length threshold\n",
    "# Frequency baseline: determines the class based on a frequency threshold\n",
    "\n",
    "from model.data_loader import DataLoader\n",
    "\n",
    "# Each baseline returns predictions for the test data. The length and frequency baselines determine a threshold using the development data.\n",
    "\n",
    "def majority_baseline(train_sentences, train_labels, testinput, testlabels):\n",
    "    #find out about majority  class in training data\n",
    "    predictions = []\n",
    "    for instance in train_labels:   \n",
    "        tokens = instance.split(\" \")\n",
    "        for i in tokens:         \n",
    "            if i == 'N\\n':\n",
    "                i = 'N'\n",
    "            elif i == 'C\\n':\n",
    "                i = 'C'\n",
    "            predictions.append(i)\n",
    "            \n",
    "    majority_class = Counter(predictions).most_common()[0][0]\n",
    "    #assign to each token (word) in test data the majority class as predicted value\n",
    "    predictions = []\n",
    "    for instance in testinput:\n",
    "        tokens = instance.split(\" \")\n",
    "        for _ in tokens:\n",
    "            predictions.append(majority_class)\n",
    "    \n",
    "    test_labels = []\n",
    "    for instance in testlabels:\n",
    "        tokens = instance.split(\" \")\n",
    "        for i in tokens:         \n",
    "            if i == 'N\\n':\n",
    "                i = 'N'\n",
    "            elif i == 'C\\n':\n",
    "                i = 'C'\n",
    "            test_labels.append(i)\n",
    "\n",
    "    #calculate accuracy\n",
    "    correct_labeled = 0\n",
    "    for i in range(len(predictions)):\n",
    "        if predictions[i] == test_labels[i]:\n",
    "            correct_labeled += 1\n",
    "\n",
    "    accuracy = round(correct_labeled/len(predictions), 2)\n",
    "    return accuracy, predictions\n",
    "\n",
    "\n",
    "\n",
    "\n",
    "def random_baseline(train_sentences, train_labels, testinput, testlabels):\n",
    "    predictions = []\n",
    "    for instance in train_labels:   \n",
    "        tokens = instance.split(\" \")\n",
    "        for i in tokens:         \n",
    "            if i == 'N\\n':\n",
    "                i = 'N'\n",
    "            elif i == 'C\\n':\n",
    "                i = 'C'\n",
    "            predictions.append(i)\n",
    "    \n",
    "    distinct_labels = list(set(predictions))\n",
    "\n",
    "    test_labels = []\n",
    "    for instance in testlabels:\n",
    "        tokens = instance.split(\" \")\n",
    "        for i in tokens:         \n",
    "            if i == 'N\\n':\n",
    "                i = 'N'\n",
    "            elif i == 'C\\n':\n",
    "                i = 'C'\n",
    "            test_labels.append(i)\n",
    "\n",
    "    #assign random label to test output 100 times and average accuracy\n",
    "    accuracies = []\n",
    "    for i in range (100):\n",
    "        random.seed(i)\n",
    "        predictions = []\n",
    "        for instance in testinput:\n",
    "            tokens = instance.split(\" \")\n",
    "            for _ in tokens:\n",
    "                predictions.append(random.choice(distinct_labels))\n",
    "        \n",
    "        #calculate accuracy after each iteration with new random seed\n",
    "        correct_labeled = 0\n",
    "        for i in range(len(predictions)):\n",
    "            if predictions[i] == test_labels[i]:\n",
    "                correct_labeled += 1\n",
    "\n",
    "        random_accuracy = round(correct_labeled/len(predictions), 2)\n",
    "        accuracies.append(random_accuracy)\n",
    "    \n",
    "    accuracy = round(sum(accuracies)/len(accuracies), 2)\n",
    "    return accuracy, predictions   \n",
    "\n",
    "\n",
    "\n",
    "def length_baseline(testinput, testlabels, length_threshold):  \n",
    "    test_labels = []\n",
    "    for instance in testlabels:\n",
    "        tokens = instance.split(\" \")\n",
    "        for i in tokens:         \n",
    "            if i == 'N\\n':\n",
    "                i = 'N'\n",
    "            elif i == 'C\\n':\n",
    "                i = 'C'\n",
    "            test_labels.append(i)\n",
    "    \n",
    "    predictions = []\n",
    "    for sentence in testinput:\n",
    "        tokens = sentence.split(\" \")\n",
    "        for token in tokens:\n",
    "            if len(token) >= length_threshold:\n",
    "                predictions.append('C')\n",
    "            else: \n",
    "                predictions.append('N')\n",
    "\n",
    "    #calculate accuracy\n",
    "    correct_labeled = 0\n",
    "    for i in range(len(predictions)):\n",
    "        if predictions[i] == test_labels[i]:\n",
    "            correct_labeled += 1\n",
    "\n",
    "    accuracy = round(correct_labeled/len(predictions), 2)\n",
    "    return accuracy, predictions  \n",
    "\n",
    "\n",
    "\n",
    "def frequency_baseline(testinput, testlabels, frequency_threshold):\n",
    "    test_labels = []\n",
    "    for instance in testlabels:\n",
    "        tokens = instance.split(\" \")\n",
    "        for i in tokens:         \n",
    "            if i == 'N\\n':\n",
    "                i = 'N'\n",
    "            elif i == 'C\\n':\n",
    "                i = 'C'\n",
    "            test_labels.append(i)\n",
    "\n",
    "    predictions = []\n",
    "    for sentence in testinput:\n",
    "        tokens = sentence.split(\" \")\n",
    "        for token in tokens:\n",
    "            if zipf_frequency(token, 'en') <= frequency_threshold:\n",
    "                predictions.append('C')\n",
    "            else: \n",
    "                predictions.append('N')\n",
    "\n",
    "    #calculate accuracy\n",
    "    correct_labeled = 0\n",
    "    for i in range(len(predictions)):\n",
    "        if predictions[i] == test_labels[i]:\n",
    "            correct_labeled += 1\n",
    "\n",
    "    accuracy = round(correct_labeled/len(predictions), 2)\n",
    "    return accuracy, predictions  \n",
    "\n",
    "if __name__ == '__main__':\n",
    "    dir_path = cwd\n",
    "    train_path = dir_path + \"/data/preprocessed/train/\"\n",
    "    dev_path = dir_path + \"/data/preprocessed/val/\"          #changed from \"/dev/\" to \"/val/\" because there exists no \"dev\" folder\n",
    "    test_path = dir_path + \"/data/preprocessed/test/\"\n",
    "\n",
    "    # Note: this loads all instances into memory. If you work with bigger files in the future, use an iterator instead.\n",
    "\n",
    "    with open(train_path + \"sentences.txt\") as sent_file:\n",
    "        train_sentences = sent_file.readlines()\n",
    "\n",
    "    with open(train_path + \"labels.txt\") as label_file:\n",
    "        train_labels = label_file.readlines()\n",
    "\n",
    "    with open(dev_path + \"sentences.txt\") as dev_file:\n",
    "        dev_sentences = dev_file.readlines()\n",
    "\n",
    "    with open(dev_path + \"labels.txt\") as dev_label_file:       #changed from \"train_path\" to \"dev_path\"\n",
    "        dev_labels = dev_label_file.readlines()\n",
    "\n",
    "    with open(test_path + \"sentences.txt\") as testfile:\n",
    "        testinput = testfile.readlines()\n",
    "\n",
    "    with open(test_path + \"labels.txt\") as test_label_file:\n",
    "        testlabels = test_label_file.readlines()\n",
    "        \n",
    "    length_threshold = 8   #accuracy best at threshold 8         \n",
    "    frequency_threshold = 4.52  #accuracy best at zipf-frequency-threshold 4.52\n",
    "    dev_majority_accuracy, dev_majority_predictions = majority_baseline(train_sentences, train_labels, dev_sentences, dev_labels)\n",
    "    dev_random_accuracy, dev_random_predictions = random_baseline(train_sentences, train_labels, dev_sentences, dev_labels)\n",
    "    dev_length_accuracy, dev_length_predictions = length_baseline(dev_sentences, dev_labels, length_threshold)\n",
    "    dev_frequency_accuracy, dev_frequency_predictions = frequency_baseline(dev_sentences, dev_labels, frequency_threshold)\n",
    "\n",
    "    test_majority_accuracy, test_majority_predictions = majority_baseline(train_sentences, train_labels, testinput, testlabels)\n",
    "    test_random_accuracy, test_random_predictions = random_baseline(train_sentences, train_labels, testinput, testlabels)\n",
    "    test_length_accuracy, test_length_predictions = length_baseline(testinput, testlabels, length_threshold)\n",
    "    test_frequency_accuracy, test_frequency_predictions = frequency_baseline(testinput, testlabels, frequency_threshold)\n",
    " \n",
    "\n",
    "    baselines = [\"Majority\", \"Random\", \"Length\", \"Frequency\"]\n",
    "    acc_dev = [dev_majority_accuracy, dev_random_accuracy, dev_length_accuracy, dev_frequency_accuracy]\n",
    "    acc_test = [test_majority_accuracy, test_random_accuracy, test_length_accuracy, test_frequency_accuracy]\n",
    "    baseline_df = pd.DataFrame({\"Baseline\":baselines, \"Accuracy on dev\": acc_dev, \"Accuracy on test\":acc_test})\n",
    "    \n"
   ]
  },
  {
   "cell_type": "code",
   "execution_count": 22,
   "metadata": {},
   "outputs": [
    {
     "data": {
      "text/html": [
       "<div>\n",
       "<style scoped>\n",
       "    .dataframe tbody tr th:only-of-type {\n",
       "        vertical-align: middle;\n",
       "    }\n",
       "\n",
       "    .dataframe tbody tr th {\n",
       "        vertical-align: top;\n",
       "    }\n",
       "\n",
       "    .dataframe thead th {\n",
       "        text-align: right;\n",
       "    }\n",
       "</style>\n",
       "<table border=\"1\" class=\"dataframe\">\n",
       "  <thead>\n",
       "    <tr style=\"text-align: right;\">\n",
       "      <th></th>\n",
       "      <th>Baseline</th>\n",
       "      <th>Accuracy on dev</th>\n",
       "      <th>Accuracy on test</th>\n",
       "    </tr>\n",
       "  </thead>\n",
       "  <tbody>\n",
       "    <tr>\n",
       "      <th>0</th>\n",
       "      <td>Majority</td>\n",
       "      <td>0.85</td>\n",
       "      <td>0.80</td>\n",
       "    </tr>\n",
       "    <tr>\n",
       "      <th>1</th>\n",
       "      <td>Random</td>\n",
       "      <td>0.50</td>\n",
       "      <td>0.50</td>\n",
       "    </tr>\n",
       "    <tr>\n",
       "      <th>2</th>\n",
       "      <td>Length</td>\n",
       "      <td>0.88</td>\n",
       "      <td>0.87</td>\n",
       "    </tr>\n",
       "    <tr>\n",
       "      <th>3</th>\n",
       "      <td>Frequency</td>\n",
       "      <td>0.75</td>\n",
       "      <td>0.76</td>\n",
       "    </tr>\n",
       "  </tbody>\n",
       "</table>\n",
       "</div>"
      ],
      "text/plain": [
       "    Baseline  Accuracy on dev  Accuracy on test\n",
       "0   Majority             0.85              0.80\n",
       "1     Random             0.50              0.50\n",
       "2     Length             0.88              0.87\n",
       "3  Frequency             0.75              0.76"
      ]
     },
     "execution_count": 22,
     "metadata": {},
     "output_type": "execute_result"
    }
   ],
   "source": [
    "baseline_df.head()"
   ]
  },
  {
   "cell_type": "markdown",
   "metadata": {},
   "source": [
    "<h1><b>PART C</b></h1>"
   ]
  },
  {
   "cell_type": "markdown",
   "metadata": {},
   "source": [
    "<b>TASK 12</b>\n",
    "<font color='red'>(must be included in file TODO_detailed_evaluation.py)</font>"
   ]
  },
  {
   "cell_type": "code",
   "execution_count": null,
   "metadata": {},
   "outputs": [],
   "source": [
    "#-> LSTM was evaluated on test data, so we calculate precision, recall and F1 based on the results on the test data\n",
    "\n",
    "def get_lstm_predictions(lstm_output):\n",
    "    '''\n",
    "    First column is gold label, Second column is prediction\n",
    "    '''\n",
    "    predictions = []\n",
    "    for instance in lstm_output:\n",
    "        tokens = instance.split(\"\\t\")\n",
    "        if len(tokens) != 3: continue   #ignore separating rows   \n",
    "        if tokens[2] == 'N\\n':\n",
    "            predictions.append('N')\n",
    "        elif tokens[2] == 'C\\n':\n",
    "            predictions.append('C')\n",
    "    return predictions\n",
    "\n",
    "if __name__ == '__main__':\n",
    "\n",
    "    with open(cwd + \"/data/preprocessed/test/labels.txt\") as test_label_file:\n",
    "        testlabels = test_label_file.readlines()\n",
    "\n",
    "    with open(cwd + \"/experiments/base_model/model_output.tsv\") as model_output:\n",
    "        lstm_output = model_output.readlines()\n",
    "\n",
    "    test_labels = []\n",
    "    for instance in testlabels:\n",
    "        tokens = instance.split(\" \")\n",
    "        for i in tokens:         \n",
    "            if i == 'N\\n':\n",
    "                i = 'N'\n",
    "            elif i == 'C\\n':\n",
    "                i = 'C'\n",
    "            test_labels.append(i)\n",
    "    \n",
    "    num_N_labels  = Counter(test_labels).most_common()[0][1]\n",
    "    num_C_labels = Counter(test_labels).most_common()[1][1]\n",
    "    print(num_N_labels)\n",
    "    print(num_C_labels)\n",
    "\n",
    "    _, test_majority_predictions = majority_baseline(train_sentences, train_labels, testinput, testlabels)\n",
    "    _, test_random_predictions = random_baseline(train_sentences, train_labels, testinput, testlabels)\n",
    "    _, test_length_predictions = length_baseline(testinput, testlabels, length_threshold)\n",
    "    _, test_frequency_predictions = frequency_baseline(testinput, testlabels, frequency_threshold)\n",
    "    lstm_prediction = get_lstm_predictions(lstm_output)\n",
    "\n",
    "\n",
    "    # WHEN CLASS 'N' IS TRUE POSITIV\n",
    "    # what is fp, fn, tp, tn depends on order of labels-argument in confusion matrix function, first element in labels-list is TP\n",
    "    print(sklearn.metrics.confusion_matrix(test_labels, test_majority_predictions, labels = ['C', 'N']))\n",
    "    # print(sklearn.metrics.confusion_matrix(test_labels, test_random_predictions, labels = ['N', 'C']))\n",
    "    # print(sklearn.metrics.confusion_matrix(test_labels, test_length_predictions, labels = ['N', 'C']))\n",
    "    # print(sklearn.metrics.confusion_matrix(test_labels, test_frequency_predictions, labels = ['N', 'C']))\n",
    "    # print(sklearn.metrics.confusion_matrix(test_labels, lstm_prediction, labels = ['N', 'C']))\n",
    "\n",
    "    # pos_label determines TP\n",
    "    print(\"Scores with 'N' as TP:\")\n",
    "    print(\"Precision score majority baseline: \" + str(sklearn.metrics.precision_score(test_labels, test_majority_predictions, pos_label='N')))\n",
    "    print(\"Precision score random baseline: \" + str(sklearn.metrics.precision_score(test_labels, test_random_predictions, pos_label='N')))\n",
    "    print(\"Precision score length baseline: \" + str(sklearn.metrics.precision_score(test_labels, test_length_predictions, pos_label='N')))\n",
    "    print(\"Precision score frequency baseline: \" + str(sklearn.metrics.precision_score(test_labels, test_frequency_predictions, pos_label='N')))\n",
    "    print(\"Precision score LSTM: \" + str(sklearn.metrics.precision_score(test_labels, lstm_prediction, pos_label='N')))\n",
    "    print()\n",
    "    print(\"Recall score majority baseline: \" + str(sklearn.metrics.recall_score(test_labels, test_majority_predictions, pos_label='N')))\n",
    "    print(\"Recall score random baseline: \" + str(sklearn.metrics.recall_score(test_labels, test_random_predictions, pos_label='N')))\n",
    "    print(\"Recall score length baseline: \" + str(sklearn.metrics.recall_score(test_labels, test_length_predictions, pos_label='N')))\n",
    "    print(\"Recall score frequency baseline: \" + str(sklearn.metrics.recall_score(test_labels, test_frequency_predictions, pos_label='N')))\n",
    "    print(\"Recall score LSTM: \" + str(sklearn.metrics.recall_score(test_labels, lstm_prediction, pos_label='N')))\n",
    "    print()\n",
    "    print(\"F1 score majority baseline: \" + str(sklearn.metrics.f1_score(test_labels, test_majority_predictions, pos_label='N')))\n",
    "    print(\"F1 score random baseline: \" + str(sklearn.metrics.f1_score(test_labels, test_random_predictions, pos_label='N')))\n",
    "    print(\"F1 score length baseline: \" + str(sklearn.metrics.f1_score(test_labels, test_length_predictions, pos_label='N')))\n",
    "    print(\"F1 score frequency baseline: \" + str(sklearn.metrics.f1_score(test_labels, test_frequency_predictions, pos_label='N')))\n",
    "    print(\"F1 score LSTM: \" + str(sklearn.metrics.f1_score(test_labels, lstm_prediction, pos_label='N')))\n",
    "\n",
    "    # WHEN CLASS 'C' IS TRUE POSITIV\n",
    "    print(\"\\nScores with 'C' as TP:\")\n",
    "    print(\"Precision score majority baseline: \" + str(sklearn.metrics.precision_score(test_labels, test_majority_predictions, pos_label='C')))\n",
    "    print(\"Precision score random baseline: \" + str(sklearn.metrics.precision_score(test_labels, test_random_predictions, pos_label='C')))\n",
    "    print(\"Precision score length baseline: \" + str(sklearn.metrics.precision_score(test_labels, test_length_predictions, pos_label='C')))\n",
    "    print(\"Precision score frequency baseline: \" + str(sklearn.metrics.precision_score(test_labels, test_frequency_predictions, pos_label='C')))\n",
    "    print(\"Precision score LSTM: \" + str(sklearn.metrics.precision_score(test_labels, lstm_prediction, pos_label='C')))\n",
    "    print()\n",
    "    print(\"Recall score majority baseline: \" + str(sklearn.metrics.recall_score(test_labels, test_majority_predictions, pos_label='C')))\n",
    "    print(\"Recall score random baseline: \" + str(sklearn.metrics.recall_score(test_labels, test_random_predictions, pos_label='C')))\n",
    "    print(\"Recall score length baseline: \" + str(sklearn.metrics.recall_score(test_labels, test_length_predictions, pos_label='C')))\n",
    "    print(\"Recall score frequency baseline: \" + str(sklearn.metrics.recall_score(test_labels, test_frequency_predictions, pos_label='C')))\n",
    "    print(\"Recall score LSTM: \" + str(sklearn.metrics.recall_score(test_labels, lstm_prediction, pos_label='C')))\n",
    "    print()\n",
    "    print(\"F1 score majority baseline: \" + str(sklearn.metrics.f1_score(test_labels, test_majority_predictions, pos_label='C')))\n",
    "    print(\"F1 score random baseline: \" + str(sklearn.metrics.f1_score(test_labels, test_random_predictions, pos_label='C')))\n",
    "    print(\"F1 score length baseline: \" + str(sklearn.metrics.f1_score(test_labels, test_length_predictions, pos_label='C')))\n",
    "    print(\"F1 score frequency baseline: \" + str(sklearn.metrics.f1_score(test_labels, test_frequency_predictions, pos_label='C')))\n",
    "    print(\"F1 score LSTM: \" + str(sklearn.metrics.f1_score(test_labels, lstm_prediction, pos_label='C')))\n",
    "\n",
    "    # WEIGHTEST F1 SCORES\n",
    "    print(\"\\nWeighted F1-score majority baseline: \"+ str(sklearn.metrics.f1_score(test_labels, test_majority_predictions, average='weighted')))\n",
    "    print(\"Weighted F1-score random baseline: \"+ str(sklearn.metrics.f1_score(test_labels, test_random_predictions, average='weighted')))\n",
    "    print(\"Weighted F1-score length baseline: \"+ str(sklearn.metrics.f1_score(test_labels, test_length_predictions, average='weighted')))\n",
    "    print(\"Weighted F1-score frequency baseline: \"+ str(sklearn.metrics.f1_score(test_labels, test_frequency_predictions, average='weighted')))\n",
    "    print(\"Weighted F1-score LSTM: \"+ str(sklearn.metrics.f1_score(test_labels, lstm_prediction, average='weighted')))\n",
    "\n",
    "    \n",
    "    # print(sklearn.metrics.recall_score(test_labels, lstm_prediction, pos_label='C'))\n",
    "\n",
    "    # print(sklearn.metrics.f1_score(test_labels, lstm_prediction, pos_label='C'))\n",
    "\n"
   ]
  },
  {
   "cell_type": "markdown",
   "metadata": {},
   "source": [
    "<b>TASK 14</b>\n",
    "<font color='red'>(must be included in file TODO_detailed_evaluation.py)</font>"
   ]
  },
  {
   "cell_type": "code",
   "execution_count": 148,
   "metadata": {},
   "outputs": [],
   "source": [
    "with open(cwd + \"/experiments/base_model/model_output.tsv\") as model_output:\n",
    "    lstm_output = model_output.readlines()\n",
    " \n",
    "f = open(cwd + \"/experiments/base_model/params.json\")\n",
    "params = json.load(f)\n",
    "\n",
    "lstm_prediction = get_lstm_predictions(lstm_output)\n",
    "\n",
    "weighted_F1_score_LSTM = sklearn.metrics.f1_score(test_labels, lstm_prediction, average='weighted')\n",
    "\n",
    "#created a new file 'Weighted_F1_scores.txt' to save F1 scores and predictions for differnet hyperparamter values\n",
    "with open(cwd + '/Weighted_F1_scores.txt', 'a') as f:\n",
    "    f.write(str(params['learning_rate']) + \" \")\n",
    "    f.write(str(weighted_F1_score_LSTM) + \" \")\n",
    "    for i in lstm_prediction:\n",
    "        f.write(str(i) + \" \")\n",
    "    f.write(\"\\n\")"
   ]
  },
  {
   "cell_type": "code",
   "execution_count": null,
   "metadata": {},
   "outputs": [],
   "source": [
    "learning_rates = []\n",
    "weighted_f1_scores = []\n",
    "lstm_predictions = []\n",
    "\n",
    "with open(cwd + '/Weighted_F1_scores.txt', 'r') as f:\n",
    "    LSTM_metrics_output = f.readlines()\n",
    "\n",
    "for instance in LSTM_metrics_output:\n",
    "    output = instance.split(\" \")\n",
    "    learning_rates.append(float(output[0]))\n",
    "    weighted_f1_scores.append(round(float(output[1]), 3))\n",
    "    single_model_predictions = []\n",
    "    for i in range(2, len(output)):\n",
    "        if output[i] == '\\n': continue\n",
    "        else: single_model_predictions.append(output[i])\n",
    "    lstm_predictions.append(single_model_predictions)\n",
    "\n",
    "print(learning_rates)\n",
    "print(weighted_f1_scores)\n",
    "print(lstm_predictions)"
   ]
  },
  {
   "cell_type": "code",
   "execution_count": 155,
   "metadata": {},
   "outputs": [
    {
     "data": {
      "image/png": "[encoded data removed]",
      "text/plain": [
       "<Figure size 432x288 with 1 Axes>"
      ]
     },
     "metadata": {
      "needs_background": "light"
     },
     "output_type": "display_data"
    }
   ],
   "source": [
    "plt.plot(learning_rates, weighted_f1_scores, marker='o')\n",
    "plt.xlabel(\"Learning Rate\")\n",
    "plt.ylabel(\"Weighted F1 Score\")\n",
    "plt.xticks(rotation=45)\n",
    "plt.show()"
   ]
  },
  {
   "cell_type": "code",
   "execution_count": 170,
   "metadata": {},
   "outputs": [
    {
     "name": "stdout",
     "output_type": "stream",
     "text": [
      "Hyperparam value 0 vs Hyperparam value 1-> for Token: forensic , the prediction has changed from C to N\n",
      "Hyperparam value 0 vs Hyperparam value 1-> for Token: house , the prediction has changed from N to C\n",
      "Hyperparam value 0 vs Hyperparam value 1-> for Token: prison , the prediction has changed from C to N\n",
      "Hyperparam value 0 vs Hyperparam value 1-> for Token: prison , the prediction has changed from N to C\n",
      "Hyperparam value 0 vs Hyperparam value 1-> for Token: Natal , the prediction has changed from N to C\n",
      "Hyperparam value 0 vs Hyperparam value 1-> for Token: capital , the prediction has changed from N to C\n",
      "Hyperparam value 0 vs Hyperparam value 1-> for Token: house , the prediction has changed from N to C\n",
      "Hyperparam value 0 vs Hyperparam value 1-> for Token: house , the prediction has changed from N to C\n",
      "Hyperparam value 0 vs Hyperparam value 1-> for Token: classified , the prediction has changed from N to C\n",
      "Hyperparam value 0 vs Hyperparam value 1-> for Token: abuses , the prediction has changed from N to C\n",
      "Hyperparam value 0 vs Hyperparam value 1-> for Token: wars , the prediction has changed from C to N\n",
      "Hyperparam value 0 vs Hyperparam value 1-> for Token: release , the prediction has changed from N to C\n",
      "Hyperparam value 0 vs Hyperparam value 1-> for Token: bombers , the prediction has changed from N to C\n",
      "Hyperparam value 0 vs Hyperparam value 1-> for Token: Houston-area , the prediction has changed from N to C\n",
      "Hyperparam value 0 vs Hyperparam value 1-> for Token: Houston , the prediction has changed from N to C\n",
      "Hyperparam value 0 vs Hyperparam value 1-> for Token: triple , the prediction has changed from N to C\n",
      "Hyperparam value 0 vs Hyperparam value 1-> for Token: taking , the prediction has changed from N to C\n",
      "Hyperparam value 0 vs Hyperparam value 1-> for Token: citizens , the prediction has changed from N to C\n",
      "Hyperparam value 0 vs Hyperparam value 1-> for Token: 21:00 , the prediction has changed from C to N\n",
      "Hyperparam value 0 vs Hyperparam value 1-> for Token: deputies , the prediction has changed from N to C\n",
      "Hyperparam value 0 vs Hyperparam value 1-> for Token: arrived , the prediction has changed from C to N\n",
      "Hyperparam value 0 vs Hyperparam value 1-> for Token: commutes , the prediction has changed from C to N\n",
      "Hyperparam value 0 vs Hyperparam value 1-> for Token: 120 , the prediction has changed from N to C\n",
      "Hyperparam value 0 vs Hyperparam value 1-> for Token: leave , the prediction has changed from N to C\n",
      "Hyperparam value 0 vs Hyperparam value 1-> for Token: President , the prediction has changed from N to C\n",
      "Hyperparam value 0 vs Hyperparam value 1-> for Token: victims , the prediction has changed from N to C\n",
      "Hyperparam value 0 vs Hyperparam value 1-> for Token: 26 , the prediction has changed from C to N\n",
      "Hyperparam value 0 vs Hyperparam value 1-> for Token: charged , the prediction has changed from N to C\n",
      "Hyperparam value 0 vs Hyperparam value 1-> for Token: Al-Qaeda , the prediction has changed from N to C\n",
      "Hyperparam value 0 vs Hyperparam value 1-> for Token: affiliate , the prediction has changed from N to C\n",
      "Hyperparam value 0 vs Hyperparam value 1-> for Token: Robert , the prediction has changed from N to C\n",
      "Hyperparam value 0 vs Hyperparam value 1-> for Token: 2021 , the prediction has changed from N to C\n",
      "Hyperparam value 0 vs Hyperparam value 1-> for Token: Franck , the prediction has changed from C to N\n",
      "Hyperparam value 1 vs Hyperparam value 2-> for Token: coordinator , the prediction has changed from N to C\n",
      "Hyperparam value 1 vs Hyperparam value 2-> for Token: Zemilton , the prediction has changed from N to C\n",
      "Hyperparam value 1 vs Hyperparam value 2-> for Token: forensic , the prediction has changed from N to C\n",
      "Hyperparam value 1 vs Hyperparam value 2-> for Token: prison , the prediction has changed from N to C\n",
      "Hyperparam value 1 vs Hyperparam value 2-> for Token: reported , the prediction has changed from C to N\n",
      "Hyperparam value 1 vs Hyperparam value 2-> for Token: house , the prediction has changed from C to N\n",
      "Hyperparam value 1 vs Hyperparam value 2-> for Token: released , the prediction has changed from C to N\n",
      "Hyperparam value 1 vs Hyperparam value 2-> for Token: abuses , the prediction has changed from C to N\n",
      "Hyperparam value 1 vs Hyperparam value 2-> for Token: wars , the prediction has changed from N to C\n",
      "Hyperparam value 1 vs Hyperparam value 2-> for Token: release , the prediction has changed from C to N\n",
      "Hyperparam value 1 vs Hyperparam value 2-> for Token: bombers , the prediction has changed from C to N\n",
      "Hyperparam value 1 vs Hyperparam value 2-> for Token: slain , the prediction has changed from C to N\n",
      "Hyperparam value 1 vs Hyperparam value 2-> for Token: Houston-area , the prediction has changed from C to N\n",
      "Hyperparam value 1 vs Hyperparam value 2-> for Token: Texas , the prediction has changed from C to N\n",
      "Hyperparam value 1 vs Hyperparam value 2-> for Token: According , the prediction has changed from C to N\n",
      "Hyperparam value 1 vs Hyperparam value 2-> for Token: adequate , the prediction has changed from N to C\n",
      "Hyperparam value 1 vs Hyperparam value 2-> for Token: Office , the prediction has changed from C to N\n",
      "Hyperparam value 1 vs Hyperparam value 2-> for Token: commutes , the prediction has changed from N to C\n",
      "Hyperparam value 1 vs Hyperparam value 2-> for Token: whistleblower , the prediction has changed from N to C\n",
      "Hyperparam value 1 vs Hyperparam value 2-> for Token: Yesterday , the prediction has changed from N to C\n",
      "Hyperparam value 1 vs Hyperparam value 2-> for Token: leave , the prediction has changed from C to N\n",
      "Hyperparam value 1 vs Hyperparam value 2-> for Token: President , the prediction has changed from C to N\n",
      "Hyperparam value 1 vs Hyperparam value 2-> for Token: vary , the prediction has changed from N to C\n",
      "Hyperparam value 1 vs Hyperparam value 2-> for Token: 26 , the prediction has changed from N to C\n",
      "Hyperparam value 1 vs Hyperparam value 2-> for Token: Al-Qaeda , the prediction has changed from C to N\n",
      "Hyperparam value 1 vs Hyperparam value 2-> for Token: bomber , the prediction has changed from N to C\n",
      "Hyperparam value 1 vs Hyperparam value 2-> for Token: striker , the prediction has changed from N to C\n",
      "Hyperparam value 1 vs Hyperparam value 2-> for Token: contract , the prediction has changed from C to N\n",
      "Hyperparam value 1 vs Hyperparam value 2-> for Token: Franck , the prediction has changed from N to C\n",
      "Hyperparam value 2 vs Hyperparam value 3-> for Token: coordinator , the prediction has changed from C to N\n",
      "Hyperparam value 2 vs Hyperparam value 3-> for Token: Zemilton , the prediction has changed from C to N\n",
      "Hyperparam value 2 vs Hyperparam value 3-> for Token: forensic , the prediction has changed from C to N\n",
      "Hyperparam value 2 vs Hyperparam value 3-> for Token: reported , the prediction has changed from N to C\n",
      "Hyperparam value 2 vs Hyperparam value 3-> for Token: Grande , the prediction has changed from C to N\n",
      "Hyperparam value 2 vs Hyperparam value 3-> for Token: house , the prediction has changed from N to C\n",
      "Hyperparam value 2 vs Hyperparam value 3-> for Token: released , the prediction has changed from N to C\n",
      "Hyperparam value 2 vs Hyperparam value 3-> for Token: thousands , the prediction has changed from N to C\n",
      "Hyperparam value 2 vs Hyperparam value 3-> for Token: classified , the prediction has changed from C to N\n",
      "Hyperparam value 2 vs Hyperparam value 3-> for Token: abuses , the prediction has changed from N to C\n",
      "Hyperparam value 2 vs Hyperparam value 3-> for Token: wars , the prediction has changed from C to N\n",
      "Hyperparam value 2 vs Hyperparam value 3-> for Token: prison , the prediction has changed from N to C\n",
      "Hyperparam value 2 vs Hyperparam value 3-> for Token: Houston , the prediction has changed from C to N\n",
      "Hyperparam value 2 vs Hyperparam value 3-> for Token: Texas , the prediction has changed from N to C\n",
      "Hyperparam value 2 vs Hyperparam value 3-> for Token: figure , the prediction has changed from C to N\n",
      "Hyperparam value 2 vs Hyperparam value 3-> for Token: taking , the prediction has changed from C to N\n",
      "Hyperparam value 2 vs Hyperparam value 3-> for Token: adequate , the prediction has changed from C to N\n",
      "Hyperparam value 2 vs Hyperparam value 3-> for Token: protect , the prediction has changed from N to C\n",
      "Hyperparam value 2 vs Hyperparam value 3-> for Token: citizens , the prediction has changed from C to N\n",
      "Hyperparam value 2 vs Hyperparam value 3-> for Token: Office , the prediction has changed from N to C\n",
      "Hyperparam value 2 vs Hyperparam value 3-> for Token: arrived , the prediction has changed from N to C\n",
      "Hyperparam value 2 vs Hyperparam value 3-> for Token: commutes , the prediction has changed from C to N\n",
      "Hyperparam value 2 vs Hyperparam value 3-> for Token: Manning , the prediction has changed from N to C\n",
      "Hyperparam value 2 vs Hyperparam value 3-> for Token: 120 , the prediction has changed from C to N\n",
      "Hyperparam value 2 vs Hyperparam value 3-> for Token: Yesterday , the prediction has changed from C to N\n",
      "Hyperparam value 2 vs Hyperparam value 3-> for Token: mere , the prediction has changed from C to N\n",
      "Hyperparam value 2 vs Hyperparam value 3-> for Token: vary , the prediction has changed from C to N\n",
      "Hyperparam value 2 vs Hyperparam value 3-> for Token: striker , the prediction has changed from C to N\n",
      "Hyperparam value 2 vs Hyperparam value 3-> for Token: Robert , the prediction has changed from C to N\n",
      "Hyperparam value 2 vs Hyperparam value 3-> for Token: contract , the prediction has changed from N to C\n",
      "Hyperparam value 2 vs Hyperparam value 3-> for Token: 2021 , the prediction has changed from C to N\n",
      "Hyperparam value 3 vs Hyperparam value 4-> for Token: Here , the prediction has changed from N to C\n",
      "Hyperparam value 3 vs Hyperparam value 4-> for Token: met , the prediction has changed from C to N\n",
      "Hyperparam value 3 vs Hyperparam value 4-> for Token: decapitated , the prediction has changed from C to N\n",
      "Hyperparam value 3 vs Hyperparam value 4-> for Token: prison , the prediction has changed from C to N\n",
      "Hyperparam value 3 vs Hyperparam value 4-> for Token: prison , the prediction has changed from C to N\n",
      "Hyperparam value 3 vs Hyperparam value 4-> for Token: series , the prediction has changed from C to N\n",
      "Hyperparam value 3 vs Hyperparam value 4-> for Token: prison , the prediction has changed from C to N\n",
      "Hyperparam value 3 vs Hyperparam value 4-> for Token: inmates , the prediction has changed from C to N\n",
      "Hyperparam value 3 vs Hyperparam value 4-> for Token: prison , the prediction has changed from C to N\n",
      "Hyperparam value 3 vs Hyperparam value 4-> for Token: capital , the prediction has changed from C to N\n",
      "Hyperparam value 3 vs Hyperparam value 4-> for Token: Grande , the prediction has changed from N to C\n",
      "Hyperparam value 3 vs Hyperparam value 4-> for Token: special , the prediction has changed from N to C\n",
      "Hyperparam value 3 vs Hyperparam value 4-> for Token: thousands , the prediction has changed from C to N\n",
      "Hyperparam value 3 vs Hyperparam value 4-> for Token: WikiLeaks , the prediction has changed from C to N\n",
      "Hyperparam value 3 vs Hyperparam value 4-> for Token: detailing , the prediction has changed from C to N\n",
      "Hyperparam value 3 vs Hyperparam value 4-> for Token: served , the prediction has changed from N to C\n",
      "Hyperparam value 3 vs Hyperparam value 4-> for Token: prison , the prediction has changed from C to N\n",
      "Hyperparam value 3 vs Hyperparam value 4-> for Token: bombers , the prediction has changed from N to C\n",
      "Hyperparam value 3 vs Hyperparam value 4-> for Token: slain , the prediction has changed from N to C\n",
      "Hyperparam value 3 vs Hyperparam value 4-> for Token: Texas , the prediction has changed from C to N\n",
      "Hyperparam value 3 vs Hyperparam value 4-> for Token: triple , the prediction has changed from C to N\n",
      "Hyperparam value 3 vs Hyperparam value 4-> for Token: protect , the prediction has changed from C to N\n",
      "Hyperparam value 3 vs Hyperparam value 4-> for Token: served , the prediction has changed from N to C\n",
      "Hyperparam value 3 vs Hyperparam value 4-> for Token: reached , the prediction has changed from C to N\n",
      "Hyperparam value 3 vs Hyperparam value 4-> for Token: charged , the prediction has changed from C to N\n",
      "Hyperparam value 3 vs Hyperparam value 4-> for Token: crimes , the prediction has changed from C to N\n",
      "Hyperparam value 3 vs Hyperparam value 4-> for Token: affiliate , the prediction has changed from C to N\n",
      "Hyperparam value 3 vs Hyperparam value 4-> for Token: announced , the prediction has changed from C to N\n",
      "Hyperparam value 3 vs Hyperparam value 4-> for Token: Robert , the prediction has changed from N to C\n",
      "Hyperparam value 3 vs Hyperparam value 4-> for Token: Lewandowski , the prediction has changed from N to C\n",
      "Hyperparam value 3 vs Hyperparam value 4-> for Token: 2021 , the prediction has changed from N to C\n"
     ]
    }
   ],
   "source": [
    "with open(cwd + \"/data/preprocessed/test/sentences.txt\") as test_sentences:\n",
    "    test_sentences = test_sentences.readlines()\n",
    "\n",
    "#get all tokens from test dataset\n",
    "test_tokens = []\n",
    "for instance in test_sentences:\n",
    "    tokens = instance.split(\" \")\n",
    "    for i in tokens:         \n",
    "        if i == 'N\\n':\n",
    "            i = 'N'\n",
    "        elif i == 'C\\n':\n",
    "            i = 'C'\n",
    "        test_tokens.append(i)\n",
    "\n",
    "#find prediction changes for hyperparameter changes\n",
    "for i in range(len(lstm_predictions)-1):\n",
    "    for j in range(len(lstm_predictions[i])):\n",
    "        if lstm_predictions[i][j] != lstm_predictions[i+1][j]:\n",
    "            print(\"Hyperparam value \" + str(i) + \" vs Hyperparam value \" + str(i+1) + \"-> for Token: \" + str(test_tokens[j]) + \" , the prediction has changed from \" + str(lstm_predictions[i][j] + \" to \" + str(lstm_predictions[i+1][j])))\n"
   ]
  }
 ],
 "metadata": {
  "interpreter": {
   "hash": "528bc499b8fb4c180646b30b3825587cc8d369adecbe10e918de4c75a96f10a1"
  },
  "kernelspec": {
   "display_name": "Python 3.8.13 ('NLP')",
   "language": "python",
   "name": "python3"
  },
  "language_info": {
   "codemirror_mode": {
    "name": "ipython",
    "version": 3
   },
   "file_extension": ".py",
   "mimetype": "text/x-python",
   "name": "python",
   "nbconvert_exporter": "python",
   "pygments_lexer": "ipython3",
   "version": "3.8.13"
  },
  "orig_nbformat": 4
 },
 "nbformat": 4,
 "nbformat_minor": 2
}

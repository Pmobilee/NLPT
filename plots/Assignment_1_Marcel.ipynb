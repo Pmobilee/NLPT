{
 "cells": [
  {
   "cell_type": "code",
   "execution_count": 143,
   "metadata": {},
   "outputs": [],
   "source": [
    "from collections import Counter\n",
    "import spacy\n",
    "import textacy\n",
    "from spacy import displacy\n",
    "import pandas as pd\n",
    "import numpy as np\n",
    "from wordfreq import word_frequency\n",
    "from wordfreq import zipf_frequency\n",
    "import matplotlib.pyplot as plt\n",
    "import random\n",
    "\n",
    "nlp = spacy.load('en_core_web_sm')"
   ]
  },
  {
   "cell_type": "code",
   "execution_count": 58,
   "metadata": {},
   "outputs": [],
   "source": [
    "train_data = open('C:/Users/mpete/OneDrive/Desktop/Uni/Master_DBI/Period_5/NLP/Assignments/Assignment_1/intro2nlp_assignment1_code/data/preprocessed/train/sentences.txt', encoding='utf-8')\n",
    "text = train_data.read()\n",
    "train_data_doc = nlp(text)"
   ]
  },
  {
   "cell_type": "markdown",
   "metadata": {},
   "source": [
    "<h1><b>PART A</b></h1>"
   ]
  },
  {
   "cell_type": "markdown",
   "metadata": {},
   "source": [
    "<b>TASK 1</b>"
   ]
  },
  {
   "cell_type": "code",
   "execution_count": null,
   "metadata": {},
   "outputs": [],
   "source": [
    "word_frequencies = Counter()\n",
    "words_per_sentence = []\n",
    "\n",
    "for sentence in train_data_doc.sents:\n",
    "    words = []\n",
    "    words_single_sentence = 0\n",
    "    for token in sentence:\n",
    "        # Let's filter out punctuation and new lines (\"/n\")\n",
    "        if (not token.is_punct) and (not token.is_space):\n",
    "            words.append(token.text)\n",
    "            words_single_sentence += 1\n",
    "    words_per_sentence.append(words_single_sentence)\n",
    "    word_frequencies.update(words)\n",
    "\n",
    "#print(word_frequencies)\n",
    "num_tokens = len(train_data_doc)\n",
    "num_words = sum(word_frequencies.values())\n",
    "num_types = len(word_frequencies.keys())\n",
    "avg_num_words_per_sentence = sum(words_per_sentence) / len(words_per_sentence)\n",
    "avg_word_length = sum(len(word) for word in words) / len(words)\n",
    "\n",
    "print('Number of Tokens: ' + str(num_tokens))\n",
    "print('Number of Words: ' + str(num_words))\n",
    "print('Number of Types: ' + str(num_types))\n",
    "\n",
    "print('Average number of words per sentence: {number:.{digits}f}'.format(number = avg_num_words_per_sentence, digits = 2))\n",
    "print('Average word length: {number:.{digits}f}'.format(number = avg_word_length, digits = 2))"
   ]
  },
  {
   "cell_type": "markdown",
   "metadata": {},
   "source": [
    "<b>TASK 2</b>"
   ]
  },
  {
   "cell_type": "code",
   "execution_count": null,
   "metadata": {},
   "outputs": [],
   "source": [
    "pos_list = []\n",
    "\n",
    "NN_Noun = []\n",
    "NNP_Propn = []\n",
    "IN_Adp = []\n",
    "DT_Det = []\n",
    "JJ_Adj = []\n",
    "NNS_Noun = []\n",
    "COMMA_Punct = []\n",
    "PERIOD_Punct = []\n",
    "SP_Space = []\n",
    "VBN_Verb = []\n",
    "\n",
    "for token in train_data_doc:\n",
    "    #print(token.pos_, token.tag_)\n",
    "    pos_list.append('{}, {}'.format(token.pos_, token.tag_))\n",
    "    if ('{}, {}'.format(token.pos_, token.tag_) == 'NOUN, NN'):\n",
    "        NN_Noun.append(token.text)\n",
    "\n",
    "    elif ('{}, {}'.format(token.pos_, token.tag_) == 'PROPN, NNP'):\n",
    "        NNP_Propn.append(token.text)\n",
    "\n",
    "    elif ('{}, {}'.format(token.pos_, token.tag_) == 'ADP, IN'):\n",
    "        IN_Adp.append(token.text)\n",
    "\n",
    "    elif ('{}, {}'.format(token.pos_, token.tag_) == 'DET, DT'):\n",
    "        DT_Det.append(token.text)\n",
    "\n",
    "    elif ('{}, {}'.format(token.pos_, token.tag_) == 'ADJ, JJ'):\n",
    "        JJ_Adj.append(token.text)\n",
    "\n",
    "    elif ('{}, {}'.format(token.pos_, token.tag_) == 'NOUN, NNS'):\n",
    "        NNS_Noun.append(token.text)\n",
    "\n",
    "    elif ('{}, {}'.format(token.pos_, token.tag_) == 'PUNCT, ,'):\n",
    "        COMMA_Punct.append(token.text)\n",
    "\n",
    "    elif ('{}, {}'.format(token.pos_, token.tag_) == 'PUNCT, .'):\n",
    "        PERIOD_Punct.append(token.text)\n",
    "\n",
    "    elif ('{}, {}'.format(token.pos_, token.tag_) == 'SPACE, _SP'):\n",
    "        SP_Space.append(token.text)\n",
    "\n",
    "    elif ('{}, {}'.format(token.pos_, token.tag_) == 'VERB, VBN'):\n",
    "        VBN_Verb.append(token.text)\n",
    "\n",
    "\n",
    "#pos_frequencies = Counter(pos_list)\n",
    "#print(pos_frequencies)\n",
    "#print(round(pos_frequencies['NOUN, NN']/sum(pos_frequencies.values()), 2))\n",
    "#print(round(pos_frequencies['PROPN, NNP']/sum(pos_frequencies.values()), 2))\n",
    "#print(round(pos_frequencies['ADP, IN']/sum(pos_frequencies.values()), 2))\n",
    "#print(round(pos_frequencies['DET, DT']/sum(pos_frequencies.values()), 2))\n",
    "#print(round(pos_frequencies['ADJ, JJ']/sum(pos_frequencies.values()), 2))\n",
    "#print(round(pos_frequencies['NOUN, NNS']/sum(pos_frequencies.values()), 2))\n",
    "#print(round(pos_frequencies['PUNCT, ,']/sum(pos_frequencies.values()), 2))\n",
    "#print(round(pos_frequencies['PUNCT, .']/sum(pos_frequencies.values()), 2))\n",
    "#print(round(pos_frequencies['SPACE, _SP']/sum(pos_frequencies.values()), 2))\n",
    "#print(round(pos_frequencies['VERB, VBN']/sum(pos_frequencies.values()), 2))\n",
    "\n",
    "\n",
    "print(Counter(NN_Noun).most_common(3))\n",
    "print(Counter(NNP_Propn).most_common(3))\n",
    "print(Counter(IN_Adp).most_common(3))\n",
    "print(Counter(DT_Det).most_common(3))\n",
    "print(Counter(JJ_Adj).most_common(3))\n",
    "print(Counter(NNS_Noun).most_common(3))\n",
    "print(Counter(COMMA_Punct).most_common(3))\n",
    "print(Counter(PERIOD_Punct).most_common(3))\n",
    "print(Counter(SP_Space).most_common(3))\n",
    "print(Counter(VBN_Verb).most_common(3))\n",
    "\n",
    "#infrequent tokens\n",
    "print(Counter(NN_Noun).most_common()[-1])\n",
    "print(Counter(NNP_Propn).most_common()[-1])\n",
    "print(Counter(IN_Adp).most_common()[-1])\n",
    "print(Counter(DT_Det).most_common()[-1])\n",
    "print(Counter(JJ_Adj).most_common()[-1])\n",
    "print(Counter(NNS_Noun).most_common()[-1])\n",
    "print(Counter(COMMA_Punct).most_common()[-1])\n",
    "print(Counter(PERIOD_Punct).most_common()[-1])\n",
    "print(Counter(SP_Space).most_common()[-1])\n",
    "print(Counter(VBN_Verb).most_common()[-1])"
   ]
  },
  {
   "cell_type": "markdown",
   "metadata": {},
   "source": [
    "<b>TASK 3</b>"
   ]
  },
  {
   "cell_type": "code",
   "execution_count": null,
   "metadata": {},
   "outputs": [],
   "source": [
    "ngrams = list(textacy.extract.basics.ngrams(train_data_doc, 2, filter_stops=True))\n",
    "ngrams = [str(i) for i in ngrams]\n",
    "ngrams_frequency = Counter(ngrams)\n",
    "print(ngrams_frequency.most_common(3))\n",
    "\n",
    "\n",
    "pos_list = [str(token.pos_) for token in train_data_doc] #nlp() needs string\n",
    "pos_list_string = nlp(' '.join(pos_list)) #textacy.extract.basics.ngrams() needs nlp()-element\n",
    "ngrams = list(textacy.extract.basics.ngrams(pos_list_string, 2))    #ATTENTION: textacy.extract.basics.ngrams() produces elements with type of \"spacy.tokens.span.Span\", not \"str\" -> Counter doesn't work for \"spacy.tokens.span.Span\"\n",
    "ngrams = [str(i) for i in ngrams]\n",
    "ngrams_frequency = Counter(ngrams)\n",
    "print(ngrams_frequency.most_common(3))"
   ]
  },
  {
   "cell_type": "markdown",
   "metadata": {},
   "source": [
    "<b>TASK 4</b>"
   ]
  },
  {
   "cell_type": "code",
   "execution_count": 67,
   "metadata": {},
   "outputs": [
    {
     "name": "stdout",
     "output_type": "stream",
     "text": [
      "say\n",
      "['said', 'saying', 'says']\n",
      "3\n"
     ]
    }
   ],
   "source": [
    "for token_i in train_data_doc:\n",
    "    forms = []\n",
    "    counter = 0\n",
    "    lemma = token_i.lemma_\n",
    "    if str(token_i.lemma_) == 'be':\n",
    "        continue\n",
    "    for token_j in train_data_doc:\n",
    "        if str(token_j.lemma_) == str(token_i.lemma_):\n",
    "            token_j = str(token_j).lower()\n",
    "            if (token_j not in forms) and (token_j != lemma):\n",
    "                forms.append(token_j)\n",
    "                counter += 1\n",
    "    if counter > 2:\n",
    "        break\n",
    "\n",
    "print(lemma)\n",
    "print(forms)\n",
    "print(counter)"
   ]
  },
  {
   "cell_type": "markdown",
   "metadata": {},
   "source": [
    "<b>TASK 5</b>"
   ]
  },
  {
   "cell_type": "code",
   "execution_count": 68,
   "metadata": {},
   "outputs": [
    {
     "name": "stdout",
     "output_type": "stream",
     "text": [
      "1627\n",
      "17\n",
      "dict_keys(['DATE', 'GPE', 'ORDINAL', 'CARDINAL', 'ORG', 'PERSON', 'LAW', 'QUANTITY', 'NORP', 'TIME', 'EVENT', 'LOC', 'PERCENT', 'MONEY', 'PRODUCT', 'FAC', 'WORK_OF_ART'])\n"
     ]
    }
   ],
   "source": [
    "print(len(train_data_doc.ents))\n",
    "print(len(Counter([ent.label_ for ent in train_data_doc.ents]).keys()))\n",
    "print(Counter([ent.label_ for ent in train_data_doc.ents]).keys())\n",
    "#stop_counter = 0\n",
    "#for sentence in train_data_doc.sents:\n",
    "#    stop_counter += 1\n",
    "#    displacy.render(sentence, jupyter=True, style='ent')\n",
    "#    if stop_counter == 5: break"
   ]
  },
  {
   "cell_type": "markdown",
   "metadata": {},
   "source": [
    "<h1><b>PART B</b></h1>"
   ]
  },
  {
   "cell_type": "code",
   "execution_count": 60,
   "metadata": {},
   "outputs": [],
   "source": [
    "#wiki_news_train = open('C:/Users/mpete/OneDrive/Desktop/Uni/Master_DBI/Period_5/NLP/Assignments/Assignment_1/intro2nlp_assignment1_code/data/original/english/WikiNews_Train.tsv', encoding='utf-8')\n",
    "wiki_news_train_df = pd.read_table('C:/Users/mpete/OneDrive/Desktop/Uni/Master_DBI/Period_5/NLP/Assignments/Assignment_1/intro2nlp_assignment1_code/data/original/english/WikiNews_Train.tsv', header = None)\n",
    "wiki_news_train_df.columns = ['ID', 'sentence', 'start_index', 'end_index', 'target_word', 'nat', 'non-nat', 'nat diff', 'non-nat diff', 'binary', 'prob']"
   ]
  },
  {
   "cell_type": "markdown",
   "metadata": {},
   "source": [
    "<b>TASK 7</b>"
   ]
  },
  {
   "cell_type": "code",
   "execution_count": 61,
   "metadata": {},
   "outputs": [
    {
     "name": "stdout",
     "output_type": "stream",
     "text": [
      "Counter({0: 4530, 1: 3216})\n",
      "0.0\n",
      "1.0\n",
      "0.0\n",
      "0.08394655305964369\n",
      "0.16967909326095576\n",
      "1086\n",
      "10\n"
     ]
    }
   ],
   "source": [
    "print(Counter(wiki_news_train_df['binary']))\n",
    "print((wiki_news_train_df['prob'].min()))\n",
    "print((wiki_news_train_df['prob']).max())\n",
    "print((wiki_news_train_df['prob']).median())\n",
    "print((wiki_news_train_df['prob']).mean())\n",
    "print((wiki_news_train_df['prob']).std())\n",
    "\n",
    "counter = 0\n",
    "max_num_of_tokens = 0\n",
    "for instance in wiki_news_train_df['target_word']:\n",
    "    instance = nlp(instance)\n",
    "    tokens_per_instance = [token.text for token in instance]\n",
    "    if len(tokens_per_instance) > 1:\n",
    "        counter += 1\n",
    "    if len(tokens_per_instance) > max_num_of_tokens:\n",
    "        max_num_of_tokens = len(tokens_per_instance)\n",
    "\n",
    "print(counter)\n",
    "print(max_num_of_tokens)"
   ]
  },
  {
   "cell_type": "markdown",
   "metadata": {},
   "source": [
    "<b>TASK 8</b>"
   ]
  },
  {
   "cell_type": "code",
   "execution_count": 69,
   "metadata": {},
   "outputs": [],
   "source": [
    "length_tokens = []\n",
    "frequency = []\n",
    "prob = []\n",
    "pos = []\n",
    "\n",
    "\n",
    "#filter only instances with one token and which are labeled as complex from at leat one annotator\n",
    "for index, row in wiki_news_train_df.iterrows():\n",
    "    instance = nlp(row['target_word'])\n",
    "    tokens_per_instance = [token for token in instance]\n",
    "    if (len(tokens_per_instance) == 1) and (row['binary'] == 1):\n",
    "        length_tokens.append(len(tokens_per_instance[0].text))   \n",
    "        frequency.append(word_frequency(tokens_per_instance[0].text, 'en'))\n",
    "        prob.append(row['prob'])\n",
    "        pos.append(tokens_per_instance[0].pos_)\n"
   ]
  },
  {
   "cell_type": "code",
   "execution_count": 63,
   "metadata": {},
   "outputs": [
    {
     "name": "stdout",
     "output_type": "stream",
     "text": [
      "Pearson correlation length and complexity: [[1.         0.30207514]\n",
      " [0.30207514 1.        ]]\n",
      "Pearson correlation frequency and complexity: [[ 1.         -0.30749309]\n",
      " [-0.30749309  1.        ]]\n"
     ]
    }
   ],
   "source": [
    "print(\"Pearson correlation length and complexity: {}\".format(np.corrcoef(length_tokens, prob)))\n",
    "print(\"Pearson correlation frequency and complexity: {}\".format(np.corrcoef(frequency, prob)))"
   ]
  },
  {
   "cell_type": "code",
   "execution_count": 64,
   "metadata": {},
   "outputs": [
    {
     "data": {
      "image/png": "[encoded data removed]",
      "text/plain": [
       "<Figure size 432x288 with 1 Axes>"
      ]
     },
     "metadata": {
      "needs_background": "light"
     },
     "output_type": "display_data"
    }
   ],
   "source": [
    "plt.scatter(length_tokens, prob)\n",
    "plt.xlabel(\"Length Tokens\")\n",
    "plt.ylabel(\"Probabilistic complexity\")\n",
    "plt.show()"
   ]
  },
  {
   "cell_type": "code",
   "execution_count": 65,
   "metadata": {},
   "outputs": [
    {
     "data": {
      "image/png": "[encoded data removed]",
      "text/plain": [
       "<Figure size 432x288 with 1 Axes>"
      ]
     },
     "metadata": {
      "needs_background": "light"
     },
     "output_type": "display_data"
    }
   ],
   "source": [
    "plt.scatter(frequency, prob)\n",
    "plt.xlabel(\"Frequency\")\n",
    "plt.ylabel(\"Probabilistic complexity\")\n",
    "plt.show()"
   ]
  },
  {
   "cell_type": "code",
   "execution_count": 66,
   "metadata": {},
   "outputs": [
    {
     "data": {
      "image/png": "[encoded data removed]",
      "text/plain": [
       "<Figure size 432x288 with 1 Axes>"
      ]
     },
     "metadata": {
      "needs_background": "light"
     },
     "output_type": "display_data"
    }
   ],
   "source": [
    "plt.scatter(pos, prob)\n",
    "plt.xlabel(\"Part-of-Speech\")\n",
    "plt.ylabel(\"Probabilistic complexity\")\n",
    "plt.show()"
   ]
  },
  {
   "cell_type": "markdown",
   "metadata": {},
   "source": [
    "<b>TASK 10</b>"
   ]
  },
  {
   "cell_type": "code",
   "execution_count": 167,
   "metadata": {},
   "outputs": [
    {
     "name": "stdout",
     "output_type": "stream",
     "text": [
      "0.8\n",
      "0.5\n",
      "0.87\n",
      "0.76\n"
     ]
    }
   ],
   "source": [
    "# Implement four baselines for the task.\n",
    "# Majority baseline: always assigns the majority class of the training data\n",
    "# Random baseline: randomly assigns one of the classes. Make sure to set a random seed and average the accuracy over 100 runs.\n",
    "# Length baseline: determines the class based on a length threshold\n",
    "# Frequency baseline: determines the class based on a frequency threshold\n",
    "\n",
    "from model.data_loader import DataLoader\n",
    "\n",
    "# Each baseline returns predictions for the test data. The length and frequency baselines determine a threshold using the development data.\n",
    "\n",
    "def majority_baseline(train_sentences, train_labels, testinput, testlabels):\n",
    "    #find out about majority  class in training data\n",
    "    predictions = []\n",
    "    for instance in train_labels:   \n",
    "        tokens = instance.split(\" \")\n",
    "        for i in tokens:         \n",
    "            if i == 'N\\n':\n",
    "                i = 'N'\n",
    "            elif i == 'C\\n':\n",
    "                i = 'C'\n",
    "            predictions.append(i)\n",
    "            \n",
    "    majority_class = Counter(predictions).most_common()[0][0]\n",
    "\n",
    "    #assign to each token (word) in test data the majority class as predicted value\n",
    "    predictions = []\n",
    "    for instance in testinput:\n",
    "        tokens = instance.split(\" \")\n",
    "        for _ in tokens:\n",
    "            predictions.append(majority_class)\n",
    "    \n",
    "    test_labels = []\n",
    "    for instance in testlabels:\n",
    "        tokens = instance.split(\" \")\n",
    "        for i in tokens:         \n",
    "            if i == 'N\\n':\n",
    "                i = 'N'\n",
    "            elif i == 'C\\n':\n",
    "                i = 'C'\n",
    "            test_labels.append(i)\n",
    "\n",
    "    #calculate accuracy\n",
    "    correct_labeled = 0\n",
    "    for i in range(len(predictions)):\n",
    "        if predictions[i] == test_labels[i]:\n",
    "            correct_labeled += 1\n",
    "\n",
    "    accuracy = round(correct_labeled/len(predictions), 2)\n",
    "    return accuracy, predictions\n",
    "\n",
    "\n",
    "\n",
    "\n",
    "def random_baseline(train_sentences, train_labels, testinput, testlabels):\n",
    "    predictions = []\n",
    "    for instance in train_labels:   \n",
    "        tokens = instance.split(\" \")\n",
    "        for i in tokens:         \n",
    "            if i == 'N\\n':\n",
    "                i = 'N'\n",
    "            elif i == 'C\\n':\n",
    "                i = 'C'\n",
    "            predictions.append(i)\n",
    "    \n",
    "    distinct_labels = list(set(predictions))\n",
    "\n",
    "    test_labels = []\n",
    "    for instance in testlabels:\n",
    "        tokens = instance.split(\" \")\n",
    "        for i in tokens:         \n",
    "            if i == 'N\\n':\n",
    "                i = 'N'\n",
    "            elif i == 'C\\n':\n",
    "                i = 'C'\n",
    "            test_labels.append(i)\n",
    "\n",
    "    #assign random label to test output 100 times and average accuracy\n",
    "    accuracies = []\n",
    "    for i in range (100):\n",
    "        random.seed(i)\n",
    "        predictions = []\n",
    "        for instance in testinput:\n",
    "            tokens = instance.split(\" \")\n",
    "            for _ in tokens:\n",
    "                predictions.append(random.choice(distinct_labels))\n",
    "        \n",
    "        #calculate accuracy after each iteration with new random seed\n",
    "        correct_labeled = 0\n",
    "        for i in range(len(predictions)):\n",
    "            if predictions[i] == test_labels[i]:\n",
    "                correct_labeled += 1\n",
    "\n",
    "        random_accuracy = round(correct_labeled/len(predictions), 2)\n",
    "        accuracies.append(random_accuracy)\n",
    "    \n",
    "    accuracy = round(sum(accuracies)/len(accuracies), 2)\n",
    "    return accuracy, predictions   \n",
    "\n",
    "\n",
    "\n",
    "def length_baseline(testinput, testlabels, length_threshold):  \n",
    "    test_labels = []\n",
    "    for instance in testlabels:\n",
    "        tokens = instance.split(\" \")\n",
    "        for i in tokens:         \n",
    "            if i == 'N\\n':\n",
    "                i = 'N'\n",
    "            elif i == 'C\\n':\n",
    "                i = 'C'\n",
    "            test_labels.append(i)\n",
    "    \n",
    "    predictions = []\n",
    "    for sentence in testinput:\n",
    "        tokens = sentence.split(\" \")\n",
    "        for token in tokens:\n",
    "            if len(token) >= length_threshold:\n",
    "                predictions.append('C')\n",
    "            else: \n",
    "                predictions.append('N')\n",
    "\n",
    "    #calculate accuracy\n",
    "    correct_labeled = 0\n",
    "    for i in range(len(predictions)):\n",
    "        if predictions[i] == test_labels[i]:\n",
    "            correct_labeled += 1\n",
    "\n",
    "    accuracy = round(correct_labeled/len(predictions), 2)\n",
    "    return accuracy, predictions  \n",
    "\n",
    "\n",
    "\n",
    "def frequency_baseline(testinput, testlabels, frequency_threshold):\n",
    "    test_labels = []\n",
    "    for instance in testlabels:\n",
    "        tokens = instance.split(\" \")\n",
    "        for i in tokens:         \n",
    "            if i == 'N\\n':\n",
    "                i = 'N'\n",
    "            elif i == 'C\\n':\n",
    "                i = 'C'\n",
    "            test_labels.append(i)\n",
    "\n",
    "    predictions = []\n",
    "    for sentence in testinput:\n",
    "        tokens = sentence.split(\" \")\n",
    "        for token in tokens:\n",
    "            if zipf_frequency(token, 'en') <= frequency_threshold:\n",
    "                predictions.append('C')\n",
    "            else: \n",
    "                predictions.append('N')\n",
    "\n",
    "    #calculate accuracy\n",
    "    correct_labeled = 0\n",
    "    for i in range(len(predictions)):\n",
    "        if predictions[i] == test_labels[i]:\n",
    "            correct_labeled += 1\n",
    "\n",
    "    accuracy = round(correct_labeled/len(predictions), 2)\n",
    "    return accuracy, predictions  \n",
    "\n",
    "if __name__ == '__main__':\n",
    "    dir_path = \"C:/Users/mpete/OneDrive/Desktop/Uni/Master_DBI/Period_5/NLP/Assignments/Assignment_1/intro2nlp_assignment1_code/\"\n",
    "    train_path = dir_path + \"data/preprocessed/train/\"\n",
    "    dev_path = dir_path + \"data/preprocessed/val/\"          #changed from \"/dev/\" to \"/val/\" because there exists no \"dev\" folder\n",
    "    test_path = dir_path + \"data/preprocessed/test/\"\n",
    "\n",
    "    # Note: this loads all instances into memory. If you work with bigger files in the future, use an iterator instead.\n",
    "\n",
    "    with open(train_path + \"sentences.txt\") as sent_file:\n",
    "        train_sentences = sent_file.readlines()\n",
    "\n",
    "    with open(train_path + \"labels.txt\") as label_file:\n",
    "        train_labels = label_file.readlines()\n",
    "\n",
    "    with open(dev_path + \"sentences.txt\") as dev_file:\n",
    "        dev_sentences = dev_file.readlines()\n",
    "\n",
    "    with open(dev_path + \"labels.txt\") as dev_label_file:       #changed from \"train_path\" to \"dev_path\"\n",
    "        dev_labels = dev_label_file.readlines()\n",
    "\n",
    "    with open(test_path + \"sentences.txt\") as testfile:\n",
    "        testinput = testfile.readlines()\n",
    "\n",
    "    with open(test_path + \"labels.txt\") as test_label_file:\n",
    "        testlabels = test_label_file.readlines()\n",
    "        \n",
    "    length_threshold = 8   #accuracy best at threshold 8         \n",
    "    frequency_threshold = 4.52  #accuracy best at zipf-frequency-threshold 4.52\n",
    "    majority_accuracy, majority_predictions = majority_baseline(train_sentences, train_labels, testinput, testlabels)\n",
    "    random_accuracy, random_predictions = random_baseline(train_sentences, train_labels, dev_sentences, dev_labels)\n",
    "    length_accuracy, length_predictions = length_baseline(testinput, testlabels, length_threshold)\n",
    "    frequency_accuracy, frequency_predictions = frequency_baseline(testinput, testlabels, frequency_threshold)\n",
    "    print(majority_accuracy)\n",
    "    print(random_accuracy)\n",
    "    print(length_accuracy)\n",
    "    print(frequency_accuracy)\n",
    "\n",
    "\n"
   ]
  },
  {
   "cell_type": "code",
   "execution_count": null,
   "metadata": {},
   "outputs": [],
   "source": []
  }
 ],
 "metadata": {
  "interpreter": {
   "hash": "528bc499b8fb4c180646b30b3825587cc8d369adecbe10e918de4c75a96f10a1"
  },
  "kernelspec": {
   "display_name": "Python 3.8.13 ('NLP')",
   "language": "python",
   "name": "python3"
  },
  "language_info": {
   "codemirror_mode": {
    "name": "ipython",
    "version": 3
   },
   "file_extension": ".py",
   "mimetype": "text/x-python",
   "name": "python",
   "nbconvert_exporter": "python",
   "pygments_lexer": "ipython3",
   "version": "3.8.13"
  },
  "orig_nbformat": 4
 },
 "nbformat": 4,
 "nbformat_minor": 2
}

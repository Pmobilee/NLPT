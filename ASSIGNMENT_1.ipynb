{
 "cells": [
  {
   "cell_type": "markdown",
   "metadata": {},
   "source": [
    "# Assignment 1"
   ]
  },
  {
   "cell_type": "markdown",
   "metadata": {},
   "source": [
    "## Part A: Linguistic analysis using spaCy"
   ]
  },
  {
   "cell_type": "markdown",
   "metadata": {},
   "source": [
    "### 1. Tokenization (1 point)\n",
    "Process the dataset using the spaCy package and extract the following information:\n",
    "**Number of tokens:\n",
    "Number of types:  \n",
    "Number of words:\n",
    "Average number of words per sentence:\n",
    "Average word length: \n",
    "Provide the definition that you used to determine words:**"
   ]
  },
  {
   "cell_type": "code",
   "execution_count": 27,
   "metadata": {},
   "outputs": [
    {
     "name": "stdout",
     "output_type": "stream",
     "text": [
      "\u001b[38;5;3m⚠ As of spaCy v3.0, shortcuts like 'en' are deprecated. Please use the\n",
      "full pipeline package name 'en_core_web_sm' instead.\u001b[0m\n",
      "Collecting en-core-web-sm==3.2.0\n",
      "  Downloading https://github.com/explosion/spacy-models/releases/download/en_core_web_sm-3.2.0/en_core_web_sm-3.2.0-py3-none-any.whl (13.9 MB)\n",
      "Requirement already satisfied: spacy<3.3.0,>=3.2.0 in /home/damion/anaconda3/envs/NLPT/lib/python3.8/site-packages (from en-core-web-sm==3.2.0) (3.2.0)\n",
      "Requirement already satisfied: wasabi<1.1.0,>=0.8.1 in /home/damion/anaconda3/envs/NLPT/lib/python3.8/site-packages (from spacy<3.3.0,>=3.2.0->en-core-web-sm==3.2.0) (0.9.1)\n",
      "Requirement already satisfied: murmurhash<1.1.0,>=0.28.0 in /home/damion/anaconda3/envs/NLPT/lib/python3.8/site-packages (from spacy<3.3.0,>=3.2.0->en-core-web-sm==3.2.0) (1.0.6)\n",
      "Requirement already satisfied: pydantic!=1.8,!=1.8.1,<1.9.0,>=1.7.4 in /home/damion/anaconda3/envs/NLPT/lib/python3.8/site-packages (from spacy<3.3.0,>=3.2.0->en-core-web-sm==3.2.0) (1.8.2)\n",
      "Requirement already satisfied: langcodes<4.0.0,>=3.2.0 in /home/damion/anaconda3/envs/NLPT/lib/python3.8/site-packages (from spacy<3.3.0,>=3.2.0->en-core-web-sm==3.2.0) (3.3.0)\n",
      "Requirement already satisfied: catalogue<2.1.0,>=2.0.6 in /home/damion/anaconda3/envs/NLPT/lib/python3.8/site-packages (from spacy<3.3.0,>=3.2.0->en-core-web-sm==3.2.0) (2.0.7)\n",
      "Requirement already satisfied: spacy-loggers<2.0.0,>=1.0.0 in /home/damion/anaconda3/envs/NLPT/lib/python3.8/site-packages (from spacy<3.3.0,>=3.2.0->en-core-web-sm==3.2.0) (1.0.2)\n",
      "Requirement already satisfied: blis<0.8.0,>=0.4.0 in /home/damion/anaconda3/envs/NLPT/lib/python3.8/site-packages (from spacy<3.3.0,>=3.2.0->en-core-web-sm==3.2.0) (0.7.7)\n",
      "Requirement already satisfied: cymem<2.1.0,>=2.0.2 in /home/damion/anaconda3/envs/NLPT/lib/python3.8/site-packages (from spacy<3.3.0,>=3.2.0->en-core-web-sm==3.2.0) (2.0.6)\n",
      "Requirement already satisfied: numpy>=1.15.0 in /home/damion/anaconda3/envs/NLPT/lib/python3.8/site-packages (from spacy<3.3.0,>=3.2.0->en-core-web-sm==3.2.0) (1.22.3)\n",
      "Requirement already satisfied: requests<3.0.0,>=2.13.0 in /home/damion/anaconda3/envs/NLPT/lib/python3.8/site-packages (from spacy<3.3.0,>=3.2.0->en-core-web-sm==3.2.0) (2.27.1)\n",
      "Requirement already satisfied: packaging>=20.0 in /home/damion/anaconda3/envs/NLPT/lib/python3.8/site-packages (from spacy<3.3.0,>=3.2.0->en-core-web-sm==3.2.0) (21.3)\n",
      "Requirement already satisfied: spacy-legacy<3.1.0,>=3.0.8 in /home/damion/anaconda3/envs/NLPT/lib/python3.8/site-packages (from spacy<3.3.0,>=3.2.0->en-core-web-sm==3.2.0) (3.0.9)\n",
      "Requirement already satisfied: preshed<3.1.0,>=3.0.2 in /home/damion/anaconda3/envs/NLPT/lib/python3.8/site-packages (from spacy<3.3.0,>=3.2.0->en-core-web-sm==3.2.0) (3.0.6)\n",
      "Requirement already satisfied: jinja2 in /home/damion/anaconda3/envs/NLPT/lib/python3.8/site-packages (from spacy<3.3.0,>=3.2.0->en-core-web-sm==3.2.0) (3.1.1)\n",
      "Requirement already satisfied: pathy>=0.3.5 in /home/damion/anaconda3/envs/NLPT/lib/python3.8/site-packages (from spacy<3.3.0,>=3.2.0->en-core-web-sm==3.2.0) (0.6.1)\n",
      "Requirement already satisfied: tqdm<5.0.0,>=4.38.0 in /home/damion/anaconda3/envs/NLPT/lib/python3.8/site-packages (from spacy<3.3.0,>=3.2.0->en-core-web-sm==3.2.0) (4.64.0)\n",
      "Requirement already satisfied: typer<0.5.0,>=0.3.0 in /home/damion/anaconda3/envs/NLPT/lib/python3.8/site-packages (from spacy<3.3.0,>=3.2.0->en-core-web-sm==3.2.0) (0.4.1)\n",
      "Requirement already satisfied: setuptools in /home/damion/anaconda3/envs/NLPT/lib/python3.8/site-packages (from spacy<3.3.0,>=3.2.0->en-core-web-sm==3.2.0) (61.2.0)\n",
      "Requirement already satisfied: thinc<8.1.0,>=8.0.12 in /home/damion/anaconda3/envs/NLPT/lib/python3.8/site-packages (from spacy<3.3.0,>=3.2.0->en-core-web-sm==3.2.0) (8.0.15)\n",
      "Requirement already satisfied: srsly<3.0.0,>=2.4.1 in /home/damion/anaconda3/envs/NLPT/lib/python3.8/site-packages (from spacy<3.3.0,>=3.2.0->en-core-web-sm==3.2.0) (2.4.3)\n",
      "Requirement already satisfied: pyparsing!=3.0.5,>=2.0.2 in /home/damion/anaconda3/envs/NLPT/lib/python3.8/site-packages (from packaging>=20.0->spacy<3.3.0,>=3.2.0->en-core-web-sm==3.2.0) (3.0.8)\n",
      "Requirement already satisfied: smart-open<6.0.0,>=5.0.0 in /home/damion/anaconda3/envs/NLPT/lib/python3.8/site-packages (from pathy>=0.3.5->spacy<3.3.0,>=3.2.0->en-core-web-sm==3.2.0) (5.2.1)\n",
      "Requirement already satisfied: typing-extensions>=3.7.4.3 in /home/damion/anaconda3/envs/NLPT/lib/python3.8/site-packages (from pydantic!=1.8,!=1.8.1,<1.9.0,>=1.7.4->spacy<3.3.0,>=3.2.0->en-core-web-sm==3.2.0) (4.1.1)\n",
      "Requirement already satisfied: charset-normalizer~=2.0.0 in /home/damion/anaconda3/envs/NLPT/lib/python3.8/site-packages (from requests<3.0.0,>=2.13.0->spacy<3.3.0,>=3.2.0->en-core-web-sm==3.2.0) (2.0.12)\n",
      "Requirement already satisfied: urllib3<1.27,>=1.21.1 in /home/damion/anaconda3/envs/NLPT/lib/python3.8/site-packages (from requests<3.0.0,>=2.13.0->spacy<3.3.0,>=3.2.0->en-core-web-sm==3.2.0) (1.26.9)\n",
      "Requirement already satisfied: idna<4,>=2.5 in /home/damion/anaconda3/envs/NLPT/lib/python3.8/site-packages (from requests<3.0.0,>=2.13.0->spacy<3.3.0,>=3.2.0->en-core-web-sm==3.2.0) (3.3)\n",
      "Requirement already satisfied: certifi>=2017.4.17 in /home/damion/anaconda3/envs/NLPT/lib/python3.8/site-packages (from requests<3.0.0,>=2.13.0->spacy<3.3.0,>=3.2.0->en-core-web-sm==3.2.0) (2021.10.8)\n",
      "Requirement already satisfied: click<9.0.0,>=7.1.1 in /home/damion/anaconda3/envs/NLPT/lib/python3.8/site-packages (from typer<0.5.0,>=0.3.0->spacy<3.3.0,>=3.2.0->en-core-web-sm==3.2.0) (8.1.2)\n",
      "Requirement already satisfied: MarkupSafe>=2.0 in /home/damion/anaconda3/envs/NLPT/lib/python3.8/site-packages (from jinja2->spacy<3.3.0,>=3.2.0->en-core-web-sm==3.2.0) (2.1.1)\n",
      "\u001b[38;5;2m✔ Download and installation successful\u001b[0m\n",
      "You can now load the package via spacy.load('en_core_web_sm')\n",
      "Requirement already satisfied: wordfreq in /home/damion/anaconda3/envs/NLPT/lib/python3.8/site-packages (3.0.1)\n",
      "Requirement already satisfied: msgpack>=1.0 in /home/damion/anaconda3/envs/NLPT/lib/python3.8/site-packages (from wordfreq) (1.0.3)\n",
      "Requirement already satisfied: langcodes>=3.0 in /home/damion/anaconda3/envs/NLPT/lib/python3.8/site-packages (from wordfreq) (3.3.0)\n",
      "Requirement already satisfied: regex>=2020.04.04 in /home/damion/anaconda3/envs/NLPT/lib/python3.8/site-packages (from wordfreq) (2022.3.15)\n",
      "Requirement already satisfied: ftfy>=6.1 in /home/damion/anaconda3/envs/NLPT/lib/python3.8/site-packages (from wordfreq) (6.1.1)\n",
      "Requirement already satisfied: wcwidth>=0.2.5 in /home/damion/anaconda3/envs/NLPT/lib/python3.8/site-packages (from ftfy>=6.1->wordfreq) (0.2.5)\n"
     ]
    }
   ],
   "source": [
    "%%bash\n",
    "python -m spacy download en\n",
    "pip3 install wordfreq"
   ]
  },
  {
   "cell_type": "code",
   "execution_count": 28,
   "metadata": {},
   "outputs": [],
   "source": [
    "import spacy\n",
    "import os\n",
    "from collections import Counter\n",
    "import numpy as np\n",
    "import pandas as pd\n",
    "import matplotlib\n",
    "import matplotlib.pyplot as plt\n",
    "from wordfreq import word_frequency\n",
    "from wordfreq import zipf_frequency"
   ]
  },
  {
   "cell_type": "code",
   "execution_count": 29,
   "metadata": {},
   "outputs": [],
   "source": [
    "# This loads a small English model trained on web data.\n",
    "# For other models and languages check: https://spacy.io/models\n",
    "nlp = spacy.load('en_core_web_sm')"
   ]
  },
  {
   "cell_type": "code",
   "execution_count": 30,
   "metadata": {},
   "outputs": [
    {
     "name": "stdout",
     "output_type": "stream",
     "text": [
      "/home/damion/VU/NLPT/NLPT\n"
     ]
    }
   ],
   "source": [
    "cwd = os.getcwd()\n",
    "print(cwd)\n",
    "with open(f\"{cwd}/data/preprocessed/train/sentences.txt\", \"r\") as file:\n",
    "    train_dataset = file.read()\n",
    "doc = nlp(train_dataset)"
   ]
  },
  {
   "cell_type": "code",
   "execution_count": 31,
   "metadata": {},
   "outputs": [],
   "source": [
    "# Making our test doc for later testing\n",
    "test_input = \"I have an awesome cat. It's sitting on the mat that I bought yesterday.\"\n",
    "doc_test = nlp(test_input)"
   ]
  },
  {
   "cell_type": "code",
   "execution_count": 32,
   "metadata": {},
   "outputs": [
    {
     "name": "stdout",
     "output_type": "stream",
     "text": [
      "Num tokens: 16130\n",
      "Num words: 13242\n",
      "Num types: 3721\n",
      "Words per sentence: 18.443\n",
      "Average length per word: 3.571\n"
     ]
    }
   ],
   "source": [
    "# Counting words and frequencies\n",
    "word_frequencies = Counter()\n",
    "words_per_sencence = []\n",
    "words_length = []\n",
    "avg_num_words = []\n",
    "\n",
    "for sentence in doc.sents:\n",
    "    words = []\n",
    "    lengths = []\n",
    "    num_words = 0\n",
    "    for token in sentence: \n",
    "        # Let's filter out punctuation\n",
    "        if (not token.is_punct) and (not token.is_space):\n",
    "            words.append(token.text)\n",
    "            lengths.append(len(token.text))\n",
    "            num_words += 1\n",
    "    avg_num_words.append(num_words)\n",
    "    # words_length.append(np.mean(lengths))\n",
    "    word_frequencies.update(words)\n",
    "    \n",
    "# print(word_frequencies)\n",
    "num_tokens = len(doc)\n",
    "num_words = sum(word_frequencies.values())\n",
    "num_types = len(word_frequencies.keys())\n",
    "avg_num_words_sentence = np.mean(avg_num_words)\n",
    "avg_num_word_length = np.nanmean(lengths)\n",
    "\n",
    "\n",
    "print(f\"Num tokens: {num_tokens}\\nNum words: {num_words}\\nNum types: {num_types}\\nWords per sentence: {np.around(avg_num_words_sentence, 3)}\\nAverage length per word: {np.around(avg_num_word_length, 3)}\")"
   ]
  },
  {
   "cell_type": "code",
   "execution_count": null,
   "metadata": {},
   "outputs": [],
   "source": []
  },
  {
   "cell_type": "markdown",
   "metadata": {},
   "source": [
    "**Important: I saw that the words also contained \"/n\", so we might want to remove that one? In that case:**"
   ]
  },
  {
   "cell_type": "code",
   "execution_count": 33,
   "metadata": {},
   "outputs": [
    {
     "name": "stdout",
     "output_type": "stream",
     "text": [
      "Num tokens: 16130\n",
      "Num words: 13242\n",
      "Num types: 3721\n",
      "Words per sentence: 18.443\n",
      "Average length per word: 4.891\n"
     ]
    },
    {
     "name": "stderr",
     "output_type": "stream",
     "text": [
      "/home/damion/anaconda3/envs/NLPT/lib/python3.8/site-packages/numpy/core/fromnumeric.py:3440: RuntimeWarning: Mean of empty slice.\n",
      "  return _methods._mean(a, axis=axis, dtype=dtype,\n",
      "/home/damion/anaconda3/envs/NLPT/lib/python3.8/site-packages/numpy/core/_methods.py:189: RuntimeWarning: invalid value encountered in double_scalars\n",
      "  ret = ret.dtype.type(ret / rcount)\n"
     ]
    }
   ],
   "source": [
    "# Counting words and frequencies\n",
    "word_frequencies = Counter()\n",
    "words_per_sencence = []\n",
    "words_length = []\n",
    "avg_num_words = []\n",
    "\n",
    "for sentence in doc.sents:\n",
    "    words = []\n",
    "    lengths = []\n",
    "    num_words = 0\n",
    "    for token in sentence: \n",
    "        # Let's filter out punctuation\n",
    "        if not (token.is_punct or token.text == \"\\n\"):\n",
    "            words.append(token.text)\n",
    "            lengths.append(len(token.text))\n",
    "            num_words += 1\n",
    "    avg_num_words.append(num_words)\n",
    "    words_length.append(np.mean(lengths))\n",
    "    word_frequencies.update(words)\n",
    "\n",
    "# print(word_frequencies)\n",
    "num_tokens = len(doc)\n",
    "num_words = sum(word_frequencies.values())\n",
    "num_types = len(word_frequencies.keys())\n",
    "avg_num_words_sentence = np.mean(avg_num_words)\n",
    "avg_num_word_length = np.nanmean(words_length)\n",
    "\n",
    "\n",
    "print(f\"Num tokens: {num_tokens}\\nNum words: {num_words}\\nNum types: {num_types}\\nWords per sentence: {np.around(avg_num_words_sentence, 3)}\\nAverage length per word: {np.around(avg_num_word_length, 3)}\")"
   ]
  },
  {
   "cell_type": "markdown",
   "metadata": {},
   "source": [
    "Our definition of a word: Any token not part of the punctuation set or the \"\\n\" character"
   ]
  },
  {
   "cell_type": "markdown",
   "metadata": {},
   "source": [
    "### 2. Word Classes (1.5 points)\n",
    "\n",
    "Run the default part-of-speech tagger on the dataset and identify the ten most frequent \n",
    "POS tags. Complete the table below for these ten tags (the tagger in the model \n",
    "en_core_web_sm is trained on the PENN Treebank tagset). "
   ]
  },
  {
   "cell_type": "code",
   "execution_count": 34,
   "metadata": {},
   "outputs": [
    {
     "data": {
      "text/html": [
       "<div>\n",
       "<style scoped>\n",
       "    .dataframe tbody tr th:only-of-type {\n",
       "        vertical-align: middle;\n",
       "    }\n",
       "\n",
       "    .dataframe tbody tr th {\n",
       "        vertical-align: top;\n",
       "    }\n",
       "\n",
       "    .dataframe thead th {\n",
       "        text-align: right;\n",
       "    }\n",
       "</style>\n",
       "<table border=\"1\" class=\"dataframe\">\n",
       "  <thead>\n",
       "    <tr style=\"text-align: right;\">\n",
       "      <th></th>\n",
       "      <th>Finegrained POS-tag</th>\n",
       "      <th>Universal POS-tag</th>\n",
       "      <th>Occurrences</th>\n",
       "      <th>Relative Tag Frequency (%)</th>\n",
       "      <th>3 most frequent tokens</th>\n",
       "      <th>Example of infrequent token</th>\n",
       "    </tr>\n",
       "  </thead>\n",
       "  <tbody>\n",
       "    <tr>\n",
       "      <th>0</th>\n",
       "      <td>NOUN</td>\n",
       "      <td>NN</td>\n",
       "      <td>2066</td>\n",
       "      <td>0.13</td>\n",
       "      <td>[(\\, 52), (year, 29), (report, 23)]</td>\n",
       "      <td>(project, 1)</td>\n",
       "    </tr>\n",
       "    <tr>\n",
       "      <th>1</th>\n",
       "      <td>PROPN</td>\n",
       "      <td>NNP</td>\n",
       "      <td>2060</td>\n",
       "      <td>0.13</td>\n",
       "      <td>[(\\, 211), (US, 24), (President, 19)]</td>\n",
       "      <td>(Navy, 1)</td>\n",
       "    </tr>\n",
       "    <tr>\n",
       "      <th>2</th>\n",
       "      <td>ADP</td>\n",
       "      <td>IN</td>\n",
       "      <td>1600</td>\n",
       "      <td>0.10</td>\n",
       "      <td>[(of, 352), (in, 281), (to, 153)]</td>\n",
       "      <td>(By, 1)</td>\n",
       "    </tr>\n",
       "    <tr>\n",
       "      <th>3</th>\n",
       "      <td>DET</td>\n",
       "      <td>DT</td>\n",
       "      <td>1313</td>\n",
       "      <td>0.08</td>\n",
       "      <td>[(the, 723), (a, 279), (The, 124)]</td>\n",
       "      <td>(Each, 1)</td>\n",
       "    </tr>\n",
       "    <tr>\n",
       "      <th>4</th>\n",
       "      <td>ADJ</td>\n",
       "      <td>JJ</td>\n",
       "      <td>868</td>\n",
       "      <td>0.05</td>\n",
       "      <td>[(other, 26), (Russian, 20), (presidential, 18)]</td>\n",
       "      <td>(Sebastian, 1)</td>\n",
       "    </tr>\n",
       "    <tr>\n",
       "      <th>5</th>\n",
       "      <td>NOUN</td>\n",
       "      <td>NNS</td>\n",
       "      <td>774</td>\n",
       "      <td>0.05</td>\n",
       "      <td>[(ants, 42), (troops, 19), (people, 15)]</td>\n",
       "      <td>(areas, 1)</td>\n",
       "    </tr>\n",
       "    <tr>\n",
       "      <th>6</th>\n",
       "      <td>PUNCT</td>\n",
       "      <td>,</td>\n",
       "      <td>699</td>\n",
       "      <td>0.04</td>\n",
       "      <td>[(,, 697), (;, 1), (…, 1)]</td>\n",
       "      <td>(…, 1)</td>\n",
       "    </tr>\n",
       "    <tr>\n",
       "      <th>7</th>\n",
       "      <td>PUNCT</td>\n",
       "      <td>.</td>\n",
       "      <td>655</td>\n",
       "      <td>0.04</td>\n",
       "      <td>[(., 638), (?, 16), (!, 1)]</td>\n",
       "      <td>(!, 1)</td>\n",
       "    </tr>\n",
       "    <tr>\n",
       "      <th>8</th>\n",
       "      <td>SPACE</td>\n",
       "      <td>_SP</td>\n",
       "      <td>653</td>\n",
       "      <td>0.04</td>\n",
       "      <td>[(\\n, 653)]</td>\n",
       "      <td>(\\n, 653)</td>\n",
       "    </tr>\n",
       "    <tr>\n",
       "      <th>9</th>\n",
       "      <td>VERB</td>\n",
       "      <td>VBN</td>\n",
       "      <td>454</td>\n",
       "      <td>0.03</td>\n",
       "      <td>[(accused, 12), (reported, 8), (known, 8)]</td>\n",
       "      <td>(acquitted, 1)</td>\n",
       "    </tr>\n",
       "  </tbody>\n",
       "</table>\n",
       "</div>"
      ],
      "text/plain": [
       "  Finegrained POS-tag Universal POS-tag  Occurrences  \\\n",
       "0                NOUN                NN         2066   \n",
       "1               PROPN               NNP         2060   \n",
       "2                 ADP                IN         1600   \n",
       "3                 DET                DT         1313   \n",
       "4                 ADJ                JJ          868   \n",
       "5                NOUN               NNS          774   \n",
       "6               PUNCT                 ,          699   \n",
       "7               PUNCT                 .          655   \n",
       "8               SPACE               _SP          653   \n",
       "9                VERB               VBN          454   \n",
       "\n",
       "   Relative Tag Frequency (%)  \\\n",
       "0                        0.13   \n",
       "1                        0.13   \n",
       "2                        0.10   \n",
       "3                        0.08   \n",
       "4                        0.05   \n",
       "5                        0.05   \n",
       "6                        0.04   \n",
       "7                        0.04   \n",
       "8                        0.04   \n",
       "9                        0.03   \n",
       "\n",
       "                             3 most frequent tokens  \\\n",
       "0               [(\\, 52), (year, 29), (report, 23)]   \n",
       "1             [(\\, 211), (US, 24), (President, 19)]   \n",
       "2                 [(of, 352), (in, 281), (to, 153)]   \n",
       "3                [(the, 723), (a, 279), (The, 124)]   \n",
       "4  [(other, 26), (Russian, 20), (presidential, 18)]   \n",
       "5          [(ants, 42), (troops, 19), (people, 15)]   \n",
       "6                        [(,, 697), (;, 1), (…, 1)]   \n",
       "7                       [(., 638), (?, 16), (!, 1)]   \n",
       "8                                       [(\\n, 653)]   \n",
       "9        [(accused, 12), (reported, 8), (known, 8)]   \n",
       "\n",
       "  Example of infrequent token  \n",
       "0                (project, 1)  \n",
       "1                   (Navy, 1)  \n",
       "2                     (By, 1)  \n",
       "3                   (Each, 1)  \n",
       "4              (Sebastian, 1)  \n",
       "5                  (areas, 1)  \n",
       "6                      (…, 1)  \n",
       "7                      (!, 1)  \n",
       "8                   (\\n, 653)  \n",
       "9              (acquitted, 1)  "
      ]
     },
     "execution_count": 34,
     "metadata": {},
     "output_type": "execute_result"
    }
   ],
   "source": [
    "pos_list = []\n",
    "\n",
    "NN_Noun = []\n",
    "NNP_Propn = []\n",
    "IN_Adp = []\n",
    "DT_Det = []\n",
    "JJ_Adj = []\n",
    "NNS_Noun = []\n",
    "COMMA_Punct = []\n",
    "PERIOD_Punct = []\n",
    "SP_Space = []\n",
    "VBN_Verb = []\n",
    "\n",
    "for token in doc:\n",
    "    #print(token.pos_, token.tag_)\n",
    "    pos_list.append('{}, {}'.format(token.pos_, token.tag_))\n",
    "    if ('{}, {}'.format(token.pos_, token.tag_) == 'NOUN, NN'):\n",
    "        NN_Noun.append(token.text)\n",
    "\n",
    "    elif ('{}, {}'.format(token.pos_, token.tag_) == 'PROPN, NNP'):\n",
    "        NNP_Propn.append(token.text)\n",
    "\n",
    "    elif ('{}, {}'.format(token.pos_, token.tag_) == 'ADP, IN'):\n",
    "        IN_Adp.append(token.text)\n",
    "\n",
    "    elif ('{}, {}'.format(token.pos_, token.tag_) == 'DET, DT'):\n",
    "        DT_Det.append(token.text)\n",
    "\n",
    "    elif ('{}, {}'.format(token.pos_, token.tag_) == 'ADJ, JJ'):\n",
    "        JJ_Adj.append(token.text)\n",
    "\n",
    "    elif ('{}, {}'.format(token.pos_, token.tag_) == 'NOUN, NNS'):\n",
    "        NNS_Noun.append(token.text)\n",
    "\n",
    "    elif ('{}, {}'.format(token.pos_, token.tag_) == 'PUNCT, ,'):\n",
    "        COMMA_Punct.append(token.text)\n",
    "\n",
    "    elif ('{}, {}'.format(token.pos_, token.tag_) == 'PUNCT, .'):\n",
    "        PERIOD_Punct.append(token.text)\n",
    "\n",
    "    elif ('{}, {}'.format(token.pos_, token.tag_) == 'SPACE, _SP'):\n",
    "        SP_Space.append(token.text)\n",
    "\n",
    "    elif ('{}, {}'.format(token.pos_, token.tag_) == 'VERB, VBN'):\n",
    "        VBN_Verb.append(token.text)\n",
    "\n",
    "\n",
    "pos_frequencies = Counter(pos_list)\n",
    "rtf = []\n",
    "rtf.append(round(pos_frequencies['NOUN, NN']/sum(pos_frequencies.values()), 2))\n",
    "rtf.append(round(pos_frequencies['PROPN, NNP']/sum(pos_frequencies.values()), 2))\n",
    "rtf.append(round(pos_frequencies['ADP, IN']/sum(pos_frequencies.values()), 2))\n",
    "rtf.append(round(pos_frequencies['DET, DT']/sum(pos_frequencies.values()), 2))\n",
    "rtf.append(round(pos_frequencies['ADJ, JJ']/sum(pos_frequencies.values()), 2))\n",
    "rtf.append(round(pos_frequencies['NOUN, NNS']/sum(pos_frequencies.values()), 2))\n",
    "rtf.append(round(pos_frequencies['PUNCT, ,']/sum(pos_frequencies.values()), 2))\n",
    "rtf.append(round(pos_frequencies['PUNCT, .']/sum(pos_frequencies.values()), 2))\n",
    "rtf.append(round(pos_frequencies['SPACE, _SP']/sum(pos_frequencies.values()), 2))\n",
    "rtf.append(round(pos_frequencies['VERB, VBN']/sum(pos_frequencies.values()), 2))\n",
    "\n",
    "finegrained = [\"NOUN\", \"PROPN\", \"ADP\", \"DET\", \"ADJ\", \"NOUN\", \"PUNCT\", \"PUNCT\", \"SPACE\", \"VERB\"]\n",
    "universal = [\"NN\", \"NNP\", \"IN\", \"DT\", \"JJ\", \"NNS\", \",\", \".\", \"_SP\", \"VBN\"]\n",
    "occurrences = [len(NN_Noun), len(NNP_Propn), len(IN_Adp), len(DT_Det), len(JJ_Adj), len(NNS_Noun), len(COMMA_Punct), len(PERIOD_Punct), len(SP_Space), len(VBN_Verb)]\n",
    "\n",
    "most_frequent = []\n",
    "most_frequent.append(Counter(NN_Noun).most_common(3))\n",
    "most_frequent.append(Counter(NNP_Propn).most_common(3))\n",
    "most_frequent.append(Counter(IN_Adp).most_common(3))\n",
    "most_frequent.append(Counter(DT_Det).most_common(3))\n",
    "most_frequent.append(Counter(JJ_Adj).most_common(3))\n",
    "most_frequent.append(Counter(NNS_Noun).most_common(3))\n",
    "most_frequent.append(Counter(COMMA_Punct).most_common(3))\n",
    "most_frequent.append(Counter(PERIOD_Punct).most_common(3))\n",
    "most_frequent.append(Counter(SP_Space).most_common(3))\n",
    "most_frequent.append(Counter(VBN_Verb).most_common(3))\n",
    "\n",
    "least_frequent = []\n",
    "least_frequent.append(Counter(NN_Noun).most_common()[-1])\n",
    "least_frequent.append(Counter(NNP_Propn).most_common()[-1])\n",
    "least_frequent.append(Counter(IN_Adp).most_common()[-1])\n",
    "least_frequent.append(Counter(DT_Det).most_common()[-1])\n",
    "least_frequent.append(Counter(JJ_Adj).most_common()[-1])\n",
    "least_frequent.append(Counter(NNS_Noun).most_common()[-1])\n",
    "least_frequent.append(Counter(COMMA_Punct).most_common()[-1])\n",
    "least_frequent.append(Counter(PERIOD_Punct).most_common()[-1])\n",
    "least_frequent.append(Counter(SP_Space).most_common()[-1])\n",
    "least_frequent.append(Counter(VBN_Verb).most_common()[-1])\n",
    "\n",
    "word_class_table = pd.DataFrame({\"Finegrained POS-tag\":finegrained, \"Universal POS-tag\":universal, \"Occurrences\": occurrences, \"Relative Tag Frequency (%)\" : rtf, \"3 most frequent tokens\" : most_frequent, \"Example of infrequent token\": least_frequent})\n",
    "word_class_table.head(10)"
   ]
  },
  {
   "cell_type": "markdown",
   "metadata": {},
   "source": [
    "### 3 N-Grams (1.5 points)\n",
    "Calculate the distribution of n-grams and provide the 3 most frequent\n",
    "Token bigrams,\n",
    "Token trigrams,\n",
    "POS bigrams,\n",
    "and POS trigrams\n",
    "\n",
    "First the token bigrams:"
   ]
  },
  {
   "cell_type": "code",
   "execution_count": 35,
   "metadata": {},
   "outputs": [
    {
     "name": "stdout",
     "output_type": "stream",
     "text": [
      "3 most frequent:\n",
      "\n",
      "Token Bigrams: [('., \\n', 595), ('\\\\, \"', 240), ('\\n, The', 114)]\n",
      "Token Trigrams: [('., \\n, The', 104), (',, \\\\, \"', 40), ('\\\\, \", \\n', 38)]\n",
      "POS Bigrams: [('DET, NOUN', 780), ('NOUN, PUNCT', 769), ('NOUN, ADP', 707)]\n",
      "POS Trigrams: [('., \\n, The', 104), (',, \\\\, \"', 40), ('\\\\, \", \\n', 38)]\n"
     ]
    }
   ],
   "source": [
    "token_bi = []\n",
    "pos_bi = []\n",
    "token_tri = []\n",
    "pos_tri = []\n",
    "\n",
    "\n",
    "loop_counter = 0\n",
    "\n",
    "\n",
    "\n",
    "for token in doc:\n",
    "  \n",
    "    try:\n",
    "        token_bi.append(f\"{doc[loop_counter]}, {doc[loop_counter + 1]}\")\n",
    "        pos_bi.append(f\"{doc[loop_counter].pos_}, {doc[loop_counter + 1].pos_}\")\n",
    "    except:\n",
    "        pass\n",
    "    try:\n",
    "        token_tri.append(f\"{doc[loop_counter]}, {doc[loop_counter + 1]}, {doc[loop_counter + 2]}\")\n",
    "        pos_tri.append(f\"{doc[loop_counter].pos_}, {doc[loop_counter + 1].pos_}, {doc[loop_counter + 3].pos_}\")\n",
    "    except:\n",
    "        pass\n",
    "    loop_counter += 1\n",
    "    \n",
    "print(f\"3 most frequent:\\n\\nToken Bigrams: {Counter(token_bi).most_common(3)}\\nToken Trigrams: {Counter(token_tri).most_common(3)}\\nPOS Bigrams: {Counter(pos_bi).most_common(3)}\\nPOS Trigrams: {Counter(token_tri).most_common(3)}\")"
   ]
  },
  {
   "cell_type": "code",
   "execution_count": 36,
   "metadata": {},
   "outputs": [
    {
     "data": {
      "image/png": "[encoded data removed]",
      "text/plain": [
       "<Figure size 432x288 with 1 Axes>"
      ]
     },
     "metadata": {
      "needs_background": "light"
     },
     "output_type": "display_data"
    }
   ],
   "source": [
    "ngrams_bi = dict(Counter(token_bi))\n",
    "ngrams_tri = dict(Counter(token_tri))\n",
    "ngrams_sorted_bi = sorted(ngrams_bi.items(), key=lambda x: x[1], reverse=True)\n",
    "ngrams_sorted_tri = sorted(ngrams_tri.items(), key=lambda x: x[1], reverse=True)\n",
    "\n",
    "frequencies_bi = []\n",
    "frequencies_tri = []\n",
    "for i in range(len(ngrams_sorted_bi)):\n",
    "    frequencies_bi.append(ngrams_sorted_bi[i][1])\n",
    "for i in range(len(ngrams_sorted_tri)):\n",
    "    frequencies_tri.append(ngrams_sorted_tri[i][1])\n",
    "\n",
    "x = range(11251)\n",
    "y = range(14264)\n",
    "plt.plot(frequencies_bi[0:21])\n",
    "plt.plot(frequencies_tri[0:21])\n",
    "plt.legend([\"Bi-grams\", \"Tri-grams\"])\n",
    "plt.suptitle('n-gram frequencies')\n",
    "plt.ylabel(\"Frequency\")\n",
    "plt.xlabel(\"Ngrams (20 most frequent)\")\n",
    "plt.xticks(range(0, 21))\n",
    "plt.savefig(f\"{cwd}/plots/1.3_ngram_distr.png\")\n",
    "plt.show()"
   ]
  },
  {
   "cell_type": "markdown",
   "metadata": {},
   "source": [
    "### 4. Lemmatization (1 point)\n",
    "Provide an example for a lemma that occurs in more than two inflections in the dataset. \n",
    "Lemma:\n",
    "Inflected Forms: \n",
    "Example sentences for each form: "
   ]
  },
  {
   "cell_type": "code",
   "execution_count": 37,
   "metadata": {},
   "outputs": [
    {
     "name": "stdout",
     "output_type": "stream",
     "text": [
      "Word: international\n",
      "Lemma: international\n",
      "Inflected forms: {'JJ': ('international',), 'NNS': ('internationals',), 'NN': ('international',)}\n",
      "Example sentence: \n",
      "Manas international airport is located outside the capital city of Bishkek , and has been the location of other fatal crashes .\n"
     ]
    }
   ],
   "source": [
    "from lemminflect import getInflection, getAllInflections, getAllInflectionsOOV\n",
    "import random\n",
    "\n",
    "random_sentence = random.randint(0, len(list(doc.sents)) -1)\n",
    "\n",
    "i = 0\n",
    "for sentences in doc.sents:\n",
    "    if i == random_sentence:\n",
    "        sentence = sentences\n",
    "    i += 1\n",
    "\n",
    "for token in sentence:\n",
    "    if len(getAllInflections(token.text)) > 2:\n",
    "        inflections = getAllInflections(token.text)\n",
    "        word_token = token\n",
    "        break\n",
    "\n",
    "print(f\"Word: {word_token.text}\\nLemma: {word_token.lemma_}\\nInflected forms: {inflections}\\nExample sentence: {sentence}\")"
   ]
  },
  {
   "cell_type": "markdown",
   "metadata": {},
   "source": [
    "### 5. Named Entity Recognition (1 point)\n",
    "Number of named entities:\n",
    "Number of different entity labels:  \n",
    "Analyze the named entities in the first five sentences. Are they identified correctly? If not, \n",
    "explain your answer and propose a better decision. "
   ]
  },
  {
   "cell_type": "code",
   "execution_count": 38,
   "metadata": {},
   "outputs": [
    {
     "name": "stdout",
     "output_type": "stream",
     "text": [
      "Number of named entities: 1627\n",
      "Number of different entity labels: 17\n"
     ]
    },
    {
     "data": {
      "text/html": [
       "<span class=\"tex2jax_ignore\"><div class=\"entities\" style=\"line-height: 2.5; direction: ltr\">children are thought to be aged \n",
       "<mark class=\"entity\" style=\"background: #bfe1d9; padding: 0.45em 0.6em; margin: 0 0.25em; line-height: 1; border-radius: 0.35em;\">\n",
       "    three , eight\n",
       "    <span style=\"font-size: 0.8em; font-weight: bold; line-height: 1; border-radius: 0.35em; vertical-align: middle; margin-left: 0.5rem\">DATE</span>\n",
       "</mark>\n",
       " , and \n",
       "<mark class=\"entity\" style=\"background: #bfe1d9; padding: 0.45em 0.6em; margin: 0 0.25em; line-height: 1; border-radius: 0.35em;\">\n",
       "    ten years\n",
       "    <span style=\"font-size: 0.8em; font-weight: bold; line-height: 1; border-radius: 0.35em; vertical-align: middle; margin-left: 0.5rem\">DATE</span>\n",
       "</mark>\n",
       " , alongside an \n",
       "<mark class=\"entity\" style=\"background: #bfe1d9; padding: 0.45em 0.6em; margin: 0 0.25em; line-height: 1; border-radius: 0.35em;\">\n",
       "    eighteen-month-old\n",
       "    <span style=\"font-size: 0.8em; font-weight: bold; line-height: 1; border-radius: 0.35em; vertical-align: middle; margin-left: 0.5rem\">DATE</span>\n",
       "</mark>\n",
       " baby .</div></span>"
      ],
      "text/plain": [
       "<IPython.core.display.HTML object>"
      ]
     },
     "metadata": {},
     "output_type": "display_data"
    },
    {
     "data": {
      "text/html": [
       "<span class=\"tex2jax_ignore\"><div class=\"entities\" style=\"line-height: 2.5; direction: ltr\"></br>We mixed different concentrations of \n",
       "<mark class=\"entity\" style=\"background: #feca74; padding: 0.45em 0.6em; margin: 0 0.25em; line-height: 1; border-radius: 0.35em;\">\n",
       "    ROS\n",
       "    <span style=\"font-size: 0.8em; font-weight: bold; line-height: 1; border-radius: 0.35em; vertical-align: middle; margin-left: 0.5rem\">GPE</span>\n",
       "</mark>\n",
       " with the spores , plated them out on petridishes with an agar-solution where fungus can grow on .</div></span>"
      ],
      "text/plain": [
       "<IPython.core.display.HTML object>"
      ]
     },
     "metadata": {},
     "output_type": "display_data"
    },
    {
     "name": "stderr",
     "output_type": "stream",
     "text": [
      "/home/damion/anaconda3/envs/NLPT/lib/python3.8/site-packages/spacy/displacy/__init__.py:192: UserWarning: [W006] No entities to visualize found in Doc object. If this is surprising to you, make sure the Doc was processed using a model that supports named entity recognition, and check the `doc.ents` property manually if necessary.\n",
      "  warnings.warn(Warnings.W006)\n"
     ]
    },
    {
     "data": {
      "text/html": [
       "<span class=\"tex2jax_ignore\"><div class=\"entities\" style=\"line-height: 2.5; direction: ltr\"></br>They feel they are under-represented in higher education and are suffering in a regional economic downturn .</div></span>"
      ],
      "text/plain": [
       "<IPython.core.display.HTML object>"
      ]
     },
     "metadata": {},
     "output_type": "display_data"
    },
    {
     "data": {
      "text/html": [
       "<span class=\"tex2jax_ignore\"><div class=\"entities\" style=\"line-height: 2.5; direction: ltr\"></br>Especially as it concerns a \n",
       "<mark class=\"entity\" style=\"background: #e4e7d2; padding: 0.45em 0.6em; margin: 0 0.25em; line-height: 1; border-radius: 0.35em;\">\n",
       "    third\n",
       "    <span style=\"font-size: 0.8em; font-weight: bold; line-height: 1; border-radius: 0.35em; vertical-align: middle; margin-left: 0.5rem\">ORDINAL</span>\n",
       "</mark>\n",
       " party building up its military presence near our borders .</div></span>"
      ],
      "text/plain": [
       "<IPython.core.display.HTML object>"
      ]
     },
     "metadata": {},
     "output_type": "display_data"
    },
    {
     "data": {
      "text/html": [
       "<span class=\"tex2jax_ignore\"><div class=\"entities\" style=\"line-height: 2.5; direction: ltr\"></br>Police said \n",
       "<mark class=\"entity\" style=\"background: #e4e7d2; padding: 0.45em 0.6em; margin: 0 0.25em; line-height: 1; border-radius: 0.35em;\">\n",
       "    three\n",
       "    <span style=\"font-size: 0.8em; font-weight: bold; line-height: 1; border-radius: 0.35em; vertical-align: middle; margin-left: 0.5rem\">CARDINAL</span>\n",
       "</mark>\n",
       " children were hospitalised for \n",
       "<mark class=\"entity\" style=\"background: #7aecec; padding: 0.45em 0.6em; margin: 0 0.25em; line-height: 1; border-radius: 0.35em;\">\n",
       "    \\\n",
       "    <span style=\"font-size: 0.8em; font-weight: bold; line-height: 1; border-radius: 0.35em; vertical-align: middle; margin-left: 0.5rem\">ORG</span>\n",
       "</mark>\n",
       "&quot; severe dehydration \\&quot; .</div></span>"
      ],
      "text/plain": [
       "<IPython.core.display.HTML object>"
      ]
     },
     "metadata": {},
     "output_type": "display_data"
    }
   ],
   "source": [
    "entities = []\n",
    "labels = []\n",
    "for ent in doc.ents:\n",
    "    entities.append(ent)\n",
    "    labels.append(ent.label_)\n",
    "\n",
    "print(f\"Number of named entities: {len(entities)}\\nNumber of different entity labels: {len(set(labels))}\")\n",
    "\n",
    "from spacy import displacy\n",
    "\n",
    "i = 0\n",
    "for sent in doc.sents:\n",
    "    if i == 5:\n",
    "        break\n",
    "    displacy.render(sent, jupyter=True, style='ent')\n",
    "    i += 1\n",
    "\n"
   ]
  },
  {
   "cell_type": "markdown",
   "metadata": {},
   "source": [
    "## Part B Understanding the task of complex word identification"
   ]
  },
  {
   "cell_type": "markdown",
   "metadata": {},
   "source": [
    "### 6. Explore the dataset (1.5 points)\n",
    "Read the documentation (https://sites.google.com/view/cwisharedtask2018/datasets) of \n",
    "the dataset and provide an answer to the following questions: \n",
    "\n",
    "a) What do the start and offset values refer to? Provide an example. "
   ]
  },
  {
   "cell_type": "markdown",
   "metadata": {},
   "source": [
    "**The start value represents the first character index of the word/words that the annotators believed would be difficult to understand for children, non-native speakers, and people with language disabilities. The offset value indicates to where the slice must end to include the last character of the word/words**\n",
    "\n",
    ">**Both China and the Philippines flexed their muscles on Wednesday. 31 51 flexed their muscles**\n",
    "\n",
    "**Here 31 is the index of the \"f\", and 51 is \" \", and the range 31:51 is therefor \"flexed their muscles\"**"
   ]
  },
  {
   "cell_type": "markdown",
   "metadata": {},
   "source": [
    "b) What does it mean if a target word has a probabilistic label of 0.4?"
   ]
  },
  {
   "cell_type": "markdown",
   "metadata": {},
   "source": [
    "**It means that 4 out of 10 annotators (native and non-native combined) found the word/words difficult for the aforementioned group**"
   ]
  },
  {
   "cell_type": "markdown",
   "metadata": {},
   "source": [
    "c) The dataset was annotated by native and non-native speakers. How do the binary and \n",
    "the probabilistic complexity label account for this distinction? "
   ]
  },
  {
   "cell_type": "markdown",
   "metadata": {},
   "source": [
    "**As stated before, the probabilistic label value is based on a combination of both groups of annotators (for instance: 10 native (30%), 10 non-native (20%) generate a combined probability of 25%)**\n",
    "**The binary label 1 simply applies if any of te annotors (groups combined) classifies the word/words as difficult**"
   ]
  },
  {
   "cell_type": "markdown",
   "metadata": {},
   "source": [
    "### 7. Extract basic statistics (0.5 point)\n",
    "Let’s have a closer look at the labels for this task. \n",
    "Use the file data/original/english/WikiNews_Train.tsv and extract the following columns: \n",
    "Target word, binary label, probabilistic label\n",
    "Provide the following information:  \n",
    "Number of instances labeled with 0: \n",
    "Number of instances labeled with 1: \n",
    "Min, max, median, mean, and stdev of the probabilistic label: \n",
    "Number of instances consisting of more than one token: \n",
    "Maximum number of tokens for an instance: "
   ]
  },
  {
   "cell_type": "code",
   "execution_count": 39,
   "metadata": {},
   "outputs": [
    {
     "data": {
      "text/html": [
       "<div>\n",
       "<style scoped>\n",
       "    .dataframe tbody tr th:only-of-type {\n",
       "        vertical-align: middle;\n",
       "    }\n",
       "\n",
       "    .dataframe tbody tr th {\n",
       "        vertical-align: top;\n",
       "    }\n",
       "\n",
       "    .dataframe thead th {\n",
       "        text-align: right;\n",
       "    }\n",
       "</style>\n",
       "<table border=\"1\" class=\"dataframe\">\n",
       "  <thead>\n",
       "    <tr style=\"text-align: right;\">\n",
       "      <th></th>\n",
       "      <th>ID</th>\n",
       "      <th>sentence</th>\n",
       "      <th>start</th>\n",
       "      <th>end</th>\n",
       "      <th>target</th>\n",
       "      <th>nat</th>\n",
       "      <th>non-nat</th>\n",
       "      <th>nat diff</th>\n",
       "      <th>non-nat diff</th>\n",
       "      <th>binary</th>\n",
       "      <th>prob</th>\n",
       "    </tr>\n",
       "  </thead>\n",
       "  <tbody>\n",
       "    <tr>\n",
       "      <th>0</th>\n",
       "      <td>3QREJ3J433YH30CYS49AQ6MZ3G0LKZ</td>\n",
       "      <td>#37-1 Guatemalan Supreme Court approves impeac...</td>\n",
       "      <td>6</td>\n",
       "      <td>16</td>\n",
       "      <td>Guatemalan</td>\n",
       "      <td>10</td>\n",
       "      <td>10</td>\n",
       "      <td>1</td>\n",
       "      <td>0</td>\n",
       "      <td>1</td>\n",
       "      <td>0.05</td>\n",
       "    </tr>\n",
       "    <tr>\n",
       "      <th>1</th>\n",
       "      <td>3QREJ3J433YH30CYS49AQ6MZ3G0LKZ</td>\n",
       "      <td>#37-1 Guatemalan Supreme Court approves impeac...</td>\n",
       "      <td>31</td>\n",
       "      <td>39</td>\n",
       "      <td>approves</td>\n",
       "      <td>10</td>\n",
       "      <td>10</td>\n",
       "      <td>0</td>\n",
       "      <td>1</td>\n",
       "      <td>1</td>\n",
       "      <td>0.05</td>\n",
       "    </tr>\n",
       "    <tr>\n",
       "      <th>2</th>\n",
       "      <td>3QREJ3J433YH30CYS49AQ6MZ3G0LKZ</td>\n",
       "      <td>#37-1 Guatemalan Supreme Court approves impeac...</td>\n",
       "      <td>17</td>\n",
       "      <td>24</td>\n",
       "      <td>Supreme</td>\n",
       "      <td>10</td>\n",
       "      <td>10</td>\n",
       "      <td>0</td>\n",
       "      <td>0</td>\n",
       "      <td>0</td>\n",
       "      <td>0.00</td>\n",
       "    </tr>\n",
       "    <tr>\n",
       "      <th>3</th>\n",
       "      <td>3QREJ3J433YH30CYS49AQ6MZ3G0LKZ</td>\n",
       "      <td>#37-1 Guatemalan Supreme Court approves impeac...</td>\n",
       "      <td>25</td>\n",
       "      <td>30</td>\n",
       "      <td>Court</td>\n",
       "      <td>10</td>\n",
       "      <td>10</td>\n",
       "      <td>0</td>\n",
       "      <td>0</td>\n",
       "      <td>0</td>\n",
       "      <td>0.00</td>\n",
       "    </tr>\n",
       "    <tr>\n",
       "      <th>4</th>\n",
       "      <td>3QREJ3J433YH30CYS49AQ6MZ3G0LKZ</td>\n",
       "      <td>#37-1 Guatemalan Supreme Court approves impeac...</td>\n",
       "      <td>31</td>\n",
       "      <td>51</td>\n",
       "      <td>approves impeachment</td>\n",
       "      <td>10</td>\n",
       "      <td>10</td>\n",
       "      <td>1</td>\n",
       "      <td>0</td>\n",
       "      <td>1</td>\n",
       "      <td>0.05</td>\n",
       "    </tr>\n",
       "    <tr>\n",
       "      <th>...</th>\n",
       "      <td>...</td>\n",
       "      <td>...</td>\n",
       "      <td>...</td>\n",
       "      <td>...</td>\n",
       "      <td>...</td>\n",
       "      <td>...</td>\n",
       "      <td>...</td>\n",
       "      <td>...</td>\n",
       "      <td>...</td>\n",
       "      <td>...</td>\n",
       "      <td>...</td>\n",
       "    </tr>\n",
       "    <tr>\n",
       "      <th>7741</th>\n",
       "      <td>344M16OZKIG450N98VEM53DJOE4ENA</td>\n",
       "      <td>#36-6 At 9 P.M. EST, INDYCAR released a statem...</td>\n",
       "      <td>116</td>\n",
       "      <td>134</td>\n",
       "      <td>critical condition</td>\n",
       "      <td>10</td>\n",
       "      <td>10</td>\n",
       "      <td>0</td>\n",
       "      <td>0</td>\n",
       "      <td>0</td>\n",
       "      <td>0.00</td>\n",
       "    </tr>\n",
       "    <tr>\n",
       "      <th>7742</th>\n",
       "      <td>344M16OZKIG450N98VEM53DJOE4ENA</td>\n",
       "      <td>#36-6 At 9 P.M. EST, INDYCAR released a statem...</td>\n",
       "      <td>125</td>\n",
       "      <td>134</td>\n",
       "      <td>condition</td>\n",
       "      <td>10</td>\n",
       "      <td>10</td>\n",
       "      <td>0</td>\n",
       "      <td>0</td>\n",
       "      <td>0</td>\n",
       "      <td>0.00</td>\n",
       "    </tr>\n",
       "    <tr>\n",
       "      <th>7743</th>\n",
       "      <td>344M16OZKIG450N98VEM53DJOE4ENA</td>\n",
       "      <td>#36-6 At 9 P.M. EST, INDYCAR released a statem...</td>\n",
       "      <td>139</td>\n",
       "      <td>154</td>\n",
       "      <td>had fallen into</td>\n",
       "      <td>10</td>\n",
       "      <td>10</td>\n",
       "      <td>0</td>\n",
       "      <td>1</td>\n",
       "      <td>1</td>\n",
       "      <td>0.05</td>\n",
       "    </tr>\n",
       "    <tr>\n",
       "      <th>7744</th>\n",
       "      <td>344M16OZKIG450N98VEM53DJOE4ENA</td>\n",
       "      <td>#36-6 At 9 P.M. EST, INDYCAR released a statem...</td>\n",
       "      <td>157</td>\n",
       "      <td>161</td>\n",
       "      <td>coma</td>\n",
       "      <td>10</td>\n",
       "      <td>10</td>\n",
       "      <td>2</td>\n",
       "      <td>3</td>\n",
       "      <td>1</td>\n",
       "      <td>0.25</td>\n",
       "    </tr>\n",
       "    <tr>\n",
       "      <th>7745</th>\n",
       "      <td>344M16OZKIG450N98VEM53DJOE4ENA</td>\n",
       "      <td>#36-6 At 9 P.M. EST, INDYCAR released a statem...</td>\n",
       "      <td>143</td>\n",
       "      <td>149</td>\n",
       "      <td>fallen</td>\n",
       "      <td>10</td>\n",
       "      <td>10</td>\n",
       "      <td>0</td>\n",
       "      <td>0</td>\n",
       "      <td>0</td>\n",
       "      <td>0.00</td>\n",
       "    </tr>\n",
       "  </tbody>\n",
       "</table>\n",
       "<p>7746 rows × 11 columns</p>\n",
       "</div>"
      ],
      "text/plain": [
       "                                  ID  \\\n",
       "0     3QREJ3J433YH30CYS49AQ6MZ3G0LKZ   \n",
       "1     3QREJ3J433YH30CYS49AQ6MZ3G0LKZ   \n",
       "2     3QREJ3J433YH30CYS49AQ6MZ3G0LKZ   \n",
       "3     3QREJ3J433YH30CYS49AQ6MZ3G0LKZ   \n",
       "4     3QREJ3J433YH30CYS49AQ6MZ3G0LKZ   \n",
       "...                              ...   \n",
       "7741  344M16OZKIG450N98VEM53DJOE4ENA   \n",
       "7742  344M16OZKIG450N98VEM53DJOE4ENA   \n",
       "7743  344M16OZKIG450N98VEM53DJOE4ENA   \n",
       "7744  344M16OZKIG450N98VEM53DJOE4ENA   \n",
       "7745  344M16OZKIG450N98VEM53DJOE4ENA   \n",
       "\n",
       "                                               sentence  start  end  \\\n",
       "0     #37-1 Guatemalan Supreme Court approves impeac...      6   16   \n",
       "1     #37-1 Guatemalan Supreme Court approves impeac...     31   39   \n",
       "2     #37-1 Guatemalan Supreme Court approves impeac...     17   24   \n",
       "3     #37-1 Guatemalan Supreme Court approves impeac...     25   30   \n",
       "4     #37-1 Guatemalan Supreme Court approves impeac...     31   51   \n",
       "...                                                 ...    ...  ...   \n",
       "7741  #36-6 At 9 P.M. EST, INDYCAR released a statem...    116  134   \n",
       "7742  #36-6 At 9 P.M. EST, INDYCAR released a statem...    125  134   \n",
       "7743  #36-6 At 9 P.M. EST, INDYCAR released a statem...    139  154   \n",
       "7744  #36-6 At 9 P.M. EST, INDYCAR released a statem...    157  161   \n",
       "7745  #36-6 At 9 P.M. EST, INDYCAR released a statem...    143  149   \n",
       "\n",
       "                    target  nat  non-nat  nat diff  non-nat diff  binary  prob  \n",
       "0               Guatemalan   10       10         1             0       1  0.05  \n",
       "1                 approves   10       10         0             1       1  0.05  \n",
       "2                  Supreme   10       10         0             0       0  0.00  \n",
       "3                    Court   10       10         0             0       0  0.00  \n",
       "4     approves impeachment   10       10         1             0       1  0.05  \n",
       "...                    ...  ...      ...       ...           ...     ...   ...  \n",
       "7741    critical condition   10       10         0             0       0  0.00  \n",
       "7742             condition   10       10         0             0       0  0.00  \n",
       "7743       had fallen into   10       10         0             1       1  0.05  \n",
       "7744                  coma   10       10         2             3       1  0.25  \n",
       "7745                fallen   10       10         0             0       0  0.00  \n",
       "\n",
       "[7746 rows x 11 columns]"
      ]
     },
     "execution_count": 39,
     "metadata": {},
     "output_type": "execute_result"
    }
   ],
   "source": [
    "df = pd.read_table(f\"{cwd}/data/original/english/WikiNews_Train.tsv\", header=None)\n",
    "wikinews = pd.DataFrame(df)\n",
    "wikinews.columns = ['ID', 'sentence', 'start', 'end', 'target', 'nat', 'non-nat', 'nat diff', 'non-nat diff', 'binary', 'prob']\n",
    "wikinews"
   ]
  },
  {
   "cell_type": "code",
   "execution_count": 40,
   "metadata": {},
   "outputs": [
    {
     "name": "stdout",
     "output_type": "stream",
     "text": [
      "Number of instances labeled with 0: 3216\n",
      "Number of instances labeled with 1: 4530\n",
      "Probabilistic label:\n",
      "\tmin: 0.0\n",
      "\tmax: 1.0\n",
      "\tmedian: 0.0\n",
      "\tmean: 0.084\n",
      "\tstd: 0.17\n",
      "Number of instances consisting of more than one token: 1086\n",
      "Maximum number of tokens for an instance: : 10\n"
     ]
    }
   ],
   "source": [
    "target_word = list(wikinews[\"target\"])\n",
    "binary_label = list(wikinews[\"binary\"])\n",
    "prob_label = list(wikinews[\"prob\"])\n",
    "\n",
    "token_list = []\n",
    "\n",
    "for i in range(len(target_word)):\n",
    "    instance = nlp(target_word[i])\n",
    "    token_list.append(0)\n",
    "    for token in instance:\n",
    "        token_list[i] +=1\n",
    "\n",
    "\n",
    "print(f\"Number of instances labeled with 0: {Counter(binary_label)[1]}\\n\\\n",
    "Number of instances labeled with 1: {Counter(binary_label)[0]}\\n\\\n",
    "Probabilistic label:\\n\\\n",
    "\\tmin: {np.min(prob_label)}\\n\\\n",
    "\\tmax: {np.max(prob_label)}\\n\\\n",
    "\\tmedian: {np.median(prob_label)}\\n\\\n",
    "\\tmean: {round(np.mean(prob_label), 3)}\\n\\\n",
    "\\tstd: {round(np.std(prob_label), 3)}\\n\\\n",
    "Number of instances consisting of more than one token: {sum(i > 1 for i in token_list)}\\n\\\n",
    "Maximum number of tokens for an instance: : {max(token_list)}\")"
   ]
  },
  {
   "cell_type": "markdown",
   "metadata": {},
   "source": [
    "### 8. Explore linguistic characteristics (2 points)\n",
    "For simplicity, we will focus on the instances which consist only of a single token and \n",
    "have been labeled as complex by at least one annotator. \n",
    "Calculate the length of the tokens as the number of characters. \n",
    "Calculate the frequency of the tokens using the wordfreq package \n",
    "(https://pypi.org/project/wordfreq/). \n",
    "\n",
    "Provide the Pearson correlation of length and frequency with the probabilistic complexity \n",
    "label:"
   ]
  },
  {
   "cell_type": "code",
   "execution_count": 41,
   "metadata": {},
   "outputs": [],
   "source": [
    "instances = []\n",
    "for i in range(len(target_word)):\n",
    "    if token_list[i] <=1 and wikinews[\"binary\"][i] == 1:\n",
    "        instances.append(target_word[i])\n",
    "\n",
    "instances\n",
    "instances_tokens = []\n",
    "instances_frequencies = []\n",
    "instances_binary = []\n",
    "instances_prob = []\n",
    "instances_pos = []\n",
    "\n",
    "for i in range(len(instances)):\n",
    "    instances_tokens.append(len(instances[i]))\n",
    "    instances_frequencies.append(zipf_frequency(instances[i], 'en'))\n",
    "    instances_binary.append(wikinews[\"binary\"][i])\n",
    "    instances_prob.append(wikinews[\"prob\"][i])\n",
    "    pos_text = nlp(instances[i])\n",
    "    for token in pos_text:\n",
    "        instances_pos.append(token.pos_)"
   ]
  },
  {
   "cell_type": "code",
   "execution_count": 42,
   "metadata": {},
   "outputs": [
    {
     "name": "stdout",
     "output_type": "stream",
     "text": [
      "Pearson correlation length and complexity: (-0.0378265763520378, 0.06313839008783545)\n",
      "Pearson correlation frequency and complexity: (-0.021129844660967675, 0.29939126111134945)\n"
     ]
    }
   ],
   "source": [
    "from scipy.stats import pearsonr\n",
    "\n",
    "print(f\"Pearson correlation length and complexity: {pearsonr(instances_tokens, instances_binary)}\\n\\\n",
    "Pearson correlation frequency and complexity: {pearsonr(instances_frequencies, instances_binary)}\")"
   ]
  },
  {
   "cell_type": "markdown",
   "metadata": {},
   "source": [
    "Provide 3 scatter plots with the probabilistic complexity on the y-axis. \n",
    "X-axis: 1) Length 2) Frequency 3) POS tag \n",
    "Set the ranges of the x and y axes meaningfully. "
   ]
  },
  {
   "cell_type": "code",
   "execution_count": 43,
   "metadata": {},
   "outputs": [
    {
     "data": {
      "image/png": "[encoded data removed]",
      "text/plain": [
       "<Figure size 432x288 with 1 Axes>"
      ]
     },
     "metadata": {
      "needs_background": "light"
     },
     "output_type": "display_data"
    }
   ],
   "source": [
    "plt.scatter(instances_tokens, instances_prob)\n",
    "plt.suptitle(\"Token length prob.\")\n",
    "plt.ylabel(\"probability\")\n",
    "plt.xlabel(\"token length\")\n",
    "plt.savefig(f\"{cwd}/plots/A_8_1_length.png\")\n",
    "plt.show()\n"
   ]
  },
  {
   "cell_type": "code",
   "execution_count": 44,
   "metadata": {},
   "outputs": [
    {
     "data": {
      "image/png": "[encoded data removed]",
      "text/plain": [
       "<Figure size 432x288 with 1 Axes>"
      ]
     },
     "metadata": {
      "needs_background": "light"
     },
     "output_type": "display_data"
    }
   ],
   "source": [
    "plt.scatter(instances_frequencies, instances_prob)\n",
    "plt.suptitle(\"Instance frequencies (zipf) prob.\")\n",
    "plt.ylabel(\"probability\")\n",
    "plt.xlabel(\"Zipf frequency\")\n",
    "plt.savefig(f\"{cwd}/plots/A_8_2_frequency.png\")\n",
    "plt.show()"
   ]
  },
  {
   "cell_type": "code",
   "execution_count": 45,
   "metadata": {},
   "outputs": [
    {
     "data": {
      "image/png": "[encoded data removed]",
      "text/plain": [
       "<Figure size 432x288 with 1 Axes>"
      ]
     },
     "metadata": {
      "needs_background": "light"
     },
     "output_type": "display_data"
    }
   ],
   "source": [
    "plt.scatter(instances_pos, instances_prob)\n",
    "plt.suptitle(\"Pos tag prob.\")\n",
    "plt.ylabel(\"probability\")\n",
    "plt.xlabel(\"POS tag\")\n",
    "plt.savefig(f\"{cwd}/plots/A_8_3_pos.png\")\n",
    "plt.show()"
   ]
  },
  {
   "cell_type": "markdown",
   "metadata": {},
   "source": [
    "Interpretation:"
   ]
  },
  {
   "cell_type": "markdown",
   "metadata": {},
   "source": [
    "### 9. Reflection (1 Point)\n",
    "Can you think of another linguistic characteristic that might have an influence on the \n",
    "perceived complexity of a word? Propose at least one and explain your choice in 2-4 \n",
    "sentences. "
   ]
  },
  {
   "cell_type": "markdown",
   "metadata": {},
   "source": [
    "-the word being an inflection or a lemma\n",
    "-the difficulty of the context of the sentence (inference)"
   ]
  },
  {
   "cell_type": "markdown",
   "metadata": {},
   "source": [
    "### 10. Baselines (2 Points)\n",
    "Implement four baselines for the task in TODO_baselines.py. "
   ]
  },
  {
   "cell_type": "markdown",
   "metadata": {},
   "source": [
    "**SO A MAJORITY CLASS SHOULD BE THE MAJORITY CLASS PER TOKEN, NOT FOR THE ENTIRE DATASET. BUT THEY MADE IT SO YOU HAVE TO PROGRAM A SINGLE MAJORITY CLASS PER DATASET**"
   ]
  },
  {
   "cell_type": "code",
   "execution_count": 46,
   "metadata": {},
   "outputs": [
    {
     "data": {
      "text/html": [
       "<div>\n",
       "<style scoped>\n",
       "    .dataframe tbody tr th:only-of-type {\n",
       "        vertical-align: middle;\n",
       "    }\n",
       "\n",
       "    .dataframe tbody tr th {\n",
       "        vertical-align: top;\n",
       "    }\n",
       "\n",
       "    .dataframe thead th {\n",
       "        text-align: right;\n",
       "    }\n",
       "</style>\n",
       "<table border=\"1\" class=\"dataframe\">\n",
       "  <thead>\n",
       "    <tr style=\"text-align: right;\">\n",
       "      <th></th>\n",
       "      <th>Baseline</th>\n",
       "      <th>Accuracy on dev</th>\n",
       "      <th>Accuracy on test</th>\n",
       "    </tr>\n",
       "  </thead>\n",
       "  <tbody>\n",
       "    <tr>\n",
       "      <th>0</th>\n",
       "      <td>Majority</td>\n",
       "      <td>0.78</td>\n",
       "      <td>0.75</td>\n",
       "    </tr>\n",
       "    <tr>\n",
       "      <th>1</th>\n",
       "      <td>Random</td>\n",
       "      <td>0.39</td>\n",
       "      <td>0.40</td>\n",
       "    </tr>\n",
       "    <tr>\n",
       "      <th>2</th>\n",
       "      <td>Length</td>\n",
       "      <td>0.65</td>\n",
       "      <td>0.82</td>\n",
       "    </tr>\n",
       "    <tr>\n",
       "      <th>3</th>\n",
       "      <td>Frequency</td>\n",
       "      <td>0.59</td>\n",
       "      <td>0.76</td>\n",
       "    </tr>\n",
       "  </tbody>\n",
       "</table>\n",
       "</div>"
      ],
      "text/plain": [
       "    Baseline  Accuracy on dev  Accuracy on test\n",
       "0   Majority             0.78              0.75\n",
       "1     Random             0.39              0.40\n",
       "2     Length             0.65              0.82\n",
       "3  Frequency             0.59              0.76"
      ]
     },
     "execution_count": 46,
     "metadata": {},
     "output_type": "execute_result"
    }
   ],
   "source": [
    "# Implement four baselines for the task.\n",
    "# Majority baseline: always assigns the majority class of the training data\n",
    "# Random baseline: randomly assigns one of the classes. Make sure to set a random seed and average the accuracy over 100 runs.\n",
    "# Length baseline: determines the class based on a length threshold\n",
    "# Frequency baseline: determines the class based on a frequency threshold\n",
    "\n",
    "from model.data_loader import DataLoader\n",
    "\n",
    "# Each baseline returns predictions for the test data. The length and frequency baselines determine a threshold using the development data.\n",
    "\n",
    "def baseline(train_sentences, train_labels, testinput, testlabels, baseline_style, length_threshold = \"default\", frequency_threshold = \"default\"):\n",
    "    predictions = []\n",
    "\n",
    "    if baseline_style == \"majority\":\n",
    "        labels = []\n",
    "        for i in range(len(train_labels)):\n",
    "            sentence = train_labels[i].split(\" \")\n",
    "            for token in sentence:\n",
    "                labels.append(token)\n",
    "\n",
    "        majority_class = Counter(labels).most_common(1)[0][0]\n",
    "        predictions = []\n",
    "        for instance in testinput:\n",
    "            tokens = instance.split(\" \")\n",
    "            for token in tokens:\n",
    "                predictions.append(majority_class)\n",
    "    \n",
    "    elif baseline_style == \"random\":\n",
    "        labels = []\n",
    "        for i in range(len(train_labels)):\n",
    "            sentence = train_labels[i].split(\" \")\n",
    "            for token in sentence:\n",
    "                labels.append(token)\n",
    "        baseline_set = list(set(labels))\n",
    "\n",
    "        predictions = []\n",
    "        for instance in testinput:\n",
    "            tokens = instance.split(\" \")\n",
    "            for token in tokens:\n",
    "                random_baseline = baseline_set[random.randint(1, len(baseline_set) -1)]\n",
    "                predictions.append(random_baseline)\n",
    "\n",
    "    elif baseline_style == \"length\":\n",
    "        n_labels = []\n",
    "        c_labels = []\n",
    "\n",
    "        for i in range(len(train_labels)):\n",
    "            \n",
    "            label_sentence = train_labels[i].split(\" \")\n",
    "            sent_sentence = train_sentences[i].split(\" \")\n",
    "\n",
    "            for token in range(len(label_sentence)):\n",
    "                if label_sentence[token] == (\"N\" or \"N\\n\"):\n",
    "                    n_labels.append(len(sent_sentence[token]))\n",
    "                elif label_sentence[token] == (\"C\" or \"C\\n\"):\n",
    "                    c_labels.append(len(sent_sentence[token]))\n",
    "            \n",
    "        global length_n_mean \n",
    "        length_n_mean = np.mean(n_labels)\n",
    "        global length_c_mean \n",
    "        length_c_mean = np.mean(c_labels)\n",
    "        for instance in testinput:\n",
    "            tokens = instance.split(\" \")\n",
    "            for token in tokens:\n",
    "                token_length = len(token)\n",
    "\n",
    "                if length_threshold == \"default\":\n",
    "                    if abs(token_length - length_n_mean) < abs(token_length - length_c_mean):\n",
    "                        length_baseline = \"N\"\n",
    "                    else:\n",
    "                        length_baseline = \"C\"\n",
    "                    predictions.append(length_baseline)\n",
    "                else:\n",
    "                    if token_length < length_threshold:\n",
    "                        length_baseline = \"N\"\n",
    "                    else:\n",
    "                        length_baseline = \"C\"\n",
    "                    predictions.append(length_baseline)\n",
    "\n",
    "    elif baseline_style == \"frequency\":\n",
    "        n_labels = []\n",
    "        c_labels = []\n",
    "\n",
    "        for i in range(len(train_labels)):\n",
    "            \n",
    "            label_sentence = train_labels[i].split(\" \")\n",
    "            sent_sentence = train_sentences[i].split(\" \")\n",
    "\n",
    "            for token in range(len(label_sentence)):\n",
    "                if label_sentence[token] == (\"N\" or \"N\\n\"):\n",
    "                    n_labels.append(zipf_frequency(sent_sentence[token], 'en'))\n",
    "                elif label_sentence[token] == (\"C\" or \"C\\n\"):\n",
    "                    c_labels.append(zipf_frequency(sent_sentence[token], 'en'))\n",
    "        \n",
    "        global frequency_n_mean\n",
    "        frequency_n_mean = np.mean(n_labels)\n",
    "        global frequency_c_mean\n",
    "        frequency_c_mean = np.mean(c_labels)\n",
    "        for instance in testinput:\n",
    "            tokens = instance.split(\" \")\n",
    "            for token in tokens:\n",
    "                if frequency_threshold == \"default\":\n",
    "                    token_freq = zipf_frequency(token, 'en')\n",
    "                    if abs(token_freq - frequency_n_mean) < abs(token_freq - frequency_c_mean):\n",
    "                        freq_baseline = \"N\"\n",
    "                    else:\n",
    "                        freq_baseline = \"C\"\n",
    "                    predictions.append(freq_baseline)\n",
    "                else:\n",
    "                    token_freq = zipf_frequency(token, 'en')\n",
    "                    if token_freq > frequency_threshold:\n",
    "                        freq_baseline = \"N\"\n",
    "                    else:\n",
    "                        freq_baseline = \"C\"\n",
    "                    predictions.append(freq_baseline)\n",
    "\n",
    "\n",
    "    test_labels = []\n",
    "    for i in range(len(testlabels)):\n",
    "        sentence = testlabels[i].split(\" \")\n",
    "        for token in sentence:\n",
    "            test_labels.append(token)\n",
    "\n",
    "    acc_counter = 0\n",
    "    for i in range(len(predictions)):\n",
    "        if predictions[i] == test_labels[i]:\n",
    "            acc_counter += 1\n",
    "\n",
    "    accuracy = round(acc_counter / len(predictions), 2)\n",
    "\n",
    "    return  accuracy, predictions\n",
    "\n",
    "\n",
    "\n",
    "if __name__ == '__main__':\n",
    "    train_path = f\"{cwd}/data/preprocessed/train/\"\n",
    "    dev_path = f\"{cwd}/data/preprocessed/val/\"\n",
    "    test_path = f\"{cwd}/data/preprocessed/test/\"\n",
    "\n",
    "    # Note: this loads all instances into memory. If you work with bigger files in the future, use an iterator instead.\n",
    "\n",
    "    with open(train_path + \"sentences.txt\") as sent_file:\n",
    "        train_sentences = sent_file.readlines()\n",
    "\n",
    "    with open(train_path + \"labels.txt\") as label_file:\n",
    "        train_labels = label_file.readlines()\n",
    "\n",
    "\n",
    "    with open(dev_path + \"sentences.txt\") as dev_file:\n",
    "        dev_sentences = dev_file.readlines()\n",
    "\n",
    "    with open(train_path + \"labels.txt\") as dev_label_file:\n",
    "        dev_labels = dev_label_file.readlines()\n",
    "    with open(test_path + \"sentences.txt\") as testfile:\n",
    "        testinput = testfile.readlines()\n",
    "\n",
    "    with open(test_path + \"labels.txt\") as test_labelfile:\n",
    "        testlabels = test_labelfile.readlines()\n",
    "\n",
    "    dev_majority_accuracy, dev_majority_predictions = baseline(train_sentences, train_labels, dev_sentences, dev_labels, baseline_style =\"majority\")\n",
    "    dev_random_accuracy, dev_random_predictions = baseline(train_sentences, train_labels, dev_sentences, dev_labels, baseline_style=\"random\")\n",
    "    dev_length_accuracy, dev_length_predictions = baseline(train_sentences, train_labels, dev_sentences, dev_labels, baseline_style=\"length\")\n",
    "    dev_frequency_accuracy, dev_frequency_predictions = baseline(train_sentences, train_labels, dev_sentences, dev_labels, baseline_style=\"frequency\")\n",
    "\n",
    "    test_majority_accuracy, test_majority_predictions = baseline(train_sentences, train_labels, testinput, testlabels, baseline_style=\"majority\")\n",
    "    test_random_accuracy, test_random_predictions = baseline(train_sentences, train_labels, testinput, testlabels, baseline_style=\"random\")\n",
    "    test_length_accuracy, test_length_predictions = baseline(train_sentences, train_labels, testinput, testlabels, baseline_style=\"length\")\n",
    "    test_frequency_accuracy, test_frequency_predictions = baseline(train_sentences, train_labels, testinput, testlabels, baseline_style=\"frequency\")\n",
    "\n",
    "    baselines = [\"Majority\", \"Random\", \"Length\", \"Frequency\"]\n",
    "    acc_dev = [dev_majority_accuracy, dev_random_accuracy, dev_length_accuracy, dev_frequency_accuracy]\n",
    "    acc_test = [test_majority_accuracy, test_random_accuracy, test_length_accuracy, test_frequency_accuracy]\n",
    "    baseline_df = pd.DataFrame({\"Baseline\":baselines, \"Accuracy on dev\": acc_dev, \"Accuracy on test\":acc_test})\n",
    "\n",
    "baseline_df"
   ]
  },
  {
   "cell_type": "code",
   "execution_count": 47,
   "metadata": {},
   "outputs": [
    {
     "name": "stdout",
     "output_type": "stream",
     "text": [
      "Best dev accuracy: 0.82 at a threshold of 6.1\n"
     ]
    }
   ],
   "source": [
    "current_best_acc = 0\n",
    "current_best_threshold = 0\n",
    "\n",
    "for i in np.arange(0, 50, 0.1).tolist():\n",
    "    accuracy, _ = baseline(train_sentences, train_labels, testinput, testlabels, baseline_style=\"length\", length_threshold=i)\n",
    "    if accuracy > current_best_acc:\n",
    "        current_best_acc = accuracy\n",
    "        current_best_threshold = i\n",
    "\n",
    "print(f\"Best dev accuracy: {current_best_acc} at a threshold of {round(current_best_threshold, 2)}\")\n",
    "        \n"
   ]
  },
  {
   "cell_type": "code",
   "execution_count": 48,
   "metadata": {},
   "outputs": [
    {
     "data": {
      "text/plain": [
       "0.78"
      ]
     },
     "execution_count": 48,
     "metadata": {},
     "output_type": "execute_result"
    }
   ],
   "source": [
    "accuracy, _ = baseline(train_sentences, train_labels, dev_sentences, dev_labels, baseline_style=\"length\", length_threshold=13.1)\n",
    "accuracy"
   ]
  },
  {
   "cell_type": "markdown",
   "metadata": {},
   "source": [
    "# PART C:  Modeling the task\n",
    "\n",
    "For part C, we use an implementation for a vanilla LSTM which was originally developed for a \n",
    "named entity recognition project for a Stanford course. You can find more documentation here: \n",
    "https://github.com/cs230-stanford/cs230-code-examples/tree/master/pytorch/nlp"
   ]
  },
  {
   "cell_type": "markdown",
   "metadata": {},
   "source": [
    "## 11. Understanding the code (1.5 Points)\n",
    "Familiarize yourself with our version of the code and try to understand what is going on. \n",
    "Answer in your own words (1-3 sentences per question)\n",
    "Run the file build_vocab.py. What does this script do?"
   ]
  },
  {
   "cell_type": "markdown",
   "metadata": {},
   "source": [
    "**The build_vocab file contains several functions, the save_vocab_to_file() function returns a vocab file with a token on every new line. The save_dict_to_json() function gets called to store the dataset parameters to a json file, including different dataset sizes and tag information, etc. Lastly, the update_vocab function manages to update the word and tag vocabularies based on the datasets provided before being saved to file by the save_vocab_to_file() function.**"
   ]
  },
  {
   "cell_type": "markdown",
   "metadata": {},
   "source": [
    "Inspect the file model/net.py. Which layers are being used and what is their function?\n",
    "\n"
   ]
  },
  {
   "cell_type": "markdown",
   "metadata": {},
   "source": []
  }
 ],
 "metadata": {
  "interpreter": {
   "hash": "787fd427633f043040e87f5eaa02492cbef96ac8667c95e7d05ab643b7636ae1"
  },
  "kernelspec": {
   "display_name": "Python 3.8.13 ('NLPT')",
   "language": "python",
   "name": "python3"
  },
  "language_info": {
   "codemirror_mode": {
    "name": "ipython",
    "version": 3
   },
   "file_extension": ".py",
   "mimetype": "text/x-python",
   "name": "python",
   "nbconvert_exporter": "python",
   "pygments_lexer": "ipython3",
   "version": "3.8.13"
  },
  "orig_nbformat": 4
 },
 "nbformat": 4,
 "nbformat_minor": 2
}

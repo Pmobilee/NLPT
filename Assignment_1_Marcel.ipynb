{
 "cells": [
  {
   "cell_type": "code",
   "execution_count": 20,
   "metadata": {},
   "outputs": [],
   "source": [
    "from collections import Counter\n",
    "import spacy\n",
    "import textacy\n",
    "from spacy import displacy\n",
    "import pandas as pd\n",
    "import numpy as np\n",
    "from wordfreq import word_frequency\n",
    "from wordfreq import zipf_frequency\n",
    "import matplotlib.pyplot as plt\n",
    "import random\n",
    "import os\n",
    "from scipy.stats import pearsonr\n",
    "import sklearn\n",
    "import json\n",
    "\n",
    "nlp = spacy.load('en_core_web_sm')"
   ]
  },
  {
   "cell_type": "code",
   "execution_count": 21,
   "metadata": {},
   "outputs": [],
   "source": [
    "cwd = os.getcwd()\n",
    "train_data = open(f'{cwd}/data/preprocessed/train/sentences.txt', encoding='utf-8')\n",
    "text = train_data.read()\n",
    "train_data_doc = nlp(text)"
   ]
  },
  {
   "cell_type": "markdown",
   "metadata": {},
   "source": [
    "<h1><b>PART A</b></h1>"
   ]
  },
  {
   "cell_type": "markdown",
   "metadata": {},
   "source": [
    "<b>TASK 1</b><font color='red'> (must be included in file TODO_analyses.py)</font>"
   ]
  },
  {
   "cell_type": "code",
   "execution_count": 22,
   "metadata": {},
   "outputs": [
    {
     "name": "stdout",
     "output_type": "stream",
     "text": [
      "Number of Tokens: 16130\n",
      "Number of Words: 13242\n",
      "Number of Types: 3721\n",
      "Average number of words per sentence: 18.44\n",
      "Average word length: 3.57\n"
     ]
    }
   ],
   "source": [
    "word_frequencies = Counter()\n",
    "words_per_sentence = []\n",
    "\n",
    "for sentence in train_data_doc.sents:\n",
    "    words = []\n",
    "    words_single_sentence = 0\n",
    "    for token in sentence:\n",
    "        # Let's filter out punctuation and new lines (\"/n\")\n",
    "        if (not token.is_punct) and (not token.is_space):\n",
    "            words.append(token.text)\n",
    "            words_single_sentence += 1\n",
    "    words_per_sentence.append(words_single_sentence)\n",
    "    word_frequencies.update(words)\n",
    "\n",
    "#print(word_frequencies)\n",
    "num_tokens = len(train_data_doc)\n",
    "num_words = sum(word_frequencies.values())\n",
    "num_types = len(word_frequencies.keys())\n",
    "avg_num_words_per_sentence = sum(words_per_sentence) / len(words_per_sentence)\n",
    "avg_word_length = sum(len(word) for word in words) / len(words)\n",
    "\n",
    "print('Number of Tokens: ' + str(num_tokens))\n",
    "print('Number of Words: ' + str(num_words))\n",
    "print('Number of Types: ' + str(num_types))\n",
    "\n",
    "print('Average number of words per sentence: {number:.{digits}f}'.format(number = avg_num_words_per_sentence, digits = 2))\n",
    "print('Average word length: {number:.{digits}f}'.format(number = avg_word_length, digits = 2))"
   ]
  },
  {
   "cell_type": "markdown",
   "metadata": {},
   "source": [
    "<b>TASK 2</b><font color='red'> (must be included in file TODO_analyses.py)</font>"
   ]
  },
  {
   "cell_type": "code",
   "execution_count": 23,
   "metadata": {},
   "outputs": [
    {
     "name": "stdout",
     "output_type": "stream",
     "text": [
      "[('\\\\', 52), ('year', 29), ('report', 23)]\n",
      "[('\\\\', 211), ('US', 24), ('President', 19)]\n",
      "[('of', 352), ('in', 281), ('to', 153)]\n",
      "[('the', 723), ('a', 279), ('The', 124)]\n",
      "[('other', 26), ('Russian', 20), ('presidential', 18)]\n",
      "[('ants', 42), ('troops', 19), ('people', 15)]\n",
      "[(',', 697), (';', 1), ('…', 1)]\n",
      "[('.', 638), ('?', 16), ('!', 1)]\n",
      "[('\\n', 653)]\n",
      "[('accused', 12), ('reported', 8), ('known', 8)]\n",
      "('project', 1)\n",
      "('Navy', 1)\n",
      "('By', 1)\n",
      "('Each', 1)\n",
      "('Sebastian', 1)\n",
      "('areas', 1)\n",
      "('…', 1)\n",
      "('!', 1)\n",
      "('\\n', 653)\n",
      "('acquitted', 1)\n"
     ]
    }
   ],
   "source": [
    "pos_list = []\n",
    "\n",
    "NN_Noun = []\n",
    "NNP_Propn = []\n",
    "IN_Adp = []\n",
    "DT_Det = []\n",
    "JJ_Adj = []\n",
    "NNS_Noun = []\n",
    "COMMA_Punct = []\n",
    "PERIOD_Punct = []\n",
    "SP_Space = []\n",
    "VBN_Verb = []\n",
    "\n",
    "for token in train_data_doc:\n",
    "    #print(token.pos_, token.tag_)\n",
    "    pos_list.append('{}, {}'.format(token.pos_, token.tag_))\n",
    "    if ('{}, {}'.format(token.pos_, token.tag_) == 'NOUN, NN'):\n",
    "        NN_Noun.append(token.text)\n",
    "\n",
    "    elif ('{}, {}'.format(token.pos_, token.tag_) == 'PROPN, NNP'):\n",
    "        NNP_Propn.append(token.text)\n",
    "\n",
    "    elif ('{}, {}'.format(token.pos_, token.tag_) == 'ADP, IN'):\n",
    "        IN_Adp.append(token.text)\n",
    "\n",
    "    elif ('{}, {}'.format(token.pos_, token.tag_) == 'DET, DT'):\n",
    "        DT_Det.append(token.text)\n",
    "\n",
    "    elif ('{}, {}'.format(token.pos_, token.tag_) == 'ADJ, JJ'):\n",
    "        JJ_Adj.append(token.text)\n",
    "\n",
    "    elif ('{}, {}'.format(token.pos_, token.tag_) == 'NOUN, NNS'):\n",
    "        NNS_Noun.append(token.text)\n",
    "\n",
    "    elif ('{}, {}'.format(token.pos_, token.tag_) == 'PUNCT, ,'):\n",
    "        COMMA_Punct.append(token.text)\n",
    "\n",
    "    elif ('{}, {}'.format(token.pos_, token.tag_) == 'PUNCT, .'):\n",
    "        PERIOD_Punct.append(token.text)\n",
    "\n",
    "    elif ('{}, {}'.format(token.pos_, token.tag_) == 'SPACE, _SP'):\n",
    "        SP_Space.append(token.text)\n",
    "\n",
    "    elif ('{}, {}'.format(token.pos_, token.tag_) == 'VERB, VBN'):\n",
    "        VBN_Verb.append(token.text)\n",
    "\n",
    "\n",
    "# pos_frequencies = Counter(pos_list)\n",
    "# print(pos_frequencies)\n",
    "# print(round(pos_frequencies['NOUN, NN']/sum(pos_frequencies.values()), 2))\n",
    "# print(round(pos_frequencies['PROPN, NNP']/sum(pos_frequencies.values()), 2))\n",
    "# print(round(pos_frequencies['ADP, IN']/sum(pos_frequencies.values()), 2))\n",
    "# print(round(pos_frequencies['DET, DT']/sum(pos_frequencies.values()), 2))\n",
    "# print(round(pos_frequencies['ADJ, JJ']/sum(pos_frequencies.values()), 2))\n",
    "# print(round(pos_frequencies['NOUN, NNS']/sum(pos_frequencies.values()), 2))\n",
    "# print(round(pos_frequencies['PUNCT, ,']/sum(pos_frequencies.values()), 2))\n",
    "# print(round(pos_frequencies['PUNCT, .']/sum(pos_frequencies.values()), 2))\n",
    "# print(round(pos_frequencies['SPACE, _SP']/sum(pos_frequencies.values()), 2))\n",
    "# print(round(pos_frequencies['VERB, VBN']/sum(pos_frequencies.values()), 2))\n",
    "\n",
    "\n",
    "print(Counter(NN_Noun).most_common(3))\n",
    "print(Counter(NNP_Propn).most_common(3))\n",
    "print(Counter(IN_Adp).most_common(3))\n",
    "print(Counter(DT_Det).most_common(3))\n",
    "print(Counter(JJ_Adj).most_common(3))\n",
    "print(Counter(NNS_Noun).most_common(3))\n",
    "print(Counter(COMMA_Punct).most_common(3))\n",
    "print(Counter(PERIOD_Punct).most_common(3))\n",
    "print(Counter(SP_Space).most_common(3))\n",
    "print(Counter(VBN_Verb).most_common(3))\n",
    "\n",
    "#infrequent tokens\n",
    "print(Counter(NN_Noun).most_common()[-1])\n",
    "print(Counter(NNP_Propn).most_common()[-1])\n",
    "print(Counter(IN_Adp).most_common()[-1])\n",
    "print(Counter(DT_Det).most_common()[-1])\n",
    "print(Counter(JJ_Adj).most_common()[-1])\n",
    "print(Counter(NNS_Noun).most_common()[-1])\n",
    "print(Counter(COMMA_Punct).most_common()[-1])\n",
    "print(Counter(PERIOD_Punct).most_common()[-1])\n",
    "print(Counter(SP_Space).most_common()[-1])\n",
    "print(Counter(VBN_Verb).most_common()[-1])"
   ]
  },
  {
   "cell_type": "markdown",
   "metadata": {},
   "source": [
    "<b>TASK 3</b><font color='red'> (must be included in file TODO_analyses.py)</font>"
   ]
  },
  {
   "cell_type": "code",
   "execution_count": 24,
   "metadata": {},
   "outputs": [
    {
     "name": "stdout",
     "output_type": "stream",
     "text": [
      "[('\\\\\"', 240), ('of the', 82), (', and', 67)]\n",
      "[('DET NOUN', 780), ('NOUN PUNCT', 769), ('NOUN ADP', 707)]\n"
     ]
    }
   ],
   "source": [
    "ngrams = list(textacy.extract.basics.ngrams(train_data_doc, 2, filter_stops=False, filter_punct=False))\n",
    "ngrams = [str(i) for i in ngrams]\n",
    "ngrams_frequency = Counter(ngrams)\n",
    "print(ngrams_frequency.most_common(3))\n",
    "\n",
    "\n",
    "pos_list = [str(token.pos_) for token in train_data_doc] #nlp() needs string\n",
    "pos_list_string = nlp(' '.join(pos_list)) #textacy.extract.basics.ngrams() needs nlp()-element\n",
    "ngrams = list(textacy.extract.basics.ngrams(pos_list_string, 2))    #ATTENTION: textacy.extract.basics.ngrams() produces elements with type of \"spacy.tokens.span.Span\", not \"str\" -> Counter doesn't work for \"spacy.tokens.span.Span\"\n",
    "ngrams = [str(i) for i in ngrams]\n",
    "ngrams_frequency = Counter(ngrams)\n",
    "print(ngrams_frequency.most_common(3))"
   ]
  },
  {
   "cell_type": "markdown",
   "metadata": {},
   "source": [
    "<b>TASK 4</b><font color='red'> (must be included in file TODO_analyses.py)</font>"
   ]
  },
  {
   "cell_type": "code",
   "execution_count": 25,
   "metadata": {},
   "outputs": [
    {
     "name": "stdout",
     "output_type": "stream",
     "text": [
      "say\n",
      "['said', 'saying', 'says']\n",
      "3\n"
     ]
    }
   ],
   "source": [
    "for token_i in train_data_doc:\n",
    "    forms = []\n",
    "    counter = 0\n",
    "    lemma = token_i.lemma_\n",
    "    if str(token_i.lemma_) == 'be':\n",
    "        continue\n",
    "    for token_j in train_data_doc:\n",
    "        if str(token_j.lemma_) == str(token_i.lemma_):\n",
    "            token_j = str(token_j).lower()\n",
    "            if (token_j not in forms) and (token_j != lemma):\n",
    "                forms.append(token_j)\n",
    "                counter += 1\n",
    "    if counter > 2:\n",
    "        break\n",
    "\n",
    "print(lemma)\n",
    "print(forms)\n",
    "print(counter)"
   ]
  },
  {
   "cell_type": "markdown",
   "metadata": {},
   "source": [
    "<b>TASK 5</b><font color='red'> (must be included in file TODO_analyses.py)</font>"
   ]
  },
  {
   "cell_type": "code",
   "execution_count": 26,
   "metadata": {},
   "outputs": [
    {
     "name": "stdout",
     "output_type": "stream",
     "text": [
      "1627\n",
      "17\n",
      "dict_keys(['DATE', 'GPE', 'ORDINAL', 'CARDINAL', 'ORG', 'PERSON', 'LAW', 'QUANTITY', 'NORP', 'TIME', 'EVENT', 'LOC', 'PERCENT', 'MONEY', 'PRODUCT', 'FAC', 'WORK_OF_ART'])\n"
     ]
    },
    {
     "data": {
      "text/html": [
       "<span class=\"tex2jax_ignore\"><div class=\"entities\" style=\"line-height: 2.5; direction: ltr\">children are thought to be aged \n",
       "<mark class=\"entity\" style=\"background: #bfe1d9; padding: 0.45em 0.6em; margin: 0 0.25em; line-height: 1; border-radius: 0.35em;\">\n",
       "    three , eight\n",
       "    <span style=\"font-size: 0.8em; font-weight: bold; line-height: 1; border-radius: 0.35em; vertical-align: middle; margin-left: 0.5rem\">DATE</span>\n",
       "</mark>\n",
       " , and \n",
       "<mark class=\"entity\" style=\"background: #bfe1d9; padding: 0.45em 0.6em; margin: 0 0.25em; line-height: 1; border-radius: 0.35em;\">\n",
       "    ten years\n",
       "    <span style=\"font-size: 0.8em; font-weight: bold; line-height: 1; border-radius: 0.35em; vertical-align: middle; margin-left: 0.5rem\">DATE</span>\n",
       "</mark>\n",
       " , alongside an \n",
       "<mark class=\"entity\" style=\"background: #bfe1d9; padding: 0.45em 0.6em; margin: 0 0.25em; line-height: 1; border-radius: 0.35em;\">\n",
       "    eighteen-month-old\n",
       "    <span style=\"font-size: 0.8em; font-weight: bold; line-height: 1; border-radius: 0.35em; vertical-align: middle; margin-left: 0.5rem\">DATE</span>\n",
       "</mark>\n",
       " baby .</div></span>"
      ],
      "text/plain": [
       "<IPython.core.display.HTML object>"
      ]
     },
     "metadata": {},
     "output_type": "display_data"
    },
    {
     "data": {
      "text/html": [
       "<span class=\"tex2jax_ignore\"><div class=\"entities\" style=\"line-height: 2.5; direction: ltr\"></br>We mixed different concentrations of \n",
       "<mark class=\"entity\" style=\"background: #feca74; padding: 0.45em 0.6em; margin: 0 0.25em; line-height: 1; border-radius: 0.35em;\">\n",
       "    ROS\n",
       "    <span style=\"font-size: 0.8em; font-weight: bold; line-height: 1; border-radius: 0.35em; vertical-align: middle; margin-left: 0.5rem\">GPE</span>\n",
       "</mark>\n",
       " with the spores , plated them out on petridishes with an agar-solution where fungus can grow on .</div></span>"
      ],
      "text/plain": [
       "<IPython.core.display.HTML object>"
      ]
     },
     "metadata": {},
     "output_type": "display_data"
    },
    {
     "name": "stderr",
     "output_type": "stream",
     "text": [
      "/home/damion/anaconda3/envs/NLPT/lib/python3.8/site-packages/spacy/displacy/__init__.py:192: UserWarning: [W006] No entities to visualize found in Doc object. If this is surprising to you, make sure the Doc was processed using a model that supports named entity recognition, and check the `doc.ents` property manually if necessary.\n",
      "  warnings.warn(Warnings.W006)\n"
     ]
    },
    {
     "data": {
      "text/html": [
       "<span class=\"tex2jax_ignore\"><div class=\"entities\" style=\"line-height: 2.5; direction: ltr\"></br>They feel they are under-represented in higher education and are suffering in a regional economic downturn .</div></span>"
      ],
      "text/plain": [
       "<IPython.core.display.HTML object>"
      ]
     },
     "metadata": {},
     "output_type": "display_data"
    },
    {
     "data": {
      "text/html": [
       "<span class=\"tex2jax_ignore\"><div class=\"entities\" style=\"line-height: 2.5; direction: ltr\"></br>Especially as it concerns a \n",
       "<mark class=\"entity\" style=\"background: #e4e7d2; padding: 0.45em 0.6em; margin: 0 0.25em; line-height: 1; border-radius: 0.35em;\">\n",
       "    third\n",
       "    <span style=\"font-size: 0.8em; font-weight: bold; line-height: 1; border-radius: 0.35em; vertical-align: middle; margin-left: 0.5rem\">ORDINAL</span>\n",
       "</mark>\n",
       " party building up its military presence near our borders .</div></span>"
      ],
      "text/plain": [
       "<IPython.core.display.HTML object>"
      ]
     },
     "metadata": {},
     "output_type": "display_data"
    },
    {
     "data": {
      "text/html": [
       "<span class=\"tex2jax_ignore\"><div class=\"entities\" style=\"line-height: 2.5; direction: ltr\"></br>Police said \n",
       "<mark class=\"entity\" style=\"background: #e4e7d2; padding: 0.45em 0.6em; margin: 0 0.25em; line-height: 1; border-radius: 0.35em;\">\n",
       "    three\n",
       "    <span style=\"font-size: 0.8em; font-weight: bold; line-height: 1; border-radius: 0.35em; vertical-align: middle; margin-left: 0.5rem\">CARDINAL</span>\n",
       "</mark>\n",
       " children were hospitalised for \n",
       "<mark class=\"entity\" style=\"background: #7aecec; padding: 0.45em 0.6em; margin: 0 0.25em; line-height: 1; border-radius: 0.35em;\">\n",
       "    \\\n",
       "    <span style=\"font-size: 0.8em; font-weight: bold; line-height: 1; border-radius: 0.35em; vertical-align: middle; margin-left: 0.5rem\">ORG</span>\n",
       "</mark>\n",
       "&quot; severe dehydration \\&quot; .</div></span>"
      ],
      "text/plain": [
       "<IPython.core.display.HTML object>"
      ]
     },
     "metadata": {},
     "output_type": "display_data"
    }
   ],
   "source": [
    "print(len(train_data_doc.ents))\n",
    "print(len(Counter([ent.label_ for ent in train_data_doc.ents]).keys()))\n",
    "print(Counter([ent.label_ for ent in train_data_doc.ents]).keys())\n",
    "stop_counter = 0\n",
    "for sentence in train_data_doc.sents:\n",
    "   stop_counter += 1\n",
    "   displacy.render(sentence, jupyter=True, style='ent')\n",
    "   if stop_counter == 5: break"
   ]
  },
  {
   "cell_type": "markdown",
   "metadata": {},
   "source": [
    "<h1><b>PART B</b></h1>"
   ]
  },
  {
   "cell_type": "code",
   "execution_count": 27,
   "metadata": {},
   "outputs": [],
   "source": [
    "#wiki_news_train = open('C:/Users/mpete/OneDrive/Desktop/Uni/Master_DBI/Period_5/NLP/Assignments/Assignment_1/intro2nlp_assignment1_code/data/original/english/WikiNews_Train.tsv', encoding='utf-8')\n",
    "wiki_news_train_df = pd.read_table(f'{cwd}/data/original/english/WikiNews_Train.tsv', header = None)\n",
    "wiki_news_train_df.columns = ['ID', 'sentence', 'start_index', 'end_index', 'target_word', 'nat', 'non-nat', 'nat diff', 'non-nat diff', 'binary', 'prob']"
   ]
  },
  {
   "cell_type": "markdown",
   "metadata": {},
   "source": [
    "<b>TASK 7</b><font color='red'> (must be included in file TODO_analyses.py)</font>"
   ]
  },
  {
   "cell_type": "code",
   "execution_count": 28,
   "metadata": {},
   "outputs": [
    {
     "name": "stdout",
     "output_type": "stream",
     "text": [
      "Counter({0: 4530, 1: 3216})\n",
      "0.0\n",
      "1.0\n",
      "0.0\n",
      "0.08394655305964374\n",
      "0.16967909326094677\n",
      "1086\n",
      "10\n"
     ]
    }
   ],
   "source": [
    "print(Counter(wiki_news_train_df['binary']))\n",
    "print((wiki_news_train_df['prob'].min()))\n",
    "print((wiki_news_train_df['prob']).max())\n",
    "print((wiki_news_train_df['prob']).median())\n",
    "print((wiki_news_train_df['prob']).mean())\n",
    "print((wiki_news_train_df['prob']).std())\n",
    "\n",
    "counter = 0\n",
    "max_num_of_tokens = 0\n",
    "for instance in wiki_news_train_df['target_word']:\n",
    "    instance = nlp(instance)\n",
    "    tokens_per_instance = [token.text for token in instance]\n",
    "    if len(tokens_per_instance) > 1:\n",
    "        counter += 1\n",
    "    if len(tokens_per_instance) > max_num_of_tokens:\n",
    "        max_num_of_tokens = len(tokens_per_instance)\n",
    "\n",
    "print(counter)\n",
    "print(max_num_of_tokens)"
   ]
  },
  {
   "cell_type": "markdown",
   "metadata": {},
   "source": [
    "<b>TASK 8</b><font color='red'> (must be included in file TODO_analyses.py)</font>"
   ]
  },
  {
   "cell_type": "code",
   "execution_count": 29,
   "metadata": {},
   "outputs": [],
   "source": [
    "length_tokens = []\n",
    "frequency = []\n",
    "prob = []\n",
    "pos = []\n",
    "\n",
    "\n",
    "#filter only instances with one token and which are labeled as complex from at least one annotator\n",
    "for index, row in wiki_news_train_df.iterrows():\n",
    "    instance = nlp(row['target_word'])\n",
    "    tokens_per_instance = [token for token in instance]\n",
    "    if (len(tokens_per_instance) == 1) and (row['binary'] == 1):\n",
    "        length_tokens.append(len(tokens_per_instance[0].text))   \n",
    "        frequency.append(zipf_frequency(tokens_per_instance[0].text, 'en'))\n",
    "        prob.append(row['prob'])\n",
    "        pos.append(tokens_per_instance[0].pos_)\n"
   ]
  },
  {
   "cell_type": "code",
   "execution_count": 30,
   "metadata": {},
   "outputs": [
    {
     "name": "stdout",
     "output_type": "stream",
     "text": [
      "Pearson correlation length and complexity: (0.3020751387042099, 4.103410007102572e-52)\n",
      "Pearson correlation frequency and complexity: (-0.26876915450151273, 3.2226022021238034e-41)\n"
     ]
    }
   ],
   "source": [
    "# print(\"Pearson correlation length and complexity: {}\".format(np.corrcoef(length_tokens, prob)))\n",
    "# print(\"Pearson correlation frequency and complexity: {}\".format(np.corrcoef(frequency, prob)))\n",
    "\n",
    "print(\"Pearson correlation length and complexity: {}\".format(pearsonr(length_tokens, prob)))\n",
    "print(\"Pearson correlation frequency and complexity: {}\".format(pearsonr(frequency, prob)))"
   ]
  },
  {
   "cell_type": "code",
   "execution_count": 31,
   "metadata": {},
   "outputs": [
    {
     "data": {
      "image/png": "[encoded data removed]",
      "text/plain": [
       "<Figure size 432x288 with 1 Axes>"
      ]
     },
     "metadata": {
      "needs_background": "light"
     },
     "output_type": "display_data"
    }
   ],
   "source": [
    "plt.scatter(length_tokens, prob)\n",
    "plt.xlabel(\"Length Tokens\")\n",
    "plt.ylabel(\"Probabilistic complexity\")\n",
    "plt.show()"
   ]
  },
  {
   "cell_type": "code",
   "execution_count": 32,
   "metadata": {},
   "outputs": [
    {
     "data": {
      "image/png": "[encoded data removed]",
      "text/plain": [
       "<Figure size 432x288 with 1 Axes>"
      ]
     },
     "metadata": {
      "needs_background": "light"
     },
     "output_type": "display_data"
    }
   ],
   "source": [
    "plt.scatter(frequency, prob)\n",
    "plt.xlabel(\"Frequency\")\n",
    "plt.ylabel(\"Probabilistic complexity\")\n",
    "plt.show()"
   ]
  },
  {
   "cell_type": "code",
   "execution_count": 33,
   "metadata": {},
   "outputs": [
    {
     "data": {
      "image/png": "[encoded data removed]",
      "text/plain": [
       "<Figure size 432x288 with 1 Axes>"
      ]
     },
     "metadata": {
      "needs_background": "light"
     },
     "output_type": "display_data"
    }
   ],
   "source": [
    "plt.scatter(pos, prob)\n",
    "plt.xlabel(\"Part-of-Speech\")\n",
    "plt.ylabel(\"Probabilistic complexity\")\n",
    "plt.show()"
   ]
  },
  {
   "cell_type": "markdown",
   "metadata": {},
   "source": [
    "<b>TASK 10</b><font color='red'> (must be included in file TODO_baselines.py)</font>"
   ]
  },
  {
   "cell_type": "code",
   "execution_count": 34,
   "metadata": {},
   "outputs": [],
   "source": [
    "# Implement four baselines for the task.\n",
    "# Majority baseline: always assigns the majority class of the training data\n",
    "# Random baseline: randomly assigns one of the classes. Make sure to set a random seed and average the accuracy over 100 runs.\n",
    "# Length baseline: determines the class based on a length threshold\n",
    "# Frequency baseline: determines the class based on a frequency threshold\n",
    "\n",
    "from model.data_loader import DataLoader\n",
    "\n",
    "# Each baseline returns predictions for the test data. The length and frequency baselines determine a threshold using the development data.\n",
    "\n",
    "def majority_baseline(train_sentences, train_labels, testinput, testlabels):\n",
    "    #find out about majority  class in training data\n",
    "    predictions = []\n",
    "    for instance in train_labels:   \n",
    "        tokens = instance.split(\" \")\n",
    "        for i in tokens:         \n",
    "            if i == 'N\\n':\n",
    "                i = 'N'\n",
    "            elif i == 'C\\n':\n",
    "                i = 'C'\n",
    "            predictions.append(i)\n",
    "            \n",
    "    majority_class = Counter(predictions).most_common()[0][0]\n",
    "    #assign to each token (word) in test data the majority class as predicted value\n",
    "    predictions = []\n",
    "    for instance in testinput:\n",
    "        tokens = instance.split(\" \")\n",
    "        for _ in tokens:\n",
    "            predictions.append(majority_class)\n",
    "    \n",
    "    test_labels = []\n",
    "    for instance in testlabels:\n",
    "        tokens = instance.split(\" \")\n",
    "        for i in tokens:         \n",
    "            if i == 'N\\n':\n",
    "                i = 'N'\n",
    "            elif i == 'C\\n':\n",
    "                i = 'C'\n",
    "            test_labels.append(i)\n",
    "\n",
    "    #calculate accuracy\n",
    "    correct_labeled = 0\n",
    "    for i in range(len(predictions)):\n",
    "        if predictions[i] == test_labels[i]:\n",
    "            correct_labeled += 1\n",
    "\n",
    "    accuracy = round(correct_labeled/len(predictions), 2)\n",
    "    return accuracy, predictions\n",
    "\n",
    "\n",
    "\n",
    "\n",
    "def random_baseline(train_sentences, train_labels, testinput, testlabels):\n",
    "    predictions = []\n",
    "    for instance in train_labels:   \n",
    "        tokens = instance.split(\" \")\n",
    "        for i in tokens:         \n",
    "            if i == 'N\\n':\n",
    "                i = 'N'\n",
    "            elif i == 'C\\n':\n",
    "                i = 'C'\n",
    "            predictions.append(i)\n",
    "    \n",
    "    distinct_labels = list(set(predictions))\n",
    "\n",
    "    test_labels = []\n",
    "    for instance in testlabels:\n",
    "        tokens = instance.split(\" \")\n",
    "        for i in tokens:         \n",
    "            if i == 'N\\n':\n",
    "                i = 'N'\n",
    "            elif i == 'C\\n':\n",
    "                i = 'C'\n",
    "            test_labels.append(i)\n",
    "\n",
    "    #assign random label to test output 100 times and average accuracy\n",
    "    accuracies = []\n",
    "    for i in range (100):\n",
    "        random.seed(i)\n",
    "        predictions = []\n",
    "        for instance in testinput:\n",
    "            tokens = instance.split(\" \")\n",
    "            for _ in tokens:\n",
    "                predictions.append(random.choice(distinct_labels))\n",
    "        \n",
    "        #calculate accuracy after each iteration with new random seed\n",
    "        correct_labeled = 0\n",
    "        for i in range(len(predictions)):\n",
    "            if predictions[i] == test_labels[i]:\n",
    "                correct_labeled += 1\n",
    "\n",
    "        random_accuracy = round(correct_labeled/len(predictions), 2)\n",
    "        accuracies.append(random_accuracy)\n",
    "    \n",
    "    accuracy = round(sum(accuracies)/len(accuracies), 2)\n",
    "    return accuracy, predictions   \n",
    "\n",
    "\n",
    "\n",
    "def length_baseline(testinput, testlabels, length_threshold):  \n",
    "    test_labels = []\n",
    "    for instance in testlabels:\n",
    "        tokens = instance.split(\" \")\n",
    "        for i in tokens:         \n",
    "            if i == 'N\\n':\n",
    "                i = 'N'\n",
    "            elif i == 'C\\n':\n",
    "                i = 'C'\n",
    "            test_labels.append(i)\n",
    "    \n",
    "    predictions = []\n",
    "    for sentence in testinput:\n",
    "        tokens = sentence.split(\" \")\n",
    "        for token in tokens:\n",
    "            if len(token) >= length_threshold:\n",
    "                predictions.append('C')\n",
    "            else: \n",
    "                predictions.append('N')\n",
    "\n",
    "    #calculate accuracy\n",
    "    correct_labeled = 0\n",
    "    for i in range(len(predictions)):\n",
    "        if predictions[i] == test_labels[i]:\n",
    "            correct_labeled += 1\n",
    "\n",
    "    accuracy = round(correct_labeled/len(predictions), 2)\n",
    "    return accuracy, predictions  \n",
    "\n",
    "\n",
    "\n",
    "def frequency_baseline(testinput, testlabels, frequency_threshold):\n",
    "    test_labels = []\n",
    "    for instance in testlabels:\n",
    "        tokens = instance.split(\" \")\n",
    "        for i in tokens:         \n",
    "            if i == 'N\\n':\n",
    "                i = 'N'\n",
    "            elif i == 'C\\n':\n",
    "                i = 'C'\n",
    "            test_labels.append(i)\n",
    "\n",
    "    predictions = []\n",
    "    for sentence in testinput:\n",
    "        tokens = sentence.split(\" \")\n",
    "        for token in tokens:\n",
    "            if zipf_frequency(token, 'en') <= frequency_threshold:\n",
    "                predictions.append('C')\n",
    "            else: \n",
    "                predictions.append('N')\n",
    "\n",
    "    #calculate accuracy\n",
    "    correct_labeled = 0\n",
    "    for i in range(len(predictions)):\n",
    "        if predictions[i] == test_labels[i]:\n",
    "            correct_labeled += 1\n",
    "\n",
    "    accuracy = round(correct_labeled/len(predictions), 2)\n",
    "    return accuracy, predictions  \n",
    "\n",
    "if __name__ == '__main__':\n",
    "    dir_path = cwd\n",
    "    train_path = dir_path + \"/data/preprocessed/train/\"\n",
    "    dev_path = dir_path + \"/data/preprocessed/val/\"          #changed from \"/dev/\" to \"/val/\" because there exists no \"dev\" folder\n",
    "    test_path = dir_path + \"/data/preprocessed/test/\"\n",
    "\n",
    "    # Note: this loads all instances into memory. If you work with bigger files in the future, use an iterator instead.\n",
    "\n",
    "    with open(train_path + \"sentences.txt\") as sent_file:\n",
    "        train_sentences = sent_file.readlines()\n",
    "\n",
    "    with open(train_path + \"labels.txt\") as label_file:\n",
    "        train_labels = label_file.readlines()\n",
    "\n",
    "    with open(dev_path + \"sentences.txt\") as dev_file:\n",
    "        dev_sentences = dev_file.readlines()\n",
    "\n",
    "    with open(dev_path + \"labels.txt\") as dev_label_file:       #changed from \"train_path\" to \"dev_path\"\n",
    "        dev_labels = dev_label_file.readlines()\n",
    "\n",
    "    with open(test_path + \"sentences.txt\") as testfile:\n",
    "        testinput = testfile.readlines()\n",
    "\n",
    "    with open(test_path + \"labels.txt\") as test_label_file:\n",
    "        testlabels = test_label_file.readlines()\n",
    "        \n",
    "    length_threshold = 8   #accuracy best at threshold 8         \n",
    "    frequency_threshold = 4.52  #accuracy best at zipf-frequency-threshold 4.52\n",
    "    dev_majority_accuracy, dev_majority_predictions = majority_baseline(train_sentences, train_labels, dev_sentences, dev_labels)\n",
    "    dev_random_accuracy, dev_random_predictions = random_baseline(train_sentences, train_labels, dev_sentences, dev_labels)\n",
    "    dev_length_accuracy, dev_length_predictions = length_baseline(dev_sentences, dev_labels, length_threshold)\n",
    "    dev_frequency_accuracy, dev_frequency_predictions = frequency_baseline(dev_sentences, dev_labels, frequency_threshold)\n",
    "\n",
    "    test_majority_accuracy, test_majority_predictions = majority_baseline(train_sentences, train_labels, testinput, testlabels)\n",
    "    test_random_accuracy, test_random_predictions = random_baseline(train_sentences, train_labels, testinput, testlabels)\n",
    "    test_length_accuracy, test_length_predictions = length_baseline(testinput, testlabels, length_threshold)\n",
    "    test_frequency_accuracy, test_frequency_predictions = frequency_baseline(testinput, testlabels, frequency_threshold)\n",
    " \n",
    "\n",
    "    baselines = [\"Majority\", \"Random\", \"Length\", \"Frequency\"]\n",
    "    acc_dev = [dev_majority_accuracy, dev_random_accuracy, dev_length_accuracy, dev_frequency_accuracy]\n",
    "    acc_test = [test_majority_accuracy, test_random_accuracy, test_length_accuracy, test_frequency_accuracy]\n",
    "    baseline_df = pd.DataFrame({\"Baseline\":baselines, \"Accuracy on dev\": acc_dev, \"Accuracy on test\":acc_test})\n",
    "    \n"
   ]
  },
  {
   "cell_type": "code",
   "execution_count": 35,
   "metadata": {},
   "outputs": [
    {
     "data": {
      "text/html": [
       "<div>\n",
       "<style scoped>\n",
       "    .dataframe tbody tr th:only-of-type {\n",
       "        vertical-align: middle;\n",
       "    }\n",
       "\n",
       "    .dataframe tbody tr th {\n",
       "        vertical-align: top;\n",
       "    }\n",
       "\n",
       "    .dataframe thead th {\n",
       "        text-align: right;\n",
       "    }\n",
       "</style>\n",
       "<table border=\"1\" class=\"dataframe\">\n",
       "  <thead>\n",
       "    <tr style=\"text-align: right;\">\n",
       "      <th></th>\n",
       "      <th>Baseline</th>\n",
       "      <th>Accuracy on dev</th>\n",
       "      <th>Accuracy on test</th>\n",
       "    </tr>\n",
       "  </thead>\n",
       "  <tbody>\n",
       "    <tr>\n",
       "      <th>0</th>\n",
       "      <td>Majority</td>\n",
       "      <td>0.85</td>\n",
       "      <td>0.80</td>\n",
       "    </tr>\n",
       "    <tr>\n",
       "      <th>1</th>\n",
       "      <td>Random</td>\n",
       "      <td>0.50</td>\n",
       "      <td>0.50</td>\n",
       "    </tr>\n",
       "    <tr>\n",
       "      <th>2</th>\n",
       "      <td>Length</td>\n",
       "      <td>0.88</td>\n",
       "      <td>0.87</td>\n",
       "    </tr>\n",
       "    <tr>\n",
       "      <th>3</th>\n",
       "      <td>Frequency</td>\n",
       "      <td>0.75</td>\n",
       "      <td>0.76</td>\n",
       "    </tr>\n",
       "  </tbody>\n",
       "</table>\n",
       "</div>"
      ],
      "text/plain": [
       "    Baseline  Accuracy on dev  Accuracy on test\n",
       "0   Majority             0.85              0.80\n",
       "1     Random             0.50              0.50\n",
       "2     Length             0.88              0.87\n",
       "3  Frequency             0.75              0.76"
      ]
     },
     "execution_count": 35,
     "metadata": {},
     "output_type": "execute_result"
    }
   ],
   "source": [
    "baseline_df.head()"
   ]
  },
  {
   "cell_type": "markdown",
   "metadata": {},
   "source": [
    "<h1><b>PART C</b></h1>"
   ]
  },
  {
   "cell_type": "markdown",
   "metadata": {},
   "source": [
    "<b>TASK 12</b>\n",
    "<font color='red'>(must be included in file TODO_detailed_evaluation.py)</font>"
   ]
  },
  {
   "cell_type": "code",
   "execution_count": 36,
   "metadata": {},
   "outputs": [
    {
     "ename": "FileNotFoundError",
     "evalue": "[Errno 2] No such file or directory: '/home/damion/VU/NLPT/NLPT/experiments/base_model/model_output.tsv'",
     "output_type": "error",
     "traceback": [
      "\u001b[0;31m---------------------------------------------------------------------------\u001b[0m",
      "\u001b[0;31mFileNotFoundError\u001b[0m                         Traceback (most recent call last)",
      "\u001b[1;32m/home/damion/VU/NLPT/NLPT/Assignment_1_Marcel.ipynb Cell 29'\u001b[0m in \u001b[0;36m<cell line: 17>\u001b[0;34m()\u001b[0m\n\u001b[1;32m     <a href='vscode-notebook-cell:/home/damion/VU/NLPT/NLPT/Assignment_1_Marcel.ipynb#ch0000028?line=18'>19</a>\u001b[0m \u001b[39mwith\u001b[39;00m \u001b[39mopen\u001b[39m(cwd \u001b[39m+\u001b[39m \u001b[39m\"\u001b[39m\u001b[39m/data/preprocessed/test/labels.txt\u001b[39m\u001b[39m\"\u001b[39m) \u001b[39mas\u001b[39;00m test_label_file:\n\u001b[1;32m     <a href='vscode-notebook-cell:/home/damion/VU/NLPT/NLPT/Assignment_1_Marcel.ipynb#ch0000028?line=19'>20</a>\u001b[0m     testlabels \u001b[39m=\u001b[39m test_label_file\u001b[39m.\u001b[39mreadlines()\n\u001b[0;32m---> <a href='vscode-notebook-cell:/home/damion/VU/NLPT/NLPT/Assignment_1_Marcel.ipynb#ch0000028?line=21'>22</a>\u001b[0m \u001b[39mwith\u001b[39;00m \u001b[39mopen\u001b[39;49m(cwd \u001b[39m+\u001b[39;49m \u001b[39m\"\u001b[39;49m\u001b[39m/experiments/base_model/model_output.tsv\u001b[39;49m\u001b[39m\"\u001b[39;49m) \u001b[39mas\u001b[39;00m model_output:\n\u001b[1;32m     <a href='vscode-notebook-cell:/home/damion/VU/NLPT/NLPT/Assignment_1_Marcel.ipynb#ch0000028?line=22'>23</a>\u001b[0m     lstm_output \u001b[39m=\u001b[39m model_output\u001b[39m.\u001b[39mreadlines()\n\u001b[1;32m     <a href='vscode-notebook-cell:/home/damion/VU/NLPT/NLPT/Assignment_1_Marcel.ipynb#ch0000028?line=24'>25</a>\u001b[0m test_labels \u001b[39m=\u001b[39m []\n",
      "\u001b[0;31mFileNotFoundError\u001b[0m: [Errno 2] No such file or directory: '/home/damion/VU/NLPT/NLPT/experiments/base_model/model_output.tsv'"
     ]
    }
   ],
   "source": [
    "#-> LSTM was evaluated on test data, so we calculate precision, recall and F1 based on the results on the test data\n",
    "\n",
    "def get_lstm_predictions(lstm_output):\n",
    "    '''\n",
    "    First column is gold label, Second column is prediction\n",
    "    '''\n",
    "    predictions = []\n",
    "    for instance in lstm_output:\n",
    "        tokens = instance.split(\"\\t\")\n",
    "        if len(tokens) != 3: continue   #ignore separating rows   \n",
    "        if tokens[2] == 'N\\n':\n",
    "            predictions.append('N')\n",
    "        elif tokens[2] == 'C\\n':\n",
    "            predictions.append('C')\n",
    "    return predictions\n",
    "\n",
    "if __name__ == '__main__':\n",
    "\n",
    "    with open(cwd + \"/data/preprocessed/test/labels.txt\") as test_label_file:\n",
    "        testlabels = test_label_file.readlines()\n",
    "\n",
    "    with open(cwd + \"/experiments/base_model/model_output.tsv\") as model_output:\n",
    "        lstm_output = model_output.readlines()\n",
    "\n",
    "    test_labels = []\n",
    "    for instance in testlabels:\n",
    "        tokens = instance.split(\" \")\n",
    "        for i in tokens:         \n",
    "            if i == 'N\\n':\n",
    "                i = 'N'\n",
    "            elif i == 'C\\n':\n",
    "                i = 'C'\n",
    "            test_labels.append(i)\n",
    "    \n",
    "    num_N_labels  = Counter(test_labels).most_common()[0][1]\n",
    "    num_C_labels = Counter(test_labels).most_common()[1][1]\n",
    "    print(num_N_labels)\n",
    "    print(num_C_labels)\n",
    "\n",
    "    _, test_majority_predictions = majority_baseline(train_sentences, train_labels, testinput, testlabels)\n",
    "    _, test_random_predictions = random_baseline(train_sentences, train_labels, testinput, testlabels)\n",
    "    _, test_length_predictions = length_baseline(testinput, testlabels, length_threshold)\n",
    "    _, test_frequency_predictions = frequency_baseline(testinput, testlabels, frequency_threshold)\n",
    "    lstm_prediction = get_lstm_predictions(lstm_output)\n",
    "\n",
    "\n",
    "    # WHEN CLASS 'N' IS TRUE POSITIV\n",
    "    # what is fp, fn, tp, tn depends on order of labels-argument in confusion matrix function, first element in labels-list is TP\n",
    "    print(sklearn.metrics.confusion_matrix(test_labels, test_majority_predictions, labels = ['C', 'N']))\n",
    "    # print(sklearn.metrics.confusion_matrix(test_labels, test_random_predictions, labels = ['N', 'C']))\n",
    "    # print(sklearn.metrics.confusion_matrix(test_labels, test_length_predictions, labels = ['N', 'C']))\n",
    "    # print(sklearn.metrics.confusion_matrix(test_labels, test_frequency_predictions, labels = ['N', 'C']))\n",
    "    # print(sklearn.metrics.confusion_matrix(test_labels, lstm_prediction, labels = ['N', 'C']))\n",
    "\n",
    "    # pos_label determines TP\n",
    "    print(\"Scores with 'N' as TP:\")\n",
    "    print(\"Precision score majority baseline: \" + str(sklearn.metrics.precision_score(test_labels, test_majority_predictions, pos_label='N')))\n",
    "    print(\"Precision score random baseline: \" + str(sklearn.metrics.precision_score(test_labels, test_random_predictions, pos_label='N')))\n",
    "    print(\"Precision score length baseline: \" + str(sklearn.metrics.precision_score(test_labels, test_length_predictions, pos_label='N')))\n",
    "    print(\"Precision score frequency baseline: \" + str(sklearn.metrics.precision_score(test_labels, test_frequency_predictions, pos_label='N')))\n",
    "    print(\"Precision score LSTM: \" + str(sklearn.metrics.precision_score(test_labels, lstm_prediction, pos_label='N')))\n",
    "    print()\n",
    "    print(\"Recall score majority baseline: \" + str(sklearn.metrics.recall_score(test_labels, test_majority_predictions, pos_label='N')))\n",
    "    print(\"Recall score random baseline: \" + str(sklearn.metrics.recall_score(test_labels, test_random_predictions, pos_label='N')))\n",
    "    print(\"Recall score length baseline: \" + str(sklearn.metrics.recall_score(test_labels, test_length_predictions, pos_label='N')))\n",
    "    print(\"Recall score frequency baseline: \" + str(sklearn.metrics.recall_score(test_labels, test_frequency_predictions, pos_label='N')))\n",
    "    print(\"Recall score LSTM: \" + str(sklearn.metrics.recall_score(test_labels, lstm_prediction, pos_label='N')))\n",
    "    print()\n",
    "    print(\"F1 score majority baseline: \" + str(sklearn.metrics.f1_score(test_labels, test_majority_predictions, pos_label='N')))\n",
    "    print(\"F1 score random baseline: \" + str(sklearn.metrics.f1_score(test_labels, test_random_predictions, pos_label='N')))\n",
    "    print(\"F1 score length baseline: \" + str(sklearn.metrics.f1_score(test_labels, test_length_predictions, pos_label='N')))\n",
    "    print(\"F1 score frequency baseline: \" + str(sklearn.metrics.f1_score(test_labels, test_frequency_predictions, pos_label='N')))\n",
    "    print(\"F1 score LSTM: \" + str(sklearn.metrics.f1_score(test_labels, lstm_prediction, pos_label='N')))\n",
    "\n",
    "    # WHEN CLASS 'C' IS TRUE POSITIV\n",
    "    print(\"\\nScores with 'C' as TP:\")\n",
    "    print(\"Precision score majority baseline: \" + str(sklearn.metrics.precision_score(test_labels, test_majority_predictions, pos_label='C')))\n",
    "    print(\"Precision score random baseline: \" + str(sklearn.metrics.precision_score(test_labels, test_random_predictions, pos_label='C')))\n",
    "    print(\"Precision score length baseline: \" + str(sklearn.metrics.precision_score(test_labels, test_length_predictions, pos_label='C')))\n",
    "    print(\"Precision score frequency baseline: \" + str(sklearn.metrics.precision_score(test_labels, test_frequency_predictions, pos_label='C')))\n",
    "    print(\"Precision score LSTM: \" + str(sklearn.metrics.precision_score(test_labels, lstm_prediction, pos_label='C')))\n",
    "    print()\n",
    "    print(\"Recall score majority baseline: \" + str(sklearn.metrics.recall_score(test_labels, test_majority_predictions, pos_label='C')))\n",
    "    print(\"Recall score random baseline: \" + str(sklearn.metrics.recall_score(test_labels, test_random_predictions, pos_label='C')))\n",
    "    print(\"Recall score length baseline: \" + str(sklearn.metrics.recall_score(test_labels, test_length_predictions, pos_label='C')))\n",
    "    print(\"Recall score frequency baseline: \" + str(sklearn.metrics.recall_score(test_labels, test_frequency_predictions, pos_label='C')))\n",
    "    print(\"Recall score LSTM: \" + str(sklearn.metrics.recall_score(test_labels, lstm_prediction, pos_label='C')))\n",
    "    print()\n",
    "    print(\"F1 score majority baseline: \" + str(sklearn.metrics.f1_score(test_labels, test_majority_predictions, pos_label='C')))\n",
    "    print(\"F1 score random baseline: \" + str(sklearn.metrics.f1_score(test_labels, test_random_predictions, pos_label='C')))\n",
    "    print(\"F1 score length baseline: \" + str(sklearn.metrics.f1_score(test_labels, test_length_predictions, pos_label='C')))\n",
    "    print(\"F1 score frequency baseline: \" + str(sklearn.metrics.f1_score(test_labels, test_frequency_predictions, pos_label='C')))\n",
    "    print(\"F1 score LSTM: \" + str(sklearn.metrics.f1_score(test_labels, lstm_prediction, pos_label='C')))\n",
    "\n",
    "    # WEIGHTEST F1 SCORES\n",
    "    print(\"\\nWeighted F1-score majority baseline: \"+ str(sklearn.metrics.f1_score(test_labels, test_majority_predictions, average='weighted')))\n",
    "    print(\"Weighted F1-score random baseline: \"+ str(sklearn.metrics.f1_score(test_labels, test_random_predictions, average='weighted')))\n",
    "    print(\"Weighted F1-score length baseline: \"+ str(sklearn.metrics.f1_score(test_labels, test_length_predictions, average='weighted')))\n",
    "    print(\"Weighted F1-score frequency baseline: \"+ str(sklearn.metrics.f1_score(test_labels, test_frequency_predictions, average='weighted')))\n",
    "    print(\"Weighted F1-score LSTM: \"+ str(sklearn.metrics.f1_score(test_labels, lstm_prediction, average='weighted')))\n",
    "\n",
    "    \n",
    "    # print(sklearn.metrics.recall_score(test_labels, lstm_prediction, pos_label='C'))\n",
    "\n",
    "    # print(sklearn.metrics.f1_score(test_labels, lstm_prediction, pos_label='C'))\n",
    "\n"
   ]
  },
  {
   "cell_type": "markdown",
   "metadata": {},
   "source": [
    "<b>TASK 14</b>\n",
    "<font color='red'>(must be included in file TODO_detailed_evaluation.py)</font>"
   ]
  },
  {
   "cell_type": "code",
   "execution_count": null,
   "metadata": {},
   "outputs": [],
   "source": [
    "with open(cwd + \"/experiments/base_model/model_output.tsv\") as model_output:\n",
    "    lstm_output = model_output.readlines()\n",
    " \n",
    "f = open(cwd + \"/experiments/base_model/params.json\")\n",
    "params = json.load(f)\n",
    "\n",
    "lstm_prediction = get_lstm_predictions(lstm_output)\n",
    "\n",
    "weighted_F1_score_LSTM = sklearn.metrics.f1_score(test_labels, lstm_prediction, average='weighted')\n",
    "\n",
    "#created a new file 'Weighted_F1_scores.txt' to save F1 scores and predictions for differnet hyperparamter values\n",
    "with open(cwd + '/Weighted_F1_scores.txt', 'a') as f:\n",
    "    f.write(str(params['learning_rate']) + \" \")\n",
    "    f.write(str(weighted_F1_score_LSTM) + \" \")\n",
    "    for i in lstm_prediction:\n",
    "        f.write(str(i) + \" \")\n",
    "    f.write(\"\\n\")"
   ]
  },
  {
   "cell_type": "code",
   "execution_count": null,
   "metadata": {},
   "outputs": [],
   "source": [
    "learning_rates = []\n",
    "weighted_f1_scores = []\n",
    "lstm_predictions = []\n",
    "\n",
    "with open(cwd + '/Weighted_F1_scores.txt', 'r') as f:\n",
    "    LSTM_metrics_output = f.readlines()\n",
    "\n",
    "for instance in LSTM_metrics_output:\n",
    "    output = instance.split(\" \")\n",
    "    learning_rates.append(float(output[0]))\n",
    "    weighted_f1_scores.append(round(float(output[1]), 3))\n",
    "    single_model_predictions = []\n",
    "    for i in range(2, len(output)):\n",
    "        if output[i] == '\\n': continue\n",
    "        else: single_model_predictions.append(output[i])\n",
    "    lstm_predictions.append(single_model_predictions)\n",
    "\n",
    "print(learning_rates)\n",
    "print(weighted_f1_scores)\n",
    "print(lstm_predictions)"
   ]
  },
  {
   "cell_type": "code",
   "execution_count": null,
   "metadata": {},
   "outputs": [
    {
     "ename": "NameError",
     "evalue": "name 'learning_rates' is not defined",
     "output_type": "error",
     "traceback": [
      "\u001b[0;31m---------------------------------------------------------------------------\u001b[0m",
      "\u001b[0;31mNameError\u001b[0m                                 Traceback (most recent call last)",
      "\u001b[1;32m/home/damion/VU/NLPT/NLPT/Assignment_1_Marcel.ipynb Cell 33'\u001b[0m in \u001b[0;36m<cell line: 1>\u001b[0;34m()\u001b[0m\n\u001b[0;32m----> <a href='vscode-notebook-cell:/home/damion/VU/NLPT/NLPT/Assignment_1_Marcel.ipynb#ch0000032?line=0'>1</a>\u001b[0m plt\u001b[39m.\u001b[39mplot(learning_rates, weighted_f1_scores, marker\u001b[39m=\u001b[39m\u001b[39m'\u001b[39m\u001b[39mo\u001b[39m\u001b[39m'\u001b[39m)\n\u001b[1;32m      <a href='vscode-notebook-cell:/home/damion/VU/NLPT/NLPT/Assignment_1_Marcel.ipynb#ch0000032?line=1'>2</a>\u001b[0m plt\u001b[39m.\u001b[39mxlabel(\u001b[39m\"\u001b[39m\u001b[39mLearning Rate\u001b[39m\u001b[39m\"\u001b[39m)\n\u001b[1;32m      <a href='vscode-notebook-cell:/home/damion/VU/NLPT/NLPT/Assignment_1_Marcel.ipynb#ch0000032?line=2'>3</a>\u001b[0m plt\u001b[39m.\u001b[39mylabel(\u001b[39m\"\u001b[39m\u001b[39mWeighted F1 Score\u001b[39m\u001b[39m\"\u001b[39m)\n",
      "\u001b[0;31mNameError\u001b[0m: name 'learning_rates' is not defined"
     ]
    }
   ],
   "source": [
    "plt.plot(learning_rates, weighted_f1_scores, marker='o')\n",
    "plt.xlabel(\"Learning Rate\")\n",
    "plt.ylabel(\"Weighted F1 Score\")\n",
    "plt.xticks(rotation=45)\n",
    "plt.show()"
   ]
  },
  {
   "cell_type": "code",
   "execution_count": 18,
   "metadata": {},
   "outputs": [
    {
     "ename": "NameError",
     "evalue": "name 'lstm_predictions' is not defined",
     "output_type": "error",
     "traceback": [
      "\u001b[0;31m---------------------------------------------------------------------------\u001b[0m",
      "\u001b[0;31mNameError\u001b[0m                                 Traceback (most recent call last)",
      "\u001b[1;32m/home/damion/VU/NLPT/NLPT/Assignment_1_Marcel.ipynb Cell 34'\u001b[0m in \u001b[0;36m<cell line: 16>\u001b[0;34m()\u001b[0m\n\u001b[1;32m     <a href='vscode-notebook-cell:/home/damion/VU/NLPT/NLPT/Assignment_1_Marcel.ipynb#ch0000033?line=12'>13</a>\u001b[0m         test_tokens\u001b[39m.\u001b[39mappend(i)\n\u001b[1;32m     <a href='vscode-notebook-cell:/home/damion/VU/NLPT/NLPT/Assignment_1_Marcel.ipynb#ch0000033?line=14'>15</a>\u001b[0m \u001b[39m#find prediction changes for hyperparameter changes\u001b[39;00m\n\u001b[0;32m---> <a href='vscode-notebook-cell:/home/damion/VU/NLPT/NLPT/Assignment_1_Marcel.ipynb#ch0000033?line=15'>16</a>\u001b[0m \u001b[39mfor\u001b[39;00m i \u001b[39min\u001b[39;00m \u001b[39mrange\u001b[39m(\u001b[39mlen\u001b[39m(lstm_predictions)\u001b[39m-\u001b[39m\u001b[39m1\u001b[39m):\n\u001b[1;32m     <a href='vscode-notebook-cell:/home/damion/VU/NLPT/NLPT/Assignment_1_Marcel.ipynb#ch0000033?line=16'>17</a>\u001b[0m     \u001b[39mfor\u001b[39;00m j \u001b[39min\u001b[39;00m \u001b[39mrange\u001b[39m(\u001b[39mlen\u001b[39m(lstm_predictions[i])):\n\u001b[1;32m     <a href='vscode-notebook-cell:/home/damion/VU/NLPT/NLPT/Assignment_1_Marcel.ipynb#ch0000033?line=17'>18</a>\u001b[0m         \u001b[39mif\u001b[39;00m lstm_predictions[i][j] \u001b[39m!=\u001b[39m lstm_predictions[i\u001b[39m+\u001b[39m\u001b[39m1\u001b[39m][j]:\n",
      "\u001b[0;31mNameError\u001b[0m: name 'lstm_predictions' is not defined"
     ]
    }
   ],
   "source": [
    "with open(cwd + \"/data/preprocessed/test/sentences.txt\") as test_sentences:\n",
    "    test_sentences = test_sentences.readlines()\n",
    "\n",
    "#get all tokens from test dataset\n",
    "test_tokens = []\n",
    "for instance in test_sentences:\n",
    "    tokens = instance.split(\" \")\n",
    "    for i in tokens:         \n",
    "        if i == 'N\\n':\n",
    "            i = 'N'\n",
    "        elif i == 'C\\n':\n",
    "            i = 'C'\n",
    "        test_tokens.append(i)\n",
    "\n",
    "#find prediction changes for hyperparameter changes\n",
    "for i in range(len(lstm_predictions)-1):\n",
    "    for j in range(len(lstm_predictions[i])):\n",
    "        if lstm_predictions[i][j] != lstm_predictions[i+1][j]:\n",
    "            print(\"Hyperparam value \" + str(i) + \" vs Hyperparam value \" + str(i+1) + \"-> for Token: \" + str(test_tokens[j]) + \" , the prediction has changed from \" + str(lstm_predictions[i][j] + \" to \" + str(lstm_predictions[i+1][j])))\n"
   ]
  }
 ],
 "metadata": {
  "interpreter": {
   "hash": "528bc499b8fb4c180646b30b3825587cc8d369adecbe10e918de4c75a96f10a1"
  },
  "kernelspec": {
   "display_name": "Python 3.8.13 ('NLP')",
   "language": "python",
   "name": "python3"
  },
  "language_info": {
   "codemirror_mode": {
    "name": "ipython",
    "version": 3
   },
   "file_extension": ".py",
   "mimetype": "text/x-python",
   "name": "python",
   "nbconvert_exporter": "python",
   "pygments_lexer": "ipython3",
   "version": "3.8.13"
  },
  "orig_nbformat": 4
 },
 "nbformat": 4,
 "nbformat_minor": 2
}
